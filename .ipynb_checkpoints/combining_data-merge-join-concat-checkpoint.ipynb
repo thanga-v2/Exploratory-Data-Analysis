{
 "cells": [
  {
   "cell_type": "code",
   "execution_count": null,
   "id": "14fd4f0b-05b4-414f-b753-ac6aeab0bbae",
   "metadata": {},
   "outputs": [],
   "source": [
    "# merge() for combining data on common columns or indices\n",
    "\n",
    "# join() for combining data on a key column or an index\n",
    "\n",
    "# concat() for combining DataFrames across rows or columns"
   ]
  },
  {
   "cell_type": "code",
   "execution_count": 3,
   "id": "cf4f31ed-5566-498b-b8b5-6b751c0a5ade",
   "metadata": {},
   "outputs": [
    {
     "name": "stdout",
     "output_type": "stream",
     "text": [
      "             STATION            STATION_NAME ELEVATION  LATITUDE   LONGITUDE  \\\n",
      "0  GHCND:USC00049099  TWENTYNINE PALMS CA US       602  34.12806  -116.03694   \n",
      "1  GHCND:USC00049099  TWENTYNINE PALMS CA US       602  34.12806  -116.03694   \n",
      "2  GHCND:USC00049099  TWENTYNINE PALMS CA US       602  34.12806  -116.03694   \n",
      "\n",
      "       DATE  DLY-CLDD-BASE45  DLY-CLDD-BASE50  DLY-CLDD-BASE55  \\\n",
      "0  20100101                6                2            -7777   \n",
      "1  20100102                6                2                1   \n",
      "2  20100103                6                2                1   \n",
      "\n",
      "   DLY-CLDD-BASE57  ...  DLY-CLDD-NORMAL  DLY-CLDD-BASE70  DLY-CLDD-BASE72  \\\n",
      "0            -7777  ...                0                0                0   \n",
      "1            -7777  ...                0                0                0   \n",
      "2            -7777  ...                0                0                0   \n",
      "\n",
      "   DLY-HTDD-BASE40  DLY-HTDD-BASE45  DLY-HTDD-BASE50  DLY-HTDD-BASE55  \\\n",
      "0            -7777                1                2                6   \n",
      "1            -7777                1                2                6   \n",
      "2            -7777                1                2                5   \n",
      "\n",
      "   DLY-HTDD-BASE57  DLY-HTDD-BASE60  DLY-HTDD-NORMAL  \n",
      "0                7               10               15  \n",
      "1                7               10               15  \n",
      "2                7               10               15  \n",
      "\n",
      "[3 rows x 21 columns]\n",
      "             STATION            STATION_NAME      DATE  DLY-PRCP-25PCTL  \\\n",
      "0  GHCND:USC00049099  TWENTYNINE PALMS CA US  20100101            -6.66   \n",
      "1  GHCND:USC00049099  TWENTYNINE PALMS CA US  20100102            -6.66   \n",
      "2  GHCND:USC00049099  TWENTYNINE PALMS CA US  20100103            -6.66   \n",
      "\n",
      "   DLY-SNWD-25PCTL  DLY-SNOW-25PCTL  DLY-PRCP-50PCTL  DLY-SNWD-50PCTL  \\\n",
      "0             -666            -66.6            -6.66             -666   \n",
      "1             -666            -66.6            -6.66             -666   \n",
      "2             -666            -66.6            -6.66             -666   \n",
      "\n",
      "   DLY-SNOW-50PCTL  DLY-PRCP-75PCTL  ...  DLY-PRCP-PCTALL-GE100HI  \\\n",
      "0            -66.6            -6.66  ...                        3   \n",
      "1            -66.6            -6.66  ...                        3   \n",
      "2            -66.6            -6.66  ...                        3   \n",
      "\n",
      "   DLY-SNWD-PCTALL-GE001WI  DLY-SNWD-PCTALL-GE010WI  DLY-SNWD-PCTALL-GE003WI  \\\n",
      "0                    -9999                        0                    -9999   \n",
      "1                    -9999                        0                    -9999   \n",
      "2                    -9999                        0                    -9999   \n",
      "\n",
      "   DLY-SNWD-PCTALL-GE005WI  DLY-SNOW-PCTALL-GE001TI  DLY-SNOW-PCTALL-GE010TI  \\\n",
      "0                    -9999                    -9999                    -9999   \n",
      "1                    -9999                    -9999                    -9999   \n",
      "2                    -9999                    -9999                    -9999   \n",
      "\n",
      "   DLY-SNOW-PCTALL-GE100TI  DLY-SNOW-PCTALL-GE030TI  DLY-SNOW-PCTALL-GE050TI  \n",
      "0                        0                    -9999                    -9999  \n",
      "1                        0                    -9999                    -9999  \n",
      "2                        0                    -9999                    -9999  \n",
      "\n",
      "[3 rows x 29 columns]\n"
     ]
    }
   ],
   "source": [
    "import pandas as pd\n",
    "\n",
    "data1 = pd.read_csv('data/climate_temp.csv')\n",
    "data2 = pd.read_csv('data/climate_precip.csv')\n",
    "\n",
    "print(data1.head(3))\n",
    "print(data2.head(3))"
   ]
  },
  {
   "cell_type": "code",
   "execution_count": 5,
   "id": "c21b7c02-fc8c-46f4-a163-22f7fa4daa4e",
   "metadata": {},
   "outputs": [
    {
     "name": "stdout",
     "output_type": "stream",
     "text": [
      "(127020, 21)\n",
      "(151110, 29)\n"
     ]
    }
   ],
   "source": [
    "print(data1.shape)\n",
    "print(data2.shape)"
   ]
  },
  {
   "cell_type": "code",
   "execution_count": 17,
   "id": "e0051054-dffd-4b62-ba18-93796c44588a",
   "metadata": {},
   "outputs": [
    {
     "data": {
      "text/plain": [
       "(365, 29)"
      ]
     },
     "execution_count": 17,
     "metadata": {},
     "output_type": "execute_result"
    }
   ],
   "source": [
    "precip_one_station = data2.query(\"STATION == 'GHCND:USC00045721'\")\n",
    "precip_one_station.head(5)\n",
    "precip_one_station.shape"
   ]
  },
  {
   "cell_type": "code",
   "execution_count": 21,
   "id": "1b4d726e-632d-47d2-bf1f-7abfb9cf204a",
   "metadata": {},
   "outputs": [
    {
     "name": "stdout",
     "output_type": "stream",
     "text": [
      "--\n",
      "\n"
     ]
    },
    {
     "data": {
      "text/plain": [
       "Index(['STATION', 'STATION_NAME', 'DATE', 'DLY-PRCP-25PCTL', 'DLY-SNWD-25PCTL',\n",
       "       'DLY-SNOW-25PCTL', 'DLY-PRCP-50PCTL', 'DLY-SNWD-50PCTL',\n",
       "       'DLY-SNOW-50PCTL', 'DLY-PRCP-75PCTL', 'DLY-SNWD-75PCTL',\n",
       "       'DLY-SNOW-75PCTL', 'MTD-PRCP-NORMAL', 'MTD-SNOW-NORMAL',\n",
       "       'YTD-PRCP-NORMAL', 'YTD-SNOW-NORMAL', 'DLY-PRCP-PCTALL-GE001HI',\n",
       "       'DLY-PRCP-PCTALL-GE010HI', 'DLY-PRCP-PCTALL-GE050HI',\n",
       "       'DLY-PRCP-PCTALL-GE100HI', 'DLY-SNWD-PCTALL-GE001WI',\n",
       "       'DLY-SNWD-PCTALL-GE010WI', 'DLY-SNWD-PCTALL-GE003WI',\n",
       "       'DLY-SNWD-PCTALL-GE005WI', 'DLY-SNOW-PCTALL-GE001TI',\n",
       "       'DLY-SNOW-PCTALL-GE010TI', 'DLY-SNOW-PCTALL-GE100TI',\n",
       "       'DLY-SNOW-PCTALL-GE030TI', 'DLY-SNOW-PCTALL-GE050TI'],\n",
       "      dtype='object')"
      ]
     },
     "execution_count": 21,
     "metadata": {},
     "output_type": "execute_result"
    }
   ],
   "source": [
    "print(data1.columns)\n",
    "print('--\\n')\n",
    "precip_one_station.columns"
   ]
  }
 ],
 "metadata": {
  "kernelspec": {
   "display_name": "Python 3 (ipykernel)",
   "language": "python",
   "name": "python3"
  },
  "language_info": {
   "codemirror_mode": {
    "name": "ipython",
    "version": 3
   },
   "file_extension": ".py",
   "mimetype": "text/x-python",
   "name": "python",
   "nbconvert_exporter": "python",
   "pygments_lexer": "ipython3",
   "version": "3.9.5"
  }
 },
 "nbformat": 4,
 "nbformat_minor": 5
}
