{
 "cells": [
  {
   "cell_type": "markdown",
   "metadata": {
    "id": "whSVhscb5mp6"
   },
   "source": [
    "#Provided by AI SOCIETY.\n",
    "##Trainer- Sameer Nigam"
   ]
  },
  {
   "cell_type": "markdown",
   "metadata": {
    "id": "Vjmmxu1c5mqE"
   },
   "source": [
    "# NumPy Exercises \n",
    "\n",
    "Now that we've learned about NumPy let's test your knowledge. We'll start off with a few simple tasks, and then you'll be asked some more complicated questions."
   ]
  },
  {
   "cell_type": "markdown",
   "metadata": {
    "id": "I6VNePza5mqN"
   },
   "source": [
    "#### Import NumPy as np"
   ]
  },
  {
   "cell_type": "code",
   "execution_count": 3,
   "metadata": {
    "id": "i9ZkXVEg5mqP"
   },
   "outputs": [],
   "source": [
    "import numpy as np"
   ]
  },
  {
   "cell_type": "markdown",
   "metadata": {
    "id": "3HH017mw5mqR"
   },
   "source": [
    "#### Create an array of 10 zeros "
   ]
  },
  {
   "cell_type": "code",
   "execution_count": 8,
   "metadata": {
    "id": "8QswcrIe5mqT",
    "outputId": "c1171c04-8fae-4022-d5ab-5340bfb08ac1"
   },
   "outputs": [
    {
     "data": {
      "text/plain": [
       "array([0., 0., 0., 0., 0., 0., 0., 0., 0., 0.])"
      ]
     },
     "execution_count": 8,
     "metadata": {},
     "output_type": "execute_result"
    }
   ],
   "source": [
    "arr = np.zeros(10)\n",
    "arr"
   ]
  },
  {
   "cell_type": "markdown",
   "metadata": {
    "id": "LaDDsX6S5mqW"
   },
   "source": [
    "#### Create an array of 10 ones"
   ]
  },
  {
   "cell_type": "code",
   "execution_count": 9,
   "metadata": {
    "id": "MvT7zQ8M5mqY",
    "outputId": "797217da-2602-4576-97f7-de9296ace08c"
   },
   "outputs": [
    {
     "data": {
      "text/plain": [
       "array([1., 1., 1., 1., 1., 1., 1., 1., 1., 1.])"
      ]
     },
     "execution_count": 9,
     "metadata": {},
     "output_type": "execute_result"
    }
   ],
   "source": [
    "np.ones(10)"
   ]
  },
  {
   "cell_type": "markdown",
   "metadata": {
    "id": "ijBEipMe5mqb"
   },
   "source": [
    "#### Create an array of 10 fives"
   ]
  },
  {
   "cell_type": "code",
   "execution_count": 10,
   "metadata": {
    "id": "6KoZYiYh5mqd",
    "outputId": "765a6b81-b45a-4ee0-8cd2-d5a81ddbc3a7"
   },
   "outputs": [
    {
     "data": {
      "text/plain": [
       "array([5., 5., 5., 5., 5., 5., 5., 5., 5., 5.])"
      ]
     },
     "execution_count": 10,
     "metadata": {},
     "output_type": "execute_result"
    }
   ],
   "source": [
    "np.ones(10)*5"
   ]
  },
  {
   "cell_type": "markdown",
   "metadata": {
    "id": "01rUgqnQ5mqe"
   },
   "source": [
    "Create an array of the integers from 10 to 50"
   ]
  },
  {
   "cell_type": "code",
   "execution_count": 15,
   "metadata": {
    "id": "9ssKUlJc5mqf",
    "outputId": "9cfd4faf-6fc5-455a-f46d-2e9195f6c106"
   },
   "outputs": [
    {
     "data": {
      "text/plain": [
       "array([10, 11, 12, 13, 14, 15, 16, 17, 18, 19, 20, 21, 22, 23, 24, 25, 26,\n",
       "       27, 28, 29, 30, 31, 32, 33, 34, 35, 36, 37, 38, 39, 40, 41, 42, 43,\n",
       "       44, 45, 46, 47, 48, 49])"
      ]
     },
     "execution_count": 15,
     "metadata": {},
     "output_type": "execute_result"
    }
   ],
   "source": [
    "np.arange(10,50,1)"
   ]
  },
  {
   "cell_type": "markdown",
   "metadata": {
    "id": "ngKuxW3f5mqg"
   },
   "source": [
    "Create an array of all the even integers from 10 to 50"
   ]
  },
  {
   "cell_type": "code",
   "execution_count": 17,
   "metadata": {
    "id": "a78mahUF5mqh",
    "outputId": "0dab8d14-1d58-4b62-acad-5b49a0e54568"
   },
   "outputs": [
    {
     "data": {
      "text/plain": [
       "array([10.        , 10.81632653, 11.63265306, 12.44897959, 13.26530612,\n",
       "       14.08163265, 14.89795918, 15.71428571, 16.53061224, 17.34693878,\n",
       "       18.16326531, 18.97959184, 19.79591837, 20.6122449 , 21.42857143,\n",
       "       22.24489796, 23.06122449, 23.87755102, 24.69387755, 25.51020408,\n",
       "       26.32653061, 27.14285714, 27.95918367, 28.7755102 , 29.59183673,\n",
       "       30.40816327, 31.2244898 , 32.04081633, 32.85714286, 33.67346939,\n",
       "       34.48979592, 35.30612245, 36.12244898, 36.93877551, 37.75510204,\n",
       "       38.57142857, 39.3877551 , 40.20408163, 41.02040816, 41.83673469,\n",
       "       42.65306122, 43.46938776, 44.28571429, 45.10204082, 45.91836735,\n",
       "       46.73469388, 47.55102041, 48.36734694, 49.18367347, 50.        ])"
      ]
     },
     "execution_count": 17,
     "metadata": {},
     "output_type": "execute_result"
    }
   ],
   "source": [
    "np.linspace(10,50)"
   ]
  },
  {
   "cell_type": "markdown",
   "metadata": {
    "id": "jBWttJI95mqj"
   },
   "source": [
    "Create a 3x3 matrix with values ranging from 0 to 8"
   ]
  },
  {
   "cell_type": "code",
   "execution_count": 23,
   "metadata": {
    "id": "HWRlUedN5mqk",
    "outputId": "8dc1dc2d-9909-40b6-91e0-6a84d6901729"
   },
   "outputs": [
    {
     "data": {
      "text/plain": [
       "array([[0, 1, 2],\n",
       "       [3, 4, 5],\n",
       "       [6, 7, 8]])"
      ]
     },
     "execution_count": 23,
     "metadata": {},
     "output_type": "execute_result"
    }
   ],
   "source": [
    "np.arange(0,9).reshape(3,3)"
   ]
  },
  {
   "cell_type": "markdown",
   "metadata": {
    "id": "PogLKBYx5mql"
   },
   "source": [
    "#### Create a 3x3 identity matrix"
   ]
  },
  {
   "cell_type": "code",
   "execution_count": 24,
   "metadata": {
    "id": "z68n4NtW5mqm",
    "outputId": "b911ae1c-7cd3-49d4-8125-2c576fafd916"
   },
   "outputs": [
    {
     "data": {
      "text/plain": [
       "array([[1., 0., 0.],\n",
       "       [0., 1., 0.],\n",
       "       [0., 0., 1.]])"
      ]
     },
     "execution_count": 24,
     "metadata": {},
     "output_type": "execute_result"
    }
   ],
   "source": [
    "np.eye(3,3)"
   ]
  },
  {
   "cell_type": "markdown",
   "metadata": {
    "id": "yJXwiOpj5mqn"
   },
   "source": [
    "#### Use NumPy to generate a random number between 0 and 1"
   ]
  },
  {
   "cell_type": "code",
   "execution_count": 67,
   "metadata": {
    "id": "MR1b8jXA5mqn",
    "outputId": "cfbd2b29-c827-498b-d884-c463369a2d99"
   },
   "outputs": [
    {
     "data": {
      "text/plain": [
       "0.08885493635381592"
      ]
     },
     "execution_count": 67,
     "metadata": {},
     "output_type": "execute_result"
    }
   ],
   "source": [
    "\n",
    "# to generate random num betwwen 0 and 1\n",
    "\n",
    "np.random.random()"
   ]
  },
  {
   "cell_type": "code",
   "execution_count": 128,
   "metadata": {
    "id": "MR1b8jXA5mqn",
    "outputId": "cfbd2b29-c827-498b-d884-c463369a2d99"
   },
   "outputs": [
    {
     "data": {
      "text/plain": [
       "array([[0.88355588, 0.76997469],\n",
       "       [0.23961543, 0.10381475],\n",
       "       [0.18629732, 0.75272027]])"
      ]
     },
     "execution_count": 128,
     "metadata": {},
     "output_type": "execute_result"
    }
   ],
   "source": [
    "\n",
    "# to generate an array of random num betwwen 0 and 1\n",
    "\n",
    "np.random.random(size=(3,2))"
   ]
  },
  {
   "cell_type": "code",
   "execution_count": 123,
   "metadata": {
    "id": "MR1b8jXA5mqn",
    "outputId": "cfbd2b29-c827-498b-d884-c463369a2d99"
   },
   "outputs": [
    {
     "data": {
      "text/plain": [
       "array([[0.56817485, 0.48549235],\n",
       "       [0.65370437, 0.5366294 ],\n",
       "       [0.9957389 , 0.14198246]])"
      ]
     },
     "execution_count": 123,
     "metadata": {},
     "output_type": "execute_result"
    }
   ],
   "source": [
    "\n",
    "# to generate an array of random num betwwen 0 and 1 and including np seed\n",
    "\n",
    "# np.random.seed(26)\n",
    "np.random.random(size=(3,2))"
   ]
  },
  {
   "cell_type": "code",
   "execution_count": 120,
   "metadata": {
    "id": "MR1b8jXA5mqn",
    "outputId": "cfbd2b29-c827-498b-d884-c463369a2d99"
   },
   "outputs": [
    {
     "data": {
      "text/plain": [
       "array([[0.30793495, 0.51939148],\n",
       "       [0.76829766, 0.78922074],\n",
       "       [0.87056206, 0.18792139]])"
      ]
     },
     "execution_count": 120,
     "metadata": {},
     "output_type": "execute_result"
    }
   ],
   "source": [
    "\n",
    "# to generate an array of random num betwwen 0 and 1 and including np seed\n",
    "\n",
    "np.random.seed(26)\n",
    "np.random.random(size=(3,2))"
   ]
  },
  {
   "cell_type": "markdown",
   "metadata": {
    "id": "OPP_ADaA5mqs"
   },
   "source": [
    "#### Use NumPy to generate an array of 25 random numbers sampled from a standard normal distribution"
   ]
  },
  {
   "cell_type": "code",
   "execution_count": 166,
   "metadata": {
    "id": "-vQO7Kew5mqt",
    "outputId": "0ba8de17-dfcb-4940-8db2-3125cf8d29c3"
   },
   "outputs": [
    {
     "data": {
      "text/plain": [
       "array([-0.3748229 ,  2.40268454, -0.29319476,  0.27241812,  0.47225944,\n",
       "       -0.49577812, -0.40948323,  0.2628685 , -0.22347101,  0.04360985,\n",
       "        0.28718123,  0.76586638, -1.86654523, -0.90243152,  0.45117988,\n",
       "        0.99035382,  1.05993603, -0.62138511, -0.59623361, -1.15962469,\n",
       "        0.16338074,  0.68487667, -0.12748422,  0.94911071,  0.98822601])"
      ]
     },
     "execution_count": 166,
     "metadata": {},
     "output_type": "execute_result"
    }
   ],
   "source": [
    "# random.randn -> normal distribution\n",
    "\n",
    "test = np.random.randn(25)\n",
    "test"
   ]
  },
  {
   "cell_type": "code",
   "execution_count": 198,
   "metadata": {
    "id": "-vQO7Kew5mqt",
    "outputId": "0ba8de17-dfcb-4940-8db2-3125cf8d29c3"
   },
   "outputs": [
    {
     "data": {
      "text/plain": [
       "array([[15, 20, 19,  5, 17],\n",
       "       [ 1,  3, 16,  7, 18],\n",
       "       [ 2, 19, 11,  0, 13],\n",
       "       [ 4,  2,  5,  0,  0],\n",
       "       [17,  6, 16, 19, 20]])"
      ]
     },
     "execution_count": 198,
     "metadata": {},
     "output_type": "execute_result"
    }
   ],
   "source": [
    "# random.randint -> discrete uniform distribution\n",
    "\n",
    "test = np.random.randint(0,25, size=(5,5))\n",
    "test"
   ]
  },
  {
   "cell_type": "markdown",
   "metadata": {
    "id": "HOJmwW6X5mqu"
   },
   "source": [
    "#### Create the following matrix:"
   ]
  },
  {
   "cell_type": "code",
   "execution_count": 225,
   "metadata": {
    "id": "9JR1VOTS5mqv",
    "outputId": "fcbea246-8c03-4bba-84b7-19df191ff848"
   },
   "outputs": [
    {
     "data": {
      "text/plain": [
       "array([[0.01, 0.02, 0.03, 0.04, 0.05, 0.06, 0.07, 0.08, 0.09, 0.1 ],\n",
       "       [0.11, 0.12, 0.13, 0.14, 0.15, 0.16, 0.17, 0.18, 0.19, 0.2 ],\n",
       "       [0.21, 0.22, 0.23, 0.24, 0.25, 0.26, 0.27, 0.28, 0.29, 0.3 ],\n",
       "       [0.31, 0.32, 0.33, 0.34, 0.35, 0.36, 0.37, 0.38, 0.39, 0.4 ],\n",
       "       [0.41, 0.42, 0.43, 0.44, 0.45, 0.46, 0.47, 0.48, 0.49, 0.5 ],\n",
       "       [0.51, 0.52, 0.53, 0.54, 0.55, 0.56, 0.57, 0.58, 0.59, 0.6 ],\n",
       "       [0.61, 0.62, 0.63, 0.64, 0.65, 0.66, 0.67, 0.68, 0.69, 0.7 ],\n",
       "       [0.71, 0.72, 0.73, 0.74, 0.75, 0.76, 0.77, 0.78, 0.79, 0.8 ],\n",
       "       [0.81, 0.82, 0.83, 0.84, 0.85, 0.86, 0.87, 0.88, 0.89, 0.9 ],\n",
       "       [0.91, 0.92, 0.93, 0.94, 0.95, 0.96, 0.97, 0.98, 0.99, 1.  ]])"
      ]
     },
     "execution_count": 225,
     "metadata": {},
     "output_type": "execute_result"
    }
   ],
   "source": [
    "np.arange(0.01,1.01,0.01).reshape(10,10)"
   ]
  },
  {
   "cell_type": "markdown",
   "metadata": {
    "id": "vHPKEExL5mqw"
   },
   "source": [
    "#### Create an array of 20 linearly spaced points between 0 and 1:"
   ]
  },
  {
   "cell_type": "code",
   "execution_count": 207,
   "metadata": {
    "id": "f5sWoflC5mqx",
    "outputId": "15bc1de7-5e93-425d-fb81-b7bd3b59b5f3"
   },
   "outputs": [
    {
     "data": {
      "text/plain": [
       "array([0.        , 0.05263158, 0.10526316, 0.15789474, 0.21052632,\n",
       "       0.26315789, 0.31578947, 0.36842105, 0.42105263, 0.47368421,\n",
       "       0.52631579, 0.57894737, 0.63157895, 0.68421053, 0.73684211,\n",
       "       0.78947368, 0.84210526, 0.89473684, 0.94736842, 1.        ])"
      ]
     },
     "execution_count": 207,
     "metadata": {},
     "output_type": "execute_result"
    }
   ],
   "source": [
    "np.linspace(0,1,20)"
   ]
  },
  {
   "cell_type": "markdown",
   "metadata": {
    "id": "8XpZ1TbI5mqx"
   },
   "source": [
    "## Numpy Indexing and Selection\n",
    "\n",
    "Now you will be given a few matrices, and be asked to replicate the resulting matrix outputs:"
   ]
  },
  {
   "cell_type": "code",
   "execution_count": 251,
   "metadata": {
    "id": "puOigpvh5mqy",
    "outputId": "68772c40-8635-4984-b23b-224645bc7328"
   },
   "outputs": [
    {
     "data": {
      "text/plain": [
       "array([[ 1,  2,  3,  4,  5],\n",
       "       [ 6,  7,  8,  9, 10],\n",
       "       [11, 12, 13, 14, 15],\n",
       "       [16, 17, 18, 19, 20],\n",
       "       [21, 22, 23, 24, 25]])"
      ]
     },
     "execution_count": 251,
     "metadata": {},
     "output_type": "execute_result"
    }
   ],
   "source": [
    "mat = np.arange(1,26).reshape(5,5)\n",
    "mat"
   ]
  },
  {
   "cell_type": "code",
   "execution_count": null,
   "metadata": {
    "id": "StczrFTN5mq1"
   },
   "outputs": [],
   "source": [
    "# WRITE CODE HERE THAT REPRODUCES THE OUTPUT OF THE CELL BELOW\n",
    "# BE CAREFUL NOT TO RUN THE CELL BELOW, OTHERWISE YOU WON'T\n",
    "# BE ABLE TO SEE THE OUTPUT ANY MORE"
   ]
  },
  {
   "cell_type": "code",
   "execution_count": null,
   "metadata": {
    "id": "-5mF5LQE5mq2",
    "outputId": "f912d504-ccdd-4b6b-a1d0-4eee5f8a8270"
   },
   "outputs": [],
   "source": []
  },
  {
   "cell_type": "code",
   "execution_count": null,
   "metadata": {
    "collapsed": true,
    "id": "J0XSct7K5mq3",
    "jupyter": {
     "outputs_hidden": true
    }
   },
   "outputs": [],
   "source": [
    "# WRITE CODE HERE THAT REPRODUCES THE OUTPUT OF THE CELL BELOW\n",
    "# BE CAREFUL NOT TO RUN THE CELL BELOW, OTHERWISE YOU WON'T\n",
    "# BE ABLE TO SEE THE OUTPUT ANY MORE"
   ]
  },
  {
   "cell_type": "code",
   "execution_count": 249,
   "metadata": {
    "id": "o6023GKs5mq5",
    "outputId": "db97a026-dc20-4272-9576-d18e90df8ba7"
   },
   "outputs": [
    {
     "data": {
      "text/plain": [
       "20"
      ]
     },
     "execution_count": 249,
     "metadata": {},
     "output_type": "execute_result"
    }
   ],
   "source": [
    "mat[3,4]"
   ]
  },
  {
   "cell_type": "code",
   "execution_count": null,
   "metadata": {
    "collapsed": true,
    "id": "tLCbanmx5mq6",
    "jupyter": {
     "outputs_hidden": true
    }
   },
   "outputs": [],
   "source": [
    "# WRITE CODE HERE THAT REPRODUCES THE OUTPUT OF THE CELL BELOW\n",
    "# BE CAREFUL NOT TO RUN THE CELL BELOW, OTHERWISE YOU WON'T\n",
    "# BE ABLE TO SEE THE OUTPUT ANY MORE"
   ]
  },
  {
   "cell_type": "code",
   "execution_count": 237,
   "metadata": {
    "id": "BlmBc_9H5mq7",
    "outputId": "dafdf119-1b3f-4798-af78-339098558ba2"
   },
   "outputs": [
    {
     "data": {
      "text/plain": [
       "array([ 2,  7, 12])"
      ]
     },
     "execution_count": 237,
     "metadata": {},
     "output_type": "execute_result"
    }
   ],
   "source": [
    "result=mat[[0,1,2],[1]]\n",
    "result"
   ]
  },
  {
   "cell_type": "code",
   "execution_count": null,
   "metadata": {
    "collapsed": true,
    "id": "X1M2GJ1I5mq7",
    "jupyter": {
     "outputs_hidden": true
    }
   },
   "outputs": [],
   "source": [
    "# WRITE CODE HERE THAT REPRODUCES THE OUTPUT OF THE CELL BELOW\n",
    "# BE CAREFUL NOT TO RUN THE CELL BELOW, OTHERWISE YOU WON'T\n",
    "# BE ABLE TO SEE THE OUTPUT ANY MORE"
   ]
  },
  {
   "cell_type": "code",
   "execution_count": 244,
   "metadata": {
    "id": "6Jk-m0n-5mq9",
    "outputId": "53aa0932-8b33-4eea-e4f5-11486159c182"
   },
   "outputs": [
    {
     "data": {
      "text/plain": [
       "array([21, 22, 23, 24, 25])"
      ]
     },
     "execution_count": 244,
     "metadata": {},
     "output_type": "execute_result"
    }
   ],
   "source": [
    "result=mat[4,:]\n",
    "result"
   ]
  },
  {
   "cell_type": "code",
   "execution_count": null,
   "metadata": {
    "collapsed": true,
    "id": "rhA9UBCo5mq-",
    "jupyter": {
     "outputs_hidden": true
    }
   },
   "outputs": [],
   "source": [
    "# WRITE CODE HERE THAT REPRODUCES THE OUTPUT OF THE CELL BELOW\n",
    "# BE CAREFUL NOT TO RUN THE CELL BELOW, OTHERWISE YOU WON'T\n",
    "# BE ABLE TO SEE THE OUTPUT ANY MORE"
   ]
  },
  {
   "cell_type": "code",
   "execution_count": 246,
   "metadata": {
    "id": "sRSyTClY5mq_",
    "outputId": "68311fb5-eadf-4ade-ab71-7062f11c9159"
   },
   "outputs": [
    {
     "data": {
      "text/plain": [
       "array([[16, 17, 18, 19, 20],\n",
       "       [21, 22, 23, 24, 25]])"
      ]
     },
     "execution_count": 246,
     "metadata": {},
     "output_type": "execute_result"
    }
   ],
   "source": [
    "result = mat[3:,:]\n",
    "result"
   ]
  },
  {
   "cell_type": "markdown",
   "metadata": {
    "id": "KzYer00v5mq_"
   },
   "source": [
    "### Now do the following"
   ]
  },
  {
   "cell_type": "markdown",
   "metadata": {
    "id": "kA9N9nLR5mrO"
   },
   "source": [
    "#### Get the sum of all the values in mat"
   ]
  },
  {
   "cell_type": "code",
   "execution_count": 252,
   "metadata": {
    "id": "7YaSjyrQ5mrP",
    "outputId": "d0fdf38c-92ff-44c8-ff93-46220401e6a6"
   },
   "outputs": [
    {
     "data": {
      "text/plain": [
       "325"
      ]
     },
     "execution_count": 252,
     "metadata": {},
     "output_type": "execute_result"
    }
   ],
   "source": [
    "np.sum(mat)"
   ]
  },
  {
   "cell_type": "markdown",
   "metadata": {
    "id": "sZ3f4b2G5mrQ"
   },
   "source": [
    "#### Get the standard deviation of the values in mat"
   ]
  },
  {
   "cell_type": "code",
   "execution_count": 253,
   "metadata": {
    "id": "WtcfhYyr5mrQ",
    "outputId": "74971cc1-2911-4ba1-f6bc-de132fa6a9a1"
   },
   "outputs": [
    {
     "data": {
      "text/plain": [
       "7.211102550927978"
      ]
     },
     "execution_count": 253,
     "metadata": {},
     "output_type": "execute_result"
    }
   ],
   "source": [
    "np.std(mat)"
   ]
  },
  {
   "cell_type": "markdown",
   "metadata": {
    "id": "R5aFCbZY5mrS"
   },
   "source": [
    "#### Get the sum of all the columns in mat"
   ]
  },
  {
   "cell_type": "code",
   "execution_count": 255,
   "metadata": {
    "id": "0AYjj_Zy5mrS",
    "outputId": "8aa2d1ca-8d41-48a1-f18c-c3269315610d"
   },
   "outputs": [
    {
     "data": {
      "text/plain": [
       "array([55, 60, 65, 70, 75])"
      ]
     },
     "execution_count": 255,
     "metadata": {},
     "output_type": "execute_result"
    }
   ],
   "source": [
    "np.sum(mat,axis=0)"
   ]
  },
  {
   "cell_type": "markdown",
   "metadata": {
    "collapsed": true,
    "id": "UJZ4X0d35mrT",
    "jupyter": {
     "outputs_hidden": true
    }
   },
   "source": [
    "# Great Job!"
   ]
  }
 ],
 "metadata": {
  "colab": {
   "provenance": []
  },
  "kernelspec": {
   "display_name": "Python 3 (ipykernel)",
   "language": "python",
   "name": "python3"
  },
  "language_info": {
   "codemirror_mode": {
    "name": "ipython",
    "version": 3
   },
   "file_extension": ".py",
   "mimetype": "text/x-python",
   "name": "python",
   "nbconvert_exporter": "python",
   "pygments_lexer": "ipython3",
   "version": "3.9.5"
  }
 },
 "nbformat": 4,
 "nbformat_minor": 4
}
