{
 "cells": [
  {
   "cell_type": "markdown",
   "metadata": {
    "id": "Lu_wsugc6asF"
   },
   "source": [
    "#Provided by AI SOCIETY.\n",
    "##Trainer- Sameer Nigam"
   ]
  },
  {
   "cell_type": "markdown",
   "metadata": {
    "id": "9B3Pb_4K6asN"
   },
   "source": [
    "# SF Salaries Exercise \n",
    "\n",
    "Welcome to a quick exercise for you to practice your pandas skills! We will be using the [SF Salaries Dataset](https://www.kaggle.com/kaggle/sf-salaries) from Kaggle! Just follow along and complete the tasks outlined in bold below. The tasks will get harder and harder as you go along."
   ]
  },
  {
   "cell_type": "markdown",
   "metadata": {
    "id": "7OSssa9u6asO"
   },
   "source": [
    "** Import pandas as pd.**"
   ]
  },
  {
   "cell_type": "code",
   "execution_count": 1,
   "metadata": {
    "id": "BM5iAprC6asP"
   },
   "outputs": [],
   "source": [
    "import pandas as pd"
   ]
  },
  {
   "cell_type": "markdown",
   "metadata": {
    "id": "IwD27rzz6asP"
   },
   "source": [
    "** Read Salaries.csv as a dataframe called sal.**"
   ]
  },
  {
   "cell_type": "code",
   "execution_count": 2,
   "metadata": {
    "id": "t_CwmWok6asQ"
   },
   "outputs": [],
   "source": [
    "sal = pd.read_csv('data/Salaries.csv')"
   ]
  },
  {
   "cell_type": "markdown",
   "metadata": {
    "id": "7TLujFsR6asQ"
   },
   "source": [
    "** Check the head of the DataFrame. **"
   ]
  },
  {
   "cell_type": "code",
   "execution_count": 3,
   "metadata": {
    "id": "KXCnY2xu6asR",
    "outputId": "16293d25-21b6-4ad6-d8ca-1edc0e99e194"
   },
   "outputs": [
    {
     "data": {
      "text/html": [
       "<div>\n",
       "<style scoped>\n",
       "    .dataframe tbody tr th:only-of-type {\n",
       "        vertical-align: middle;\n",
       "    }\n",
       "\n",
       "    .dataframe tbody tr th {\n",
       "        vertical-align: top;\n",
       "    }\n",
       "\n",
       "    .dataframe thead th {\n",
       "        text-align: right;\n",
       "    }\n",
       "</style>\n",
       "<table border=\"1\" class=\"dataframe\">\n",
       "  <thead>\n",
       "    <tr style=\"text-align: right;\">\n",
       "      <th></th>\n",
       "      <th>Id</th>\n",
       "      <th>EmployeeName</th>\n",
       "      <th>JobTitle</th>\n",
       "      <th>BasePay</th>\n",
       "      <th>OvertimePay</th>\n",
       "      <th>OtherPay</th>\n",
       "      <th>Benefits</th>\n",
       "      <th>TotalPay</th>\n",
       "      <th>TotalPayBenefits</th>\n",
       "      <th>Year</th>\n",
       "      <th>Notes</th>\n",
       "      <th>Agency</th>\n",
       "      <th>Status</th>\n",
       "    </tr>\n",
       "  </thead>\n",
       "  <tbody>\n",
       "    <tr>\n",
       "      <th>0</th>\n",
       "      <td>1</td>\n",
       "      <td>NATHANIEL FORD</td>\n",
       "      <td>GENERAL MANAGER-METROPOLITAN TRANSIT AUTHORITY</td>\n",
       "      <td>167411.18</td>\n",
       "      <td>0.00</td>\n",
       "      <td>400184.25</td>\n",
       "      <td>NaN</td>\n",
       "      <td>567595.43</td>\n",
       "      <td>567595.43</td>\n",
       "      <td>2011</td>\n",
       "      <td>NaN</td>\n",
       "      <td>San Francisco</td>\n",
       "      <td>NaN</td>\n",
       "    </tr>\n",
       "    <tr>\n",
       "      <th>1</th>\n",
       "      <td>2</td>\n",
       "      <td>GARY JIMENEZ</td>\n",
       "      <td>CAPTAIN III (POLICE DEPARTMENT)</td>\n",
       "      <td>155966.02</td>\n",
       "      <td>245131.88</td>\n",
       "      <td>137811.38</td>\n",
       "      <td>NaN</td>\n",
       "      <td>538909.28</td>\n",
       "      <td>538909.28</td>\n",
       "      <td>2011</td>\n",
       "      <td>NaN</td>\n",
       "      <td>San Francisco</td>\n",
       "      <td>NaN</td>\n",
       "    </tr>\n",
       "    <tr>\n",
       "      <th>2</th>\n",
       "      <td>3</td>\n",
       "      <td>ALBERT PARDINI</td>\n",
       "      <td>CAPTAIN III (POLICE DEPARTMENT)</td>\n",
       "      <td>212739.13</td>\n",
       "      <td>106088.18</td>\n",
       "      <td>16452.60</td>\n",
       "      <td>NaN</td>\n",
       "      <td>335279.91</td>\n",
       "      <td>335279.91</td>\n",
       "      <td>2011</td>\n",
       "      <td>NaN</td>\n",
       "      <td>San Francisco</td>\n",
       "      <td>NaN</td>\n",
       "    </tr>\n",
       "    <tr>\n",
       "      <th>3</th>\n",
       "      <td>4</td>\n",
       "      <td>CHRISTOPHER CHONG</td>\n",
       "      <td>WIRE ROPE CABLE MAINTENANCE MECHANIC</td>\n",
       "      <td>77916.00</td>\n",
       "      <td>56120.71</td>\n",
       "      <td>198306.90</td>\n",
       "      <td>NaN</td>\n",
       "      <td>332343.61</td>\n",
       "      <td>332343.61</td>\n",
       "      <td>2011</td>\n",
       "      <td>NaN</td>\n",
       "      <td>San Francisco</td>\n",
       "      <td>NaN</td>\n",
       "    </tr>\n",
       "    <tr>\n",
       "      <th>4</th>\n",
       "      <td>5</td>\n",
       "      <td>PATRICK GARDNER</td>\n",
       "      <td>DEPUTY CHIEF OF DEPARTMENT,(FIRE DEPARTMENT)</td>\n",
       "      <td>134401.60</td>\n",
       "      <td>9737.00</td>\n",
       "      <td>182234.59</td>\n",
       "      <td>NaN</td>\n",
       "      <td>326373.19</td>\n",
       "      <td>326373.19</td>\n",
       "      <td>2011</td>\n",
       "      <td>NaN</td>\n",
       "      <td>San Francisco</td>\n",
       "      <td>NaN</td>\n",
       "    </tr>\n",
       "  </tbody>\n",
       "</table>\n",
       "</div>"
      ],
      "text/plain": [
       "   Id       EmployeeName                                        JobTitle  \\\n",
       "0   1     NATHANIEL FORD  GENERAL MANAGER-METROPOLITAN TRANSIT AUTHORITY   \n",
       "1   2       GARY JIMENEZ                 CAPTAIN III (POLICE DEPARTMENT)   \n",
       "2   3     ALBERT PARDINI                 CAPTAIN III (POLICE DEPARTMENT)   \n",
       "3   4  CHRISTOPHER CHONG            WIRE ROPE CABLE MAINTENANCE MECHANIC   \n",
       "4   5    PATRICK GARDNER    DEPUTY CHIEF OF DEPARTMENT,(FIRE DEPARTMENT)   \n",
       "\n",
       "     BasePay  OvertimePay   OtherPay  Benefits   TotalPay  TotalPayBenefits  \\\n",
       "0  167411.18         0.00  400184.25       NaN  567595.43         567595.43   \n",
       "1  155966.02    245131.88  137811.38       NaN  538909.28         538909.28   \n",
       "2  212739.13    106088.18   16452.60       NaN  335279.91         335279.91   \n",
       "3   77916.00     56120.71  198306.90       NaN  332343.61         332343.61   \n",
       "4  134401.60      9737.00  182234.59       NaN  326373.19         326373.19   \n",
       "\n",
       "   Year  Notes         Agency  Status  \n",
       "0  2011    NaN  San Francisco     NaN  \n",
       "1  2011    NaN  San Francisco     NaN  \n",
       "2  2011    NaN  San Francisco     NaN  \n",
       "3  2011    NaN  San Francisco     NaN  \n",
       "4  2011    NaN  San Francisco     NaN  "
      ]
     },
     "execution_count": 3,
     "metadata": {},
     "output_type": "execute_result"
    }
   ],
   "source": [
    "sal.head(5)"
   ]
  },
  {
   "cell_type": "markdown",
   "metadata": {
    "id": "TVnZjLHz6asU"
   },
   "source": [
    "** Use the .info() method to find out how many entries there are.**"
   ]
  },
  {
   "cell_type": "code",
   "execution_count": 5,
   "metadata": {
    "id": "CXt3rMXY6asW",
    "outputId": "495a24fa-8f93-4458-ec13-4d2850d9ff7e"
   },
   "outputs": [
    {
     "name": "stdout",
     "output_type": "stream",
     "text": [
      "<class 'pandas.core.frame.DataFrame'>\n",
      "RangeIndex: 148654 entries, 0 to 148653\n",
      "Data columns (total 13 columns):\n",
      " #   Column            Non-Null Count   Dtype  \n",
      "---  ------            --------------   -----  \n",
      " 0   Id                148654 non-null  int64  \n",
      " 1   EmployeeName      148654 non-null  object \n",
      " 2   JobTitle          148654 non-null  object \n",
      " 3   BasePay           148045 non-null  float64\n",
      " 4   OvertimePay       148650 non-null  float64\n",
      " 5   OtherPay          148650 non-null  float64\n",
      " 6   Benefits          112491 non-null  float64\n",
      " 7   TotalPay          148654 non-null  float64\n",
      " 8   TotalPayBenefits  148654 non-null  float64\n",
      " 9   Year              148654 non-null  int64  \n",
      " 10  Notes             0 non-null       float64\n",
      " 11  Agency            148654 non-null  object \n",
      " 12  Status            0 non-null       float64\n",
      "dtypes: float64(8), int64(2), object(3)\n",
      "memory usage: 14.7+ MB\n"
     ]
    }
   ],
   "source": [
    "sal.info()"
   ]
  },
  {
   "cell_type": "markdown",
   "metadata": {
    "id": "ExPdI8mS6asX"
   },
   "source": [
    "**What is the average BasePay ?**"
   ]
  },
  {
   "cell_type": "code",
   "execution_count": 14,
   "metadata": {
    "id": "ctRKnkU66asY",
    "outputId": "508bffed-aaa5-41f3-f7f1-e8b0bf54ca7a"
   },
   "outputs": [
    {
     "name": "stdout",
     "output_type": "stream",
     "text": [
      "245131.88\n"
     ]
    },
    {
     "data": {
      "text/plain": [
       "<pandas.core.groupby.generic.DataFrameGroupBy object at 0x15e262d00>"
      ]
     },
     "execution_count": 14,
     "metadata": {},
     "output_type": "execute_result"
    }
   ],
   "source": [
    "print(max(sal['OvertimePay']))\n",
    "sal.groupby('OvertimePay')"
   ]
  },
  {
   "cell_type": "markdown",
   "metadata": {
    "id": "7wphlI7O6asY"
   },
   "source": [
    "** What is the highest amount of OvertimePay in the dataset ? **"
   ]
  },
  {
   "cell_type": "markdown",
   "metadata": {
    "id": "B0zB2KzQ6asZ"
   },
   "source": [
    "** What is the job title of  JOSEPH DRISCOLL ? Note: Use all caps, otherwise you may get an answer that doesn't match up (there is also a lowercase Joseph Driscoll). **"
   ]
  },
  {
   "cell_type": "code",
   "execution_count": 18,
   "metadata": {
    "id": "4SaX_3gi6asa",
    "outputId": "cdeec96c-baf8-4439-9e15-caae170ab137"
   },
   "outputs": [
    {
     "data": {
      "text/plain": [
       "24    CAPTAIN, FIRE SUPPRESSION\n",
       "Name: JobTitle, dtype: object"
      ]
     },
     "execution_count": 18,
     "metadata": {},
     "output_type": "execute_result"
    }
   ],
   "source": [
    "sal[sal['EmployeeName'] == 'JOSEPH DRISCOLL']['JobTitle']"
   ]
  },
  {
   "cell_type": "markdown",
   "metadata": {
    "id": "QG6blOy96asa"
   },
   "source": [
    "** How much does JOSEPH DRISCOLL make (including benefits)? **"
   ]
  },
  {
   "cell_type": "code",
   "execution_count": 20,
   "metadata": {
    "id": "X8W1C04v6asa",
    "outputId": "43f2a5a0-952c-4339-a04f-4b4142b72262"
   },
   "outputs": [
    {
     "data": {
      "text/plain": [
       "24    270324.91\n",
       "Name: TotalPayBenefits, dtype: float64"
      ]
     },
     "execution_count": 20,
     "metadata": {},
     "output_type": "execute_result"
    }
   ],
   "source": [
    "sal[sal['EmployeeName'] == 'JOSEPH DRISCOLL']['TotalPayBenefits']"
   ]
  },
  {
   "cell_type": "markdown",
   "metadata": {
    "id": "_X9kabyK6asb"
   },
   "source": [
    "** What is the name of highest paid person (including benefits)?**"
   ]
  },
  {
   "cell_type": "code",
   "execution_count": 31,
   "metadata": {
    "id": "jzbASQA36asb",
    "outputId": "f50cb2c8-000e-4fbd-8a01-2726b11a4a76"
   },
   "outputs": [
    {
     "data": {
      "text/html": [
       "<div>\n",
       "<style scoped>\n",
       "    .dataframe tbody tr th:only-of-type {\n",
       "        vertical-align: middle;\n",
       "    }\n",
       "\n",
       "    .dataframe tbody tr th {\n",
       "        vertical-align: top;\n",
       "    }\n",
       "\n",
       "    .dataframe thead th {\n",
       "        text-align: right;\n",
       "    }\n",
       "</style>\n",
       "<table border=\"1\" class=\"dataframe\">\n",
       "  <thead>\n",
       "    <tr style=\"text-align: right;\">\n",
       "      <th></th>\n",
       "      <th>Id</th>\n",
       "      <th>EmployeeName</th>\n",
       "      <th>JobTitle</th>\n",
       "      <th>BasePay</th>\n",
       "      <th>OvertimePay</th>\n",
       "      <th>OtherPay</th>\n",
       "      <th>Benefits</th>\n",
       "      <th>TotalPay</th>\n",
       "      <th>TotalPayBenefits</th>\n",
       "      <th>Year</th>\n",
       "      <th>Notes</th>\n",
       "      <th>Agency</th>\n",
       "      <th>Status</th>\n",
       "    </tr>\n",
       "  </thead>\n",
       "  <tbody>\n",
       "    <tr>\n",
       "      <th>0</th>\n",
       "      <td>1</td>\n",
       "      <td>NATHANIEL FORD</td>\n",
       "      <td>GENERAL MANAGER-METROPOLITAN TRANSIT AUTHORITY</td>\n",
       "      <td>167411.18</td>\n",
       "      <td>0.00</td>\n",
       "      <td>400184.25</td>\n",
       "      <td>NaN</td>\n",
       "      <td>567595.43</td>\n",
       "      <td>567595.43</td>\n",
       "      <td>2011</td>\n",
       "      <td>NaN</td>\n",
       "      <td>San Francisco</td>\n",
       "      <td>NaN</td>\n",
       "    </tr>\n",
       "    <tr>\n",
       "      <th>1</th>\n",
       "      <td>2</td>\n",
       "      <td>GARY JIMENEZ</td>\n",
       "      <td>CAPTAIN III (POLICE DEPARTMENT)</td>\n",
       "      <td>155966.02</td>\n",
       "      <td>245131.88</td>\n",
       "      <td>137811.38</td>\n",
       "      <td>NaN</td>\n",
       "      <td>538909.28</td>\n",
       "      <td>538909.28</td>\n",
       "      <td>2011</td>\n",
       "      <td>NaN</td>\n",
       "      <td>San Francisco</td>\n",
       "      <td>NaN</td>\n",
       "    </tr>\n",
       "    <tr>\n",
       "      <th>2</th>\n",
       "      <td>3</td>\n",
       "      <td>ALBERT PARDINI</td>\n",
       "      <td>CAPTAIN III (POLICE DEPARTMENT)</td>\n",
       "      <td>212739.13</td>\n",
       "      <td>106088.18</td>\n",
       "      <td>16452.60</td>\n",
       "      <td>NaN</td>\n",
       "      <td>335279.91</td>\n",
       "      <td>335279.91</td>\n",
       "      <td>2011</td>\n",
       "      <td>NaN</td>\n",
       "      <td>San Francisco</td>\n",
       "      <td>NaN</td>\n",
       "    </tr>\n",
       "    <tr>\n",
       "      <th>3</th>\n",
       "      <td>4</td>\n",
       "      <td>CHRISTOPHER CHONG</td>\n",
       "      <td>WIRE ROPE CABLE MAINTENANCE MECHANIC</td>\n",
       "      <td>77916.00</td>\n",
       "      <td>56120.71</td>\n",
       "      <td>198306.90</td>\n",
       "      <td>NaN</td>\n",
       "      <td>332343.61</td>\n",
       "      <td>332343.61</td>\n",
       "      <td>2011</td>\n",
       "      <td>NaN</td>\n",
       "      <td>San Francisco</td>\n",
       "      <td>NaN</td>\n",
       "    </tr>\n",
       "    <tr>\n",
       "      <th>4</th>\n",
       "      <td>5</td>\n",
       "      <td>PATRICK GARDNER</td>\n",
       "      <td>DEPUTY CHIEF OF DEPARTMENT,(FIRE DEPARTMENT)</td>\n",
       "      <td>134401.60</td>\n",
       "      <td>9737.00</td>\n",
       "      <td>182234.59</td>\n",
       "      <td>NaN</td>\n",
       "      <td>326373.19</td>\n",
       "      <td>326373.19</td>\n",
       "      <td>2011</td>\n",
       "      <td>NaN</td>\n",
       "      <td>San Francisco</td>\n",
       "      <td>NaN</td>\n",
       "    </tr>\n",
       "  </tbody>\n",
       "</table>\n",
       "</div>"
      ],
      "text/plain": [
       "   Id       EmployeeName                                        JobTitle  \\\n",
       "0   1     NATHANIEL FORD  GENERAL MANAGER-METROPOLITAN TRANSIT AUTHORITY   \n",
       "1   2       GARY JIMENEZ                 CAPTAIN III (POLICE DEPARTMENT)   \n",
       "2   3     ALBERT PARDINI                 CAPTAIN III (POLICE DEPARTMENT)   \n",
       "3   4  CHRISTOPHER CHONG            WIRE ROPE CABLE MAINTENANCE MECHANIC   \n",
       "4   5    PATRICK GARDNER    DEPUTY CHIEF OF DEPARTMENT,(FIRE DEPARTMENT)   \n",
       "\n",
       "     BasePay  OvertimePay   OtherPay  Benefits   TotalPay  TotalPayBenefits  \\\n",
       "0  167411.18         0.00  400184.25       NaN  567595.43         567595.43   \n",
       "1  155966.02    245131.88  137811.38       NaN  538909.28         538909.28   \n",
       "2  212739.13    106088.18   16452.60       NaN  335279.91         335279.91   \n",
       "3   77916.00     56120.71  198306.90       NaN  332343.61         332343.61   \n",
       "4  134401.60      9737.00  182234.59       NaN  326373.19         326373.19   \n",
       "\n",
       "   Year  Notes         Agency  Status  \n",
       "0  2011    NaN  San Francisco     NaN  \n",
       "1  2011    NaN  San Francisco     NaN  \n",
       "2  2011    NaN  San Francisco     NaN  \n",
       "3  2011    NaN  San Francisco     NaN  \n",
       "4  2011    NaN  San Francisco     NaN  "
      ]
     },
     "execution_count": 31,
     "metadata": {},
     "output_type": "execute_result"
    }
   ],
   "source": [
    "sal.head(5)"
   ]
  },
  {
   "cell_type": "code",
   "execution_count": 50,
   "metadata": {
    "id": "jzbASQA36asb",
    "outputId": "f50cb2c8-000e-4fbd-8a01-2726b11a4a76"
   },
   "outputs": [
    {
     "name": "stdout",
     "output_type": "stream",
     "text": [
      "highest paid \n",
      " 0\n"
     ]
    },
    {
     "data": {
      "text/plain": [
       "'NATHANIEL FORD'"
      ]
     },
     "execution_count": 50,
     "metadata": {},
     "output_type": "execute_result"
    }
   ],
   "source": [
    "# max_paid\n",
    "sal_reset_index = sal.reset_index(drop=True)\n",
    "# highest_paid = sal_reset_index['TotalPay'].idxmax()\n",
    "highest_paid = sal_reset_index.sort_values(by='TotalPay', ascending=False).index[0]\n",
    "print(\"highest paid \\n\",highest_paid)\n",
    "person_name = sal_reset_index.loc[highest_paid, 'EmployeeName']\n",
    "person_name"
   ]
  },
  {
   "cell_type": "code",
   "execution_count": 51,
   "metadata": {},
   "outputs": [
    {
     "data": {
      "text/plain": [
       "Id                                                               1\n",
       "EmployeeName                                        NATHANIEL FORD\n",
       "JobTitle            GENERAL MANAGER-METROPOLITAN TRANSIT AUTHORITY\n",
       "BasePay                                                  167411.18\n",
       "OvertimePay                                                    0.0\n",
       "OtherPay                                                 400184.25\n",
       "Benefits                                                       NaN\n",
       "TotalPay                                                 567595.43\n",
       "TotalPayBenefits                                         567595.43\n",
       "Year                                                          2011\n",
       "Notes                                                          NaN\n",
       "Agency                                               San Francisco\n",
       "Status                                                         NaN\n",
       "Name: 0, dtype: object"
      ]
     },
     "execution_count": 51,
     "metadata": {},
     "output_type": "execute_result"
    }
   ],
   "source": [
    "sal.iloc[0]"
   ]
  },
  {
   "cell_type": "code",
   "execution_count": 47,
   "metadata": {
    "id": "jzbASQA36asb",
    "outputId": "f50cb2c8-000e-4fbd-8a01-2726b11a4a76"
   },
   "outputs": [
    {
     "name": "stdout",
     "output_type": "stream",
     "text": [
      "\n",
      " 0\n",
      "NATHANIEL FORD\n"
     ]
    }
   ],
   "source": [
    "test = pd.read_csv('data/Salaries.csv')\n",
    "sal_reset_index = test.reset_index(drop=True)  # Reset the index of the DataFrame\n",
    "highest_paid_index = sal_reset_index['TotalPay'].idxmax()  # Get the index of the row with the highest total pay\n",
    "print('\\n',highest_paid_index)\n",
    "highest_paid_person_name = sal_reset_index.loc[highest_paid_index, 'EmployeeName']  # Get the name of the highest paid person\n",
    "print(highest_paid_person_name)"
   ]
  },
  {
   "cell_type": "markdown",
   "metadata": {
    "id": "ssOCz6cZ6asc"
   },
   "source": [
    "** What is the name of lowest paid person (including benefits)? Do you notice something strange about how much he or she is paid?**"
   ]
  },
  {
   "cell_type": "code",
   "execution_count": 25,
   "metadata": {
    "id": "1HZXSKlf6asc",
    "outputId": "db7f06f7-c260-4d08-e472-7cde7a566f3e"
   },
   "outputs": [
    {
     "data": {
      "text/plain": [
       "-618.13"
      ]
     },
     "execution_count": 25,
     "metadata": {},
     "output_type": "execute_result"
    }
   ],
   "source": [
    "min(sal['TotalPay'])"
   ]
  },
  {
   "cell_type": "markdown",
   "metadata": {
    "id": "wcFzmlwY6asc"
   },
   "source": [
    "** What was the average (mean) BasePay of all employees per year? (2011-2014) ? **"
   ]
  },
  {
   "cell_type": "code",
   "execution_count": 56,
   "metadata": {
    "id": "w9D3uDlw6asd",
    "outputId": "d8e84d4b-6aef-4c38-bb3c-494690c41026"
   },
   "outputs": [
    {
     "data": {
      "text/html": [
       "<div>\n",
       "<style scoped>\n",
       "    .dataframe tbody tr th:only-of-type {\n",
       "        vertical-align: middle;\n",
       "    }\n",
       "\n",
       "    .dataframe tbody tr th {\n",
       "        vertical-align: top;\n",
       "    }\n",
       "\n",
       "    .dataframe thead th {\n",
       "        text-align: right;\n",
       "    }\n",
       "</style>\n",
       "<table border=\"1\" class=\"dataframe\">\n",
       "  <thead>\n",
       "    <tr style=\"text-align: right;\">\n",
       "      <th></th>\n",
       "      <th>Id</th>\n",
       "      <th>BasePay</th>\n",
       "      <th>OvertimePay</th>\n",
       "      <th>OtherPay</th>\n",
       "      <th>Benefits</th>\n",
       "      <th>TotalPay</th>\n",
       "      <th>TotalPayBenefits</th>\n",
       "      <th>Notes</th>\n",
       "      <th>Status</th>\n",
       "    </tr>\n",
       "    <tr>\n",
       "      <th>Year</th>\n",
       "      <th></th>\n",
       "      <th></th>\n",
       "      <th></th>\n",
       "      <th></th>\n",
       "      <th></th>\n",
       "      <th></th>\n",
       "      <th></th>\n",
       "      <th></th>\n",
       "      <th></th>\n",
       "    </tr>\n",
       "  </thead>\n",
       "  <tbody>\n",
       "    <tr>\n",
       "      <th>2011</th>\n",
       "      <td>18080.0</td>\n",
       "      <td>63595.956517</td>\n",
       "      <td>4531.065429</td>\n",
       "      <td>3617.081926</td>\n",
       "      <td>NaN</td>\n",
       "      <td>71744.103871</td>\n",
       "      <td>71744.103871</td>\n",
       "      <td>NaN</td>\n",
       "      <td>NaN</td>\n",
       "    </tr>\n",
       "    <tr>\n",
       "      <th>2012</th>\n",
       "      <td>54542.5</td>\n",
       "      <td>65436.406857</td>\n",
       "      <td>5023.417824</td>\n",
       "      <td>3653.437583</td>\n",
       "      <td>26439.966967</td>\n",
       "      <td>74113.262265</td>\n",
       "      <td>100553.229232</td>\n",
       "      <td>NaN</td>\n",
       "      <td>NaN</td>\n",
       "    </tr>\n",
       "    <tr>\n",
       "      <th>2013</th>\n",
       "      <td>91728.5</td>\n",
       "      <td>69630.030216</td>\n",
       "      <td>5281.641980</td>\n",
       "      <td>3819.969007</td>\n",
       "      <td>23829.076572</td>\n",
       "      <td>77611.443142</td>\n",
       "      <td>101440.519714</td>\n",
       "      <td>NaN</td>\n",
       "      <td>NaN</td>\n",
       "    </tr>\n",
       "    <tr>\n",
       "      <th>2014</th>\n",
       "      <td>129593.0</td>\n",
       "      <td>66564.421924</td>\n",
       "      <td>5401.993737</td>\n",
       "      <td>3505.421251</td>\n",
       "      <td>24789.601756</td>\n",
       "      <td>75463.918140</td>\n",
       "      <td>100250.918884</td>\n",
       "      <td>NaN</td>\n",
       "      <td>NaN</td>\n",
       "    </tr>\n",
       "  </tbody>\n",
       "</table>\n",
       "</div>"
      ],
      "text/plain": [
       "            Id       BasePay  OvertimePay     OtherPay      Benefits  \\\n",
       "Year                                                                   \n",
       "2011   18080.0  63595.956517  4531.065429  3617.081926           NaN   \n",
       "2012   54542.5  65436.406857  5023.417824  3653.437583  26439.966967   \n",
       "2013   91728.5  69630.030216  5281.641980  3819.969007  23829.076572   \n",
       "2014  129593.0  66564.421924  5401.993737  3505.421251  24789.601756   \n",
       "\n",
       "          TotalPay  TotalPayBenefits  Notes  Status  \n",
       "Year                                                 \n",
       "2011  71744.103871      71744.103871    NaN     NaN  \n",
       "2012  74113.262265     100553.229232    NaN     NaN  \n",
       "2013  77611.443142     101440.519714    NaN     NaN  \n",
       "2014  75463.918140     100250.918884    NaN     NaN  "
      ]
     },
     "execution_count": 56,
     "metadata": {},
     "output_type": "execute_result"
    }
   ],
   "source": [
    "list = sal.groupby('Year').mean('BasePay')\n",
    "list"
   ]
  },
  {
   "cell_type": "markdown",
   "metadata": {
    "id": "Zo8TWkxK6asd"
   },
   "source": [
    "** How many unique job titles are there? **"
   ]
  },
  {
   "cell_type": "code",
   "execution_count": 66,
   "metadata": {
    "id": "6KL4dzhO6asd",
    "outputId": "7d36b4d3-2102-4c87-b982-9cc04ab607bd"
   },
   "outputs": [
    {
     "name": "stdout",
     "output_type": "stream",
     "text": [
      "\n",
      " JobTitle\n",
      "ACCOUNT CLERK                                                                      [ACCOUNT CLERK]\n",
      "ACCOUNTANT                                                                            [ACCOUNTANT]\n",
      "ACCOUNTANT INTERN                                                              [ACCOUNTANT INTERN]\n",
      "ACPO,JuvP, Juv Prob (SFERS)                                          [ACPO,JuvP, Juv Prob (SFERS)]\n",
      "ACUPUNCTURIST                                                                      [ACUPUNCTURIST]\n",
      "                                                                        ...                       \n",
      "X-RAY LABORATORY AIDE                                                      [X-RAY LABORATORY AIDE]\n",
      "X-Ray Laboratory Aide                                                      [X-Ray Laboratory Aide]\n",
      "YOUTH COMMISSION ADVISOR, BOARD OF SUPERVISORS    [YOUTH COMMISSION ADVISOR, BOARD OF SUPERVISORS]\n",
      "Youth Comm Advisor                                                            [Youth Comm Advisor]\n",
      "ZOO CURATOR                                                                          [ZOO CURATOR]\n",
      "Name: JobTitle, Length: 2159, dtype: object\n"
     ]
    }
   ],
   "source": [
    "data = sal.groupby('JobTitle')\n",
    "\n",
    "print('\\n',data['JobTitle'].unique())"
   ]
  },
  {
   "cell_type": "markdown",
   "metadata": {
    "id": "SAit2BhM6ase"
   },
   "source": [
    "** What are the top 5 most common jobs? **"
   ]
  },
  {
   "cell_type": "code",
   "execution_count": 76,
   "metadata": {
    "id": "DXpprKW26ase",
    "outputId": "4142a5b3-0588-46a7-d83a-d15b9fdf4571"
   },
   "outputs": [
    {
     "data": {
      "text/plain": [
       "JobTitle\n",
       "Transit Operator                                      7036\n",
       "Special Nurse                                         4389\n",
       "Registered Nurse                                      3736\n",
       "Public Svc Aide-Public Works                          2518\n",
       "Police Officer 3                                      2421\n",
       "                                                      ... \n",
       "BUILDING SERVICES TECHNICIAN                             1\n",
       "Public Service Aide-Technical                            1\n",
       "Public Safety Comm Tech                                  1\n",
       "CAPTAIN, BUREAU OF FIRE PREVENTION AND PUBLIC SAFE       1\n",
       "ZOO CURATOR                                              1\n",
       "Name: count, Length: 2159, dtype: int64"
      ]
     },
     "execution_count": 76,
     "metadata": {},
     "output_type": "execute_result"
    }
   ],
   "source": [
    "list = data['JobTitle'].value_counts().sort_values(ascending=False)\n",
    "list"
   ]
  },
  {
   "cell_type": "code",
   "execution_count": 78,
   "metadata": {
    "id": "DXpprKW26ase",
    "outputId": "4142a5b3-0588-46a7-d83a-d15b9fdf4571"
   },
   "outputs": [
    {
     "data": {
      "text/plain": [
       "Index(['Transit Operator', 'Special Nurse', 'Registered Nurse',\n",
       "       'Public Svc Aide-Public Works', 'Police Officer 3'],\n",
       "      dtype='object', name='JobTitle')"
      ]
     },
     "execution_count": 78,
     "metadata": {},
     "output_type": "execute_result"
    }
   ],
   "source": [
    "list = data['JobTitle'].value_counts().sort_values(ascending=False).head(5).index\n",
    "list"
   ]
  },
  {
   "cell_type": "markdown",
   "metadata": {
    "id": "1_9lvzPM6ase"
   },
   "source": [
    "** How many Job Titles were represented by only one person in 2013? (e.g. Job Titles with only one occurence in 2013?) **"
   ]
  },
  {
   "cell_type": "code",
   "execution_count": 99,
   "metadata": {
    "id": "RUHaED8H6asf",
    "outputId": "69d6678e-0eba-4fa4-ee7d-20b20b8301ca"
   },
   "outputs": [],
   "source": [
    "sal_2013 = sal[sal['Year']==2013]"
   ]
  },
  {
   "cell_type": "code",
   "execution_count": 100,
   "metadata": {
    "id": "RUHaED8H6asf",
    "outputId": "69d6678e-0eba-4fa4-ee7d-20b20b8301ca"
   },
   "outputs": [
    {
     "data": {
      "text/html": [
       "<div>\n",
       "<style scoped>\n",
       "    .dataframe tbody tr th:only-of-type {\n",
       "        vertical-align: middle;\n",
       "    }\n",
       "\n",
       "    .dataframe tbody tr th {\n",
       "        vertical-align: top;\n",
       "    }\n",
       "\n",
       "    .dataframe thead th {\n",
       "        text-align: right;\n",
       "    }\n",
       "</style>\n",
       "<table border=\"1\" class=\"dataframe\">\n",
       "  <thead>\n",
       "    <tr style=\"text-align: right;\">\n",
       "      <th></th>\n",
       "      <th>Id</th>\n",
       "      <th>EmployeeName</th>\n",
       "      <th>JobTitle</th>\n",
       "      <th>BasePay</th>\n",
       "      <th>OvertimePay</th>\n",
       "      <th>OtherPay</th>\n",
       "      <th>Benefits</th>\n",
       "      <th>TotalPay</th>\n",
       "      <th>TotalPayBenefits</th>\n",
       "      <th>Year</th>\n",
       "      <th>Notes</th>\n",
       "      <th>Agency</th>\n",
       "      <th>Status</th>\n",
       "    </tr>\n",
       "  </thead>\n",
       "  <tbody>\n",
       "    <tr>\n",
       "      <th>72925</th>\n",
       "      <td>72926</td>\n",
       "      <td>Gregory P Suhr</td>\n",
       "      <td>Chief of Police</td>\n",
       "      <td>319275.01</td>\n",
       "      <td>0.00</td>\n",
       "      <td>20007.06</td>\n",
       "      <td>86533.21</td>\n",
       "      <td>339282.07</td>\n",
       "      <td>425815.28</td>\n",
       "      <td>2013</td>\n",
       "      <td>NaN</td>\n",
       "      <td>San Francisco</td>\n",
       "      <td>NaN</td>\n",
       "    </tr>\n",
       "    <tr>\n",
       "      <th>72926</th>\n",
       "      <td>72927</td>\n",
       "      <td>Joanne M Hayes-White</td>\n",
       "      <td>Chief, Fire Department</td>\n",
       "      <td>313686.01</td>\n",
       "      <td>0.00</td>\n",
       "      <td>23236.00</td>\n",
       "      <td>85431.39</td>\n",
       "      <td>336922.01</td>\n",
       "      <td>422353.40</td>\n",
       "      <td>2013</td>\n",
       "      <td>NaN</td>\n",
       "      <td>San Francisco</td>\n",
       "      <td>NaN</td>\n",
       "    </tr>\n",
       "    <tr>\n",
       "      <th>72927</th>\n",
       "      <td>72928</td>\n",
       "      <td>Samson  Lai</td>\n",
       "      <td>Battalion Chief, Fire Suppress</td>\n",
       "      <td>186236.42</td>\n",
       "      <td>131217.63</td>\n",
       "      <td>29648.27</td>\n",
       "      <td>57064.95</td>\n",
       "      <td>347102.32</td>\n",
       "      <td>404167.27</td>\n",
       "      <td>2013</td>\n",
       "      <td>NaN</td>\n",
       "      <td>San Francisco</td>\n",
       "      <td>NaN</td>\n",
       "    </tr>\n",
       "    <tr>\n",
       "      <th>72928</th>\n",
       "      <td>72929</td>\n",
       "      <td>Ellen G Moffatt</td>\n",
       "      <td>Asst Med Examiner</td>\n",
       "      <td>272855.51</td>\n",
       "      <td>23727.91</td>\n",
       "      <td>38954.54</td>\n",
       "      <td>66198.92</td>\n",
       "      <td>335537.96</td>\n",
       "      <td>401736.88</td>\n",
       "      <td>2013</td>\n",
       "      <td>NaN</td>\n",
       "      <td>San Francisco</td>\n",
       "      <td>NaN</td>\n",
       "    </tr>\n",
       "    <tr>\n",
       "      <th>72929</th>\n",
       "      <td>72930</td>\n",
       "      <td>Robert L Shaw</td>\n",
       "      <td>Dep Dir for Investments, Ret</td>\n",
       "      <td>315572.01</td>\n",
       "      <td>0.00</td>\n",
       "      <td>0.00</td>\n",
       "      <td>82849.66</td>\n",
       "      <td>315572.01</td>\n",
       "      <td>398421.67</td>\n",
       "      <td>2013</td>\n",
       "      <td>NaN</td>\n",
       "      <td>San Francisco</td>\n",
       "      <td>NaN</td>\n",
       "    </tr>\n",
       "    <tr>\n",
       "      <th>...</th>\n",
       "      <td>...</td>\n",
       "      <td>...</td>\n",
       "      <td>...</td>\n",
       "      <td>...</td>\n",
       "      <td>...</td>\n",
       "      <td>...</td>\n",
       "      <td>...</td>\n",
       "      <td>...</td>\n",
       "      <td>...</td>\n",
       "      <td>...</td>\n",
       "      <td>...</td>\n",
       "      <td>...</td>\n",
       "      <td>...</td>\n",
       "    </tr>\n",
       "    <tr>\n",
       "      <th>110526</th>\n",
       "      <td>110527</td>\n",
       "      <td>Arthur L Curry</td>\n",
       "      <td>PS Aide Health Services</td>\n",
       "      <td>NaN</td>\n",
       "      <td>0.00</td>\n",
       "      <td>10.67</td>\n",
       "      <td>0.00</td>\n",
       "      <td>10.67</td>\n",
       "      <td>10.67</td>\n",
       "      <td>2013</td>\n",
       "      <td>NaN</td>\n",
       "      <td>San Francisco</td>\n",
       "      <td>NaN</td>\n",
       "    </tr>\n",
       "    <tr>\n",
       "      <th>110527</th>\n",
       "      <td>110528</td>\n",
       "      <td>Nereida  Vega</td>\n",
       "      <td>Senior Clerk</td>\n",
       "      <td>NaN</td>\n",
       "      <td>0.00</td>\n",
       "      <td>5.56</td>\n",
       "      <td>0.00</td>\n",
       "      <td>5.56</td>\n",
       "      <td>5.56</td>\n",
       "      <td>2013</td>\n",
       "      <td>NaN</td>\n",
       "      <td>San Francisco</td>\n",
       "      <td>NaN</td>\n",
       "    </tr>\n",
       "    <tr>\n",
       "      <th>110528</th>\n",
       "      <td>110529</td>\n",
       "      <td>Timothy E Gibson</td>\n",
       "      <td>Police Officer 3</td>\n",
       "      <td>NaN</td>\n",
       "      <td>0.00</td>\n",
       "      <td>0.00</td>\n",
       "      <td>-2.73</td>\n",
       "      <td>0.00</td>\n",
       "      <td>-2.73</td>\n",
       "      <td>2013</td>\n",
       "      <td>NaN</td>\n",
       "      <td>San Francisco</td>\n",
       "      <td>NaN</td>\n",
       "    </tr>\n",
       "    <tr>\n",
       "      <th>110529</th>\n",
       "      <td>110530</td>\n",
       "      <td>Mark E Laherty</td>\n",
       "      <td>Police Officer 3</td>\n",
       "      <td>NaN</td>\n",
       "      <td>0.00</td>\n",
       "      <td>0.00</td>\n",
       "      <td>-8.20</td>\n",
       "      <td>0.00</td>\n",
       "      <td>-8.20</td>\n",
       "      <td>2013</td>\n",
       "      <td>NaN</td>\n",
       "      <td>San Francisco</td>\n",
       "      <td>NaN</td>\n",
       "    </tr>\n",
       "    <tr>\n",
       "      <th>110530</th>\n",
       "      <td>110531</td>\n",
       "      <td>David P Kucia</td>\n",
       "      <td>Police Officer 3</td>\n",
       "      <td>NaN</td>\n",
       "      <td>0.00</td>\n",
       "      <td>0.00</td>\n",
       "      <td>-33.89</td>\n",
       "      <td>0.00</td>\n",
       "      <td>-33.89</td>\n",
       "      <td>2013</td>\n",
       "      <td>NaN</td>\n",
       "      <td>San Francisco</td>\n",
       "      <td>NaN</td>\n",
       "    </tr>\n",
       "  </tbody>\n",
       "</table>\n",
       "<p>37606 rows × 13 columns</p>\n",
       "</div>"
      ],
      "text/plain": [
       "            Id          EmployeeName                        JobTitle  \\\n",
       "72925    72926        Gregory P Suhr                 Chief of Police   \n",
       "72926    72927  Joanne M Hayes-White          Chief, Fire Department   \n",
       "72927    72928           Samson  Lai  Battalion Chief, Fire Suppress   \n",
       "72928    72929       Ellen G Moffatt               Asst Med Examiner   \n",
       "72929    72930         Robert L Shaw    Dep Dir for Investments, Ret   \n",
       "...        ...                   ...                             ...   \n",
       "110526  110527        Arthur L Curry         PS Aide Health Services   \n",
       "110527  110528         Nereida  Vega                    Senior Clerk   \n",
       "110528  110529      Timothy E Gibson                Police Officer 3   \n",
       "110529  110530        Mark E Laherty                Police Officer 3   \n",
       "110530  110531         David P Kucia                Police Officer 3   \n",
       "\n",
       "          BasePay  OvertimePay  OtherPay  Benefits   TotalPay  \\\n",
       "72925   319275.01         0.00  20007.06  86533.21  339282.07   \n",
       "72926   313686.01         0.00  23236.00  85431.39  336922.01   \n",
       "72927   186236.42    131217.63  29648.27  57064.95  347102.32   \n",
       "72928   272855.51     23727.91  38954.54  66198.92  335537.96   \n",
       "72929   315572.01         0.00      0.00  82849.66  315572.01   \n",
       "...           ...          ...       ...       ...        ...   \n",
       "110526        NaN         0.00     10.67      0.00      10.67   \n",
       "110527        NaN         0.00      5.56      0.00       5.56   \n",
       "110528        NaN         0.00      0.00     -2.73       0.00   \n",
       "110529        NaN         0.00      0.00     -8.20       0.00   \n",
       "110530        NaN         0.00      0.00    -33.89       0.00   \n",
       "\n",
       "        TotalPayBenefits  Year  Notes         Agency  Status  \n",
       "72925          425815.28  2013    NaN  San Francisco     NaN  \n",
       "72926          422353.40  2013    NaN  San Francisco     NaN  \n",
       "72927          404167.27  2013    NaN  San Francisco     NaN  \n",
       "72928          401736.88  2013    NaN  San Francisco     NaN  \n",
       "72929          398421.67  2013    NaN  San Francisco     NaN  \n",
       "...                  ...   ...    ...            ...     ...  \n",
       "110526             10.67  2013    NaN  San Francisco     NaN  \n",
       "110527              5.56  2013    NaN  San Francisco     NaN  \n",
       "110528             -2.73  2013    NaN  San Francisco     NaN  \n",
       "110529             -8.20  2013    NaN  San Francisco     NaN  \n",
       "110530            -33.89  2013    NaN  San Francisco     NaN  \n",
       "\n",
       "[37606 rows x 13 columns]"
      ]
     },
     "execution_count": 100,
     "metadata": {},
     "output_type": "execute_result"
    }
   ],
   "source": [
    "sal_2013"
   ]
  },
  {
   "cell_type": "code",
   "execution_count": 111,
   "metadata": {
    "id": "RUHaED8H6asf",
    "outputId": "69d6678e-0eba-4fa4-ee7d-20b20b8301ca"
   },
   "outputs": [
    {
     "data": {
      "text/plain": [
       "JobTitle\n",
       "Transit Operator                  2295\n",
       "Special Nurse                     1445\n",
       "Registered Nurse                  1231\n",
       "Public Svc Aide-Public Works       859\n",
       "Custodian                          789\n",
       "                                  ... \n",
       "Sr General Utility Mechanic          1\n",
       "Sprv Adult Prob Ofc (SFERS)          1\n",
       "Mayoral Staff XII                    1\n",
       "Pr Investigator, Tax Collector       1\n",
       "Senior Assessment Clerk              1\n",
       "Name: count, Length: 1051, dtype: int64"
      ]
     },
     "execution_count": 111,
     "metadata": {},
     "output_type": "execute_result"
    }
   ],
   "source": [
    "job_title_count = sal_2013['JobTitle'].value_counts()\n",
    "job_title_count"
   ]
  },
  {
   "cell_type": "code",
   "execution_count": 114,
   "metadata": {},
   "outputs": [
    {
     "name": "stdout",
     "output_type": "stream",
     "text": [
      "789\n",
      "1231\n",
      "2295\n"
     ]
    }
   ],
   "source": [
    "# Accessing respective job count\n",
    "\n",
    "print(job_title_count['Custodian'])\n",
    "\n",
    "print(job_title_count['Registered Nurse'])\n",
    "\n",
    "print(job_title_count['Transit Operator'])"
   ]
  },
  {
   "cell_type": "code",
   "execution_count": 115,
   "metadata": {},
   "outputs": [
    {
     "data": {
      "text/plain": [
       "JobTitle\n",
       "Senior Assessment Clerk            1\n",
       "Real Estate Devt. Mgr, SFMTA       1\n",
       "Assistant Director, Probate        1\n",
       "Chief Fire Alarm Dispatcher        1\n",
       "Chief Housing Inspector            1\n",
       "                                ... \n",
       "Custodian                        789\n",
       "Public Svc Aide-Public Works     859\n",
       "Registered Nurse                1231\n",
       "Special Nurse                   1445\n",
       "Transit Operator                2295\n",
       "Name: count, Length: 1051, dtype: int64"
      ]
     },
     "execution_count": 115,
     "metadata": {},
     "output_type": "execute_result"
    }
   ],
   "source": [
    "newjob_title_count = sal_2013['JobTitle'].value_counts().sort_values(ascending=True)\n",
    "newjob_title_count"
   ]
  },
  {
   "cell_type": "code",
   "execution_count": 133,
   "metadata": {},
   "outputs": [
    {
     "data": {
      "text/html": [
       "<div>\n",
       "<style scoped>\n",
       "    .dataframe tbody tr th:only-of-type {\n",
       "        vertical-align: middle;\n",
       "    }\n",
       "\n",
       "    .dataframe tbody tr th {\n",
       "        vertical-align: top;\n",
       "    }\n",
       "\n",
       "    .dataframe thead th {\n",
       "        text-align: right;\n",
       "    }\n",
       "</style>\n",
       "<table border=\"1\" class=\"dataframe\">\n",
       "  <thead>\n",
       "    <tr style=\"text-align: right;\">\n",
       "      <th></th>\n",
       "      <th>Id</th>\n",
       "      <th>EmployeeName</th>\n",
       "      <th>JobTitle</th>\n",
       "      <th>BasePay</th>\n",
       "      <th>OvertimePay</th>\n",
       "      <th>OtherPay</th>\n",
       "      <th>Benefits</th>\n",
       "      <th>TotalPay</th>\n",
       "      <th>TotalPayBenefits</th>\n",
       "      <th>Notes</th>\n",
       "      <th>Agency</th>\n",
       "      <th>Status</th>\n",
       "    </tr>\n",
       "  </thead>\n",
       "  <tbody>\n",
       "    <tr>\n",
       "      <th>0</th>\n",
       "      <td>76221</td>\n",
       "      <td>Duane  Allen</td>\n",
       "      <td>Transit Operator</td>\n",
       "      <td>71656.21</td>\n",
       "      <td>77180.55</td>\n",
       "      <td>8473.89</td>\n",
       "      <td>36885.14</td>\n",
       "      <td>157310.65</td>\n",
       "      <td>194195.79</td>\n",
       "      <td>NaN</td>\n",
       "      <td>San Francisco</td>\n",
       "      <td>NaN</td>\n",
       "    </tr>\n",
       "    <tr>\n",
       "      <th>1</th>\n",
       "      <td>76791</td>\n",
       "      <td>Freeman  Chee</td>\n",
       "      <td>Transit Operator</td>\n",
       "      <td>70505.55</td>\n",
       "      <td>73855.36</td>\n",
       "      <td>6952.61</td>\n",
       "      <td>35914.07</td>\n",
       "      <td>151313.52</td>\n",
       "      <td>187227.59</td>\n",
       "      <td>NaN</td>\n",
       "      <td>San Francisco</td>\n",
       "      <td>NaN</td>\n",
       "    </tr>\n",
       "    <tr>\n",
       "      <th>2</th>\n",
       "      <td>77250</td>\n",
       "      <td>Louis E Galarce</td>\n",
       "      <td>Transit Operator</td>\n",
       "      <td>72756.19</td>\n",
       "      <td>66225.79</td>\n",
       "      <td>6498.14</td>\n",
       "      <td>36882.74</td>\n",
       "      <td>145480.12</td>\n",
       "      <td>182362.86</td>\n",
       "      <td>NaN</td>\n",
       "      <td>San Francisco</td>\n",
       "      <td>NaN</td>\n",
       "    </tr>\n",
       "    <tr>\n",
       "      <th>3</th>\n",
       "      <td>77511</td>\n",
       "      <td>Nancy  Padilla</td>\n",
       "      <td>Transit Operator</td>\n",
       "      <td>70905.54</td>\n",
       "      <td>67189.10</td>\n",
       "      <td>6523.21</td>\n",
       "      <td>35992.98</td>\n",
       "      <td>144617.85</td>\n",
       "      <td>180610.83</td>\n",
       "      <td>NaN</td>\n",
       "      <td>San Francisco</td>\n",
       "      <td>NaN</td>\n",
       "    </tr>\n",
       "    <tr>\n",
       "      <th>4</th>\n",
       "      <td>78220</td>\n",
       "      <td>Robert J Dufresne</td>\n",
       "      <td>Transit Operator</td>\n",
       "      <td>69951.14</td>\n",
       "      <td>57791.57</td>\n",
       "      <td>9916.76</td>\n",
       "      <td>36450.22</td>\n",
       "      <td>137659.47</td>\n",
       "      <td>174109.69</td>\n",
       "      <td>NaN</td>\n",
       "      <td>San Francisco</td>\n",
       "      <td>NaN</td>\n",
       "    </tr>\n",
       "    <tr>\n",
       "      <th>...</th>\n",
       "      <td>...</td>\n",
       "      <td>...</td>\n",
       "      <td>...</td>\n",
       "      <td>...</td>\n",
       "      <td>...</td>\n",
       "      <td>...</td>\n",
       "      <td>...</td>\n",
       "      <td>...</td>\n",
       "      <td>...</td>\n",
       "      <td>...</td>\n",
       "      <td>...</td>\n",
       "      <td>...</td>\n",
       "    </tr>\n",
       "    <tr>\n",
       "      <th>2290</th>\n",
       "      <td>110138</td>\n",
       "      <td>Elias Y Sarsour</td>\n",
       "      <td>Transit Operator</td>\n",
       "      <td>NaN</td>\n",
       "      <td>0.00</td>\n",
       "      <td>437.88</td>\n",
       "      <td>102.84</td>\n",
       "      <td>437.88</td>\n",
       "      <td>540.72</td>\n",
       "      <td>NaN</td>\n",
       "      <td>San Francisco</td>\n",
       "      <td>NaN</td>\n",
       "    </tr>\n",
       "    <tr>\n",
       "      <th>2291</th>\n",
       "      <td>110179</td>\n",
       "      <td>Amado S Altobano</td>\n",
       "      <td>Transit Operator</td>\n",
       "      <td>371.95</td>\n",
       "      <td>0.00</td>\n",
       "      <td>0.00</td>\n",
       "      <td>105.34</td>\n",
       "      <td>371.95</td>\n",
       "      <td>477.29</td>\n",
       "      <td>NaN</td>\n",
       "      <td>San Francisco</td>\n",
       "      <td>NaN</td>\n",
       "    </tr>\n",
       "    <tr>\n",
       "      <th>2292</th>\n",
       "      <td>110384</td>\n",
       "      <td>Darrell L Dillard</td>\n",
       "      <td>Transit Operator</td>\n",
       "      <td>NaN</td>\n",
       "      <td>0.00</td>\n",
       "      <td>192.47</td>\n",
       "      <td>0.00</td>\n",
       "      <td>192.47</td>\n",
       "      <td>192.47</td>\n",
       "      <td>NaN</td>\n",
       "      <td>San Francisco</td>\n",
       "      <td>NaN</td>\n",
       "    </tr>\n",
       "    <tr>\n",
       "      <th>2293</th>\n",
       "      <td>110385</td>\n",
       "      <td>Sergio G Angulo</td>\n",
       "      <td>Transit Operator</td>\n",
       "      <td>NaN</td>\n",
       "      <td>0.00</td>\n",
       "      <td>186.18</td>\n",
       "      <td>0.00</td>\n",
       "      <td>186.18</td>\n",
       "      <td>186.18</td>\n",
       "      <td>NaN</td>\n",
       "      <td>San Francisco</td>\n",
       "      <td>NaN</td>\n",
       "    </tr>\n",
       "    <tr>\n",
       "      <th>2294</th>\n",
       "      <td>110441</td>\n",
       "      <td>Maria E Zuniga</td>\n",
       "      <td>Transit Operator</td>\n",
       "      <td>NaN</td>\n",
       "      <td>0.00</td>\n",
       "      <td>114.54</td>\n",
       "      <td>0.00</td>\n",
       "      <td>114.54</td>\n",
       "      <td>114.54</td>\n",
       "      <td>NaN</td>\n",
       "      <td>San Francisco</td>\n",
       "      <td>NaN</td>\n",
       "    </tr>\n",
       "  </tbody>\n",
       "</table>\n",
       "<p>2295 rows × 12 columns</p>\n",
       "</div>"
      ],
      "text/plain": [
       "          Id       EmployeeName          JobTitle   BasePay  OvertimePay  \\\n",
       "0      76221       Duane  Allen  Transit Operator  71656.21     77180.55   \n",
       "1      76791      Freeman  Chee  Transit Operator  70505.55     73855.36   \n",
       "2      77250    Louis E Galarce  Transit Operator  72756.19     66225.79   \n",
       "3      77511     Nancy  Padilla  Transit Operator  70905.54     67189.10   \n",
       "4      78220  Robert J Dufresne  Transit Operator  69951.14     57791.57   \n",
       "...      ...                ...               ...       ...          ...   \n",
       "2290  110138    Elias Y Sarsour  Transit Operator       NaN         0.00   \n",
       "2291  110179   Amado S Altobano  Transit Operator    371.95         0.00   \n",
       "2292  110384  Darrell L Dillard  Transit Operator       NaN         0.00   \n",
       "2293  110385    Sergio G Angulo  Transit Operator       NaN         0.00   \n",
       "2294  110441     Maria E Zuniga  Transit Operator       NaN         0.00   \n",
       "\n",
       "      OtherPay  Benefits   TotalPay  TotalPayBenefits  Notes         Agency  \\\n",
       "0      8473.89  36885.14  157310.65         194195.79    NaN  San Francisco   \n",
       "1      6952.61  35914.07  151313.52         187227.59    NaN  San Francisco   \n",
       "2      6498.14  36882.74  145480.12         182362.86    NaN  San Francisco   \n",
       "3      6523.21  35992.98  144617.85         180610.83    NaN  San Francisco   \n",
       "4      9916.76  36450.22  137659.47         174109.69    NaN  San Francisco   \n",
       "...        ...       ...        ...               ...    ...            ...   \n",
       "2290    437.88    102.84     437.88            540.72    NaN  San Francisco   \n",
       "2291      0.00    105.34     371.95            477.29    NaN  San Francisco   \n",
       "2292    192.47      0.00     192.47            192.47    NaN  San Francisco   \n",
       "2293    186.18      0.00     186.18            186.18    NaN  San Francisco   \n",
       "2294    114.54      0.00     114.54            114.54    NaN  San Francisco   \n",
       "\n",
       "      Status  \n",
       "0        NaN  \n",
       "1        NaN  \n",
       "2        NaN  \n",
       "3        NaN  \n",
       "4        NaN  \n",
       "...      ...  \n",
       "2290     NaN  \n",
       "2291     NaN  \n",
       "2292     NaN  \n",
       "2293     NaN  \n",
       "2294     NaN  \n",
       "\n",
       "[2295 rows x 12 columns]"
      ]
     },
     "execution_count": 133,
     "metadata": {},
     "output_type": "execute_result"
    }
   ],
   "source": [
    "sample = sal[(sal['JobTitle'] == 'Transit Operator') & (sal['Year'] == 2013)]\n",
    "sample = sample.drop('Year', axis=1).reset_index(drop=True)\n",
    "sample"
   ]
  },
  {
   "cell_type": "code",
   "execution_count": 109,
   "metadata": {},
   "outputs": [
    {
     "data": {
      "text/plain": [
       "202"
      ]
     },
     "execution_count": 109,
     "metadata": {},
     "output_type": "execute_result"
    }
   ],
   "source": [
    "# single oocurance\n",
    "\n",
    "num_single_occurrence_jobs = (job_title_count == 1).sum()\n",
    "num_single_occurrence_jobs"
   ]
  },
  {
   "cell_type": "code",
   "execution_count": 139,
   "metadata": {},
   "outputs": [
    {
     "data": {
      "text/plain": [
       "202"
      ]
     },
     "execution_count": 139,
     "metadata": {},
     "output_type": "execute_result"
    }
   ],
   "source": [
    "(job_title_count <= 1).sum()"
   ]
  },
  {
   "cell_type": "code",
   "execution_count": 149,
   "metadata": {},
   "outputs": [
    {
     "data": {
      "text/html": [
       "<div>\n",
       "<style scoped>\n",
       "    .dataframe tbody tr th:only-of-type {\n",
       "        vertical-align: middle;\n",
       "    }\n",
       "\n",
       "    .dataframe tbody tr th {\n",
       "        vertical-align: top;\n",
       "    }\n",
       "\n",
       "    .dataframe thead th {\n",
       "        text-align: right;\n",
       "    }\n",
       "</style>\n",
       "<table border=\"1\" class=\"dataframe\">\n",
       "  <thead>\n",
       "    <tr style=\"text-align: right;\">\n",
       "      <th></th>\n",
       "      <th>Id</th>\n",
       "      <th>EmployeeName</th>\n",
       "      <th>JobTitle</th>\n",
       "      <th>BasePay</th>\n",
       "      <th>OvertimePay</th>\n",
       "      <th>OtherPay</th>\n",
       "      <th>Benefits</th>\n",
       "      <th>TotalPay</th>\n",
       "      <th>TotalPayBenefits</th>\n",
       "      <th>Year</th>\n",
       "      <th>Notes</th>\n",
       "      <th>Agency</th>\n",
       "      <th>Status</th>\n",
       "    </tr>\n",
       "  </thead>\n",
       "  <tbody>\n",
       "  </tbody>\n",
       "</table>\n",
       "</div>"
      ],
      "text/plain": [
       "Empty DataFrame\n",
       "Columns: [Id, EmployeeName, JobTitle, BasePay, OvertimePay, OtherPay, Benefits, TotalPay, TotalPayBenefits, Year, Notes, Agency, Status]\n",
       "Index: []"
      ]
     },
     "execution_count": 149,
     "metadata": {},
     "output_type": "execute_result"
    }
   ],
   "source": [
    "sal_2013[sal_2013['JobTitle'].isin(job_title_count)]"
   ]
  },
  {
   "cell_type": "code",
   "execution_count": 153,
   "metadata": {},
   "outputs": [
    {
     "data": {
      "text/html": [
       "<div>\n",
       "<style scoped>\n",
       "    .dataframe tbody tr th:only-of-type {\n",
       "        vertical-align: middle;\n",
       "    }\n",
       "\n",
       "    .dataframe tbody tr th {\n",
       "        vertical-align: top;\n",
       "    }\n",
       "\n",
       "    .dataframe thead th {\n",
       "        text-align: right;\n",
       "    }\n",
       "</style>\n",
       "<table border=\"1\" class=\"dataframe\">\n",
       "  <thead>\n",
       "    <tr style=\"text-align: right;\">\n",
       "      <th></th>\n",
       "      <th>Id</th>\n",
       "      <th>EmployeeName</th>\n",
       "      <th>JobTitle</th>\n",
       "      <th>BasePay</th>\n",
       "      <th>OvertimePay</th>\n",
       "      <th>OtherPay</th>\n",
       "      <th>Benefits</th>\n",
       "      <th>TotalPay</th>\n",
       "      <th>TotalPayBenefits</th>\n",
       "      <th>Year</th>\n",
       "      <th>Notes</th>\n",
       "      <th>Agency</th>\n",
       "      <th>Status</th>\n",
       "    </tr>\n",
       "  </thead>\n",
       "  <tbody>\n",
       "    <tr>\n",
       "      <th>72925</th>\n",
       "      <td>72926</td>\n",
       "      <td>Gregory P Suhr</td>\n",
       "      <td>Chief of Police</td>\n",
       "      <td>319275.01</td>\n",
       "      <td>0.00</td>\n",
       "      <td>20007.06</td>\n",
       "      <td>86533.21</td>\n",
       "      <td>339282.07</td>\n",
       "      <td>425815.28</td>\n",
       "      <td>2013</td>\n",
       "      <td>NaN</td>\n",
       "      <td>San Francisco</td>\n",
       "      <td>NaN</td>\n",
       "    </tr>\n",
       "    <tr>\n",
       "      <th>72926</th>\n",
       "      <td>72927</td>\n",
       "      <td>Joanne M Hayes-White</td>\n",
       "      <td>Chief, Fire Department</td>\n",
       "      <td>313686.01</td>\n",
       "      <td>0.00</td>\n",
       "      <td>23236.00</td>\n",
       "      <td>85431.39</td>\n",
       "      <td>336922.01</td>\n",
       "      <td>422353.40</td>\n",
       "      <td>2013</td>\n",
       "      <td>NaN</td>\n",
       "      <td>San Francisco</td>\n",
       "      <td>NaN</td>\n",
       "    </tr>\n",
       "    <tr>\n",
       "      <th>72927</th>\n",
       "      <td>72928</td>\n",
       "      <td>Samson  Lai</td>\n",
       "      <td>Battalion Chief, Fire Suppress</td>\n",
       "      <td>186236.42</td>\n",
       "      <td>131217.63</td>\n",
       "      <td>29648.27</td>\n",
       "      <td>57064.95</td>\n",
       "      <td>347102.32</td>\n",
       "      <td>404167.27</td>\n",
       "      <td>2013</td>\n",
       "      <td>NaN</td>\n",
       "      <td>San Francisco</td>\n",
       "      <td>NaN</td>\n",
       "    </tr>\n",
       "    <tr>\n",
       "      <th>72928</th>\n",
       "      <td>72929</td>\n",
       "      <td>Ellen G Moffatt</td>\n",
       "      <td>Asst Med Examiner</td>\n",
       "      <td>272855.51</td>\n",
       "      <td>23727.91</td>\n",
       "      <td>38954.54</td>\n",
       "      <td>66198.92</td>\n",
       "      <td>335537.96</td>\n",
       "      <td>401736.88</td>\n",
       "      <td>2013</td>\n",
       "      <td>NaN</td>\n",
       "      <td>San Francisco</td>\n",
       "      <td>NaN</td>\n",
       "    </tr>\n",
       "    <tr>\n",
       "      <th>72929</th>\n",
       "      <td>72930</td>\n",
       "      <td>Robert L Shaw</td>\n",
       "      <td>Dep Dir for Investments, Ret</td>\n",
       "      <td>315572.01</td>\n",
       "      <td>0.00</td>\n",
       "      <td>0.00</td>\n",
       "      <td>82849.66</td>\n",
       "      <td>315572.01</td>\n",
       "      <td>398421.67</td>\n",
       "      <td>2013</td>\n",
       "      <td>NaN</td>\n",
       "      <td>San Francisco</td>\n",
       "      <td>NaN</td>\n",
       "    </tr>\n",
       "    <tr>\n",
       "      <th>...</th>\n",
       "      <td>...</td>\n",
       "      <td>...</td>\n",
       "      <td>...</td>\n",
       "      <td>...</td>\n",
       "      <td>...</td>\n",
       "      <td>...</td>\n",
       "      <td>...</td>\n",
       "      <td>...</td>\n",
       "      <td>...</td>\n",
       "      <td>...</td>\n",
       "      <td>...</td>\n",
       "      <td>...</td>\n",
       "      <td>...</td>\n",
       "    </tr>\n",
       "    <tr>\n",
       "      <th>110526</th>\n",
       "      <td>110527</td>\n",
       "      <td>Arthur L Curry</td>\n",
       "      <td>PS Aide Health Services</td>\n",
       "      <td>NaN</td>\n",
       "      <td>0.00</td>\n",
       "      <td>10.67</td>\n",
       "      <td>0.00</td>\n",
       "      <td>10.67</td>\n",
       "      <td>10.67</td>\n",
       "      <td>2013</td>\n",
       "      <td>NaN</td>\n",
       "      <td>San Francisco</td>\n",
       "      <td>NaN</td>\n",
       "    </tr>\n",
       "    <tr>\n",
       "      <th>110527</th>\n",
       "      <td>110528</td>\n",
       "      <td>Nereida  Vega</td>\n",
       "      <td>Senior Clerk</td>\n",
       "      <td>NaN</td>\n",
       "      <td>0.00</td>\n",
       "      <td>5.56</td>\n",
       "      <td>0.00</td>\n",
       "      <td>5.56</td>\n",
       "      <td>5.56</td>\n",
       "      <td>2013</td>\n",
       "      <td>NaN</td>\n",
       "      <td>San Francisco</td>\n",
       "      <td>NaN</td>\n",
       "    </tr>\n",
       "    <tr>\n",
       "      <th>110528</th>\n",
       "      <td>110529</td>\n",
       "      <td>Timothy E Gibson</td>\n",
       "      <td>Police Officer 3</td>\n",
       "      <td>NaN</td>\n",
       "      <td>0.00</td>\n",
       "      <td>0.00</td>\n",
       "      <td>-2.73</td>\n",
       "      <td>0.00</td>\n",
       "      <td>-2.73</td>\n",
       "      <td>2013</td>\n",
       "      <td>NaN</td>\n",
       "      <td>San Francisco</td>\n",
       "      <td>NaN</td>\n",
       "    </tr>\n",
       "    <tr>\n",
       "      <th>110529</th>\n",
       "      <td>110530</td>\n",
       "      <td>Mark E Laherty</td>\n",
       "      <td>Police Officer 3</td>\n",
       "      <td>NaN</td>\n",
       "      <td>0.00</td>\n",
       "      <td>0.00</td>\n",
       "      <td>-8.20</td>\n",
       "      <td>0.00</td>\n",
       "      <td>-8.20</td>\n",
       "      <td>2013</td>\n",
       "      <td>NaN</td>\n",
       "      <td>San Francisco</td>\n",
       "      <td>NaN</td>\n",
       "    </tr>\n",
       "    <tr>\n",
       "      <th>110530</th>\n",
       "      <td>110531</td>\n",
       "      <td>David P Kucia</td>\n",
       "      <td>Police Officer 3</td>\n",
       "      <td>NaN</td>\n",
       "      <td>0.00</td>\n",
       "      <td>0.00</td>\n",
       "      <td>-33.89</td>\n",
       "      <td>0.00</td>\n",
       "      <td>-33.89</td>\n",
       "      <td>2013</td>\n",
       "      <td>NaN</td>\n",
       "      <td>San Francisco</td>\n",
       "      <td>NaN</td>\n",
       "    </tr>\n",
       "  </tbody>\n",
       "</table>\n",
       "<p>37606 rows × 13 columns</p>\n",
       "</div>"
      ],
      "text/plain": [
       "            Id          EmployeeName                        JobTitle  \\\n",
       "72925    72926        Gregory P Suhr                 Chief of Police   \n",
       "72926    72927  Joanne M Hayes-White          Chief, Fire Department   \n",
       "72927    72928           Samson  Lai  Battalion Chief, Fire Suppress   \n",
       "72928    72929       Ellen G Moffatt               Asst Med Examiner   \n",
       "72929    72930         Robert L Shaw    Dep Dir for Investments, Ret   \n",
       "...        ...                   ...                             ...   \n",
       "110526  110527        Arthur L Curry         PS Aide Health Services   \n",
       "110527  110528         Nereida  Vega                    Senior Clerk   \n",
       "110528  110529      Timothy E Gibson                Police Officer 3   \n",
       "110529  110530        Mark E Laherty                Police Officer 3   \n",
       "110530  110531         David P Kucia                Police Officer 3   \n",
       "\n",
       "          BasePay  OvertimePay  OtherPay  Benefits   TotalPay  \\\n",
       "72925   319275.01         0.00  20007.06  86533.21  339282.07   \n",
       "72926   313686.01         0.00  23236.00  85431.39  336922.01   \n",
       "72927   186236.42    131217.63  29648.27  57064.95  347102.32   \n",
       "72928   272855.51     23727.91  38954.54  66198.92  335537.96   \n",
       "72929   315572.01         0.00      0.00  82849.66  315572.01   \n",
       "...           ...          ...       ...       ...        ...   \n",
       "110526        NaN         0.00     10.67      0.00      10.67   \n",
       "110527        NaN         0.00      5.56      0.00       5.56   \n",
       "110528        NaN         0.00      0.00     -2.73       0.00   \n",
       "110529        NaN         0.00      0.00     -8.20       0.00   \n",
       "110530        NaN         0.00      0.00    -33.89       0.00   \n",
       "\n",
       "        TotalPayBenefits  Year  Notes         Agency  Status  \n",
       "72925          425815.28  2013    NaN  San Francisco     NaN  \n",
       "72926          422353.40  2013    NaN  San Francisco     NaN  \n",
       "72927          404167.27  2013    NaN  San Francisco     NaN  \n",
       "72928          401736.88  2013    NaN  San Francisco     NaN  \n",
       "72929          398421.67  2013    NaN  San Francisco     NaN  \n",
       "...                  ...   ...    ...            ...     ...  \n",
       "110526             10.67  2013    NaN  San Francisco     NaN  \n",
       "110527              5.56  2013    NaN  San Francisco     NaN  \n",
       "110528             -2.73  2013    NaN  San Francisco     NaN  \n",
       "110529             -8.20  2013    NaN  San Francisco     NaN  \n",
       "110530            -33.89  2013    NaN  San Francisco     NaN  \n",
       "\n",
       "[37606 rows x 13 columns]"
      ]
     },
     "execution_count": 153,
     "metadata": {},
     "output_type": "execute_result"
    }
   ],
   "source": [
    "sal_13 = sal[sal['Year'] == 2013]\n",
    "sal_13"
   ]
  },
  {
   "cell_type": "code",
   "execution_count": 157,
   "metadata": {},
   "outputs": [
    {
     "data": {
      "text/plain": [
       "JobTitle\n",
       "Transit Operator                  2295\n",
       "Special Nurse                     1445\n",
       "Registered Nurse                  1231\n",
       "Public Svc Aide-Public Works       859\n",
       "Custodian                          789\n",
       "                                  ... \n",
       "Sr General Utility Mechanic          1\n",
       "Sprv Adult Prob Ofc (SFERS)          1\n",
       "Mayoral Staff XII                    1\n",
       "Pr Investigator, Tax Collector       1\n",
       "Senior Assessment Clerk              1\n",
       "Name: count, Length: 1051, dtype: int64"
      ]
     },
     "execution_count": 157,
     "metadata": {},
     "output_type": "execute_result"
    }
   ],
   "source": [
    "job_count = sal_13['JobTitle'].value_counts()\n",
    "job_count"
   ]
  },
  {
   "cell_type": "code",
   "execution_count": 158,
   "metadata": {},
   "outputs": [
    {
     "data": {
      "text/plain": [
       "789"
      ]
     },
     "execution_count": 158,
     "metadata": {},
     "output_type": "execute_result"
    }
   ],
   "source": [
    "job_count['Custodian']"
   ]
  },
  {
   "cell_type": "code",
   "execution_count": 164,
   "metadata": {},
   "outputs": [
    {
     "data": {
      "text/plain": [
       "JobTitle\n",
       "Senior Assessment Clerk            1\n",
       "Real Estate Devt. Mgr, SFMTA       1\n",
       "Assistant Director, Probate        1\n",
       "Chief Fire Alarm Dispatcher        1\n",
       "Chief Housing Inspector            1\n",
       "                                ... \n",
       "Custodian                        789\n",
       "Public Svc Aide-Public Works     859\n",
       "Registered Nurse                1231\n",
       "Special Nurse                   1445\n",
       "Transit Operator                2295\n",
       "Name: count, Length: 1051, dtype: int64"
      ]
     },
     "execution_count": 164,
     "metadata": {},
     "output_type": "execute_result"
    }
   ],
   "source": [
    "job_count.sort_values(ascending=True)"
   ]
  },
  {
   "cell_type": "code",
   "execution_count": 167,
   "metadata": {},
   "outputs": [
    {
     "data": {
      "text/plain": [
       "JobTitle\n",
       "Transit Operator                  2295\n",
       "Special Nurse                     1445\n",
       "Registered Nurse                  1231\n",
       "Public Svc Aide-Public Works       859\n",
       "Custodian                          789\n",
       "                                  ... \n",
       "Sr General Utility Mechanic          1\n",
       "Sprv Adult Prob Ofc (SFERS)          1\n",
       "Mayoral Staff XII                    1\n",
       "Pr Investigator, Tax Collector       1\n",
       "Senior Assessment Clerk              1\n",
       "Name: count, Length: 1051, dtype: int64"
      ]
     },
     "execution_count": 167,
     "metadata": {},
     "output_type": "execute_result"
    }
   ],
   "source": [
    "job_count"
   ]
  },
  {
   "cell_type": "code",
   "execution_count": 168,
   "metadata": {},
   "outputs": [
    {
     "data": {
      "text/plain": [
       "202"
      ]
     },
     "execution_count": 168,
     "metadata": {},
     "output_type": "execute_result"
    }
   ],
   "source": [
    "(job_count == 1).sum()"
   ]
  },
  {
   "cell_type": "code",
   "execution_count": 171,
   "metadata": {},
   "outputs": [
    {
     "data": {
      "text/plain": [
       "Index(['Laboratory Technician I', 'Sctry, Juv Probation Comm',\n",
       "       'Drug Court Coordinator', 'IS Operator-Journey',\n",
       "       'Court Asst., Superior Court', 'Asst Director, Juvenile Hall',\n",
       "       'Special Assistant 14', 'Parking Hearing Examiner',\n",
       "       'Public Safety Comm Tech', 'Chief Deputy Adlt Probation Of',\n",
       "       ...\n",
       "       'Arborist Technician Supv II', 'Secretary, Library Commission',\n",
       "       'Ex Asst to the Controller', 'Animal Care Supervisor',\n",
       "       'Training Technician', 'Sr General Utility Mechanic',\n",
       "       'Sprv Adult Prob Ofc (SFERS)', 'Mayoral Staff XII',\n",
       "       'Pr Investigator, Tax Collector', 'Senior Assessment Clerk'],\n",
       "      dtype='object', name='JobTitle', length=202)"
      ]
     },
     "execution_count": 171,
     "metadata": {},
     "output_type": "execute_result"
    }
   ],
   "source": [
    "job_title_count.index[job_title_count == 1]"
   ]
  },
  {
   "cell_type": "code",
   "execution_count": 186,
   "metadata": {},
   "outputs": [
    {
     "data": {
      "text/plain": [
       "72925                    Chief of Police\n",
       "72926             Chief, Fire Department\n",
       "72927     Battalion Chief, Fire Suppress\n",
       "72928                  Asst Med Examiner\n",
       "72929       Dep Dir for Investments, Ret\n",
       "                       ...              \n",
       "110526           PS Aide Health Services\n",
       "110527                      Senior Clerk\n",
       "110528                  Police Officer 3\n",
       "110529                  Police Officer 3\n",
       "110530                  Police Officer 3\n",
       "Name: JobTitle, Length: 37606, dtype: object"
      ]
     },
     "execution_count": 186,
     "metadata": {},
     "output_type": "execute_result"
    }
   ],
   "source": [
    "a = sal_13['JobTitle']\n",
    "a"
   ]
  },
  {
   "cell_type": "code",
   "execution_count": 187,
   "metadata": {},
   "outputs": [
    {
     "data": {
      "text/plain": [
       "Index(['Transit Operator', 'Special Nurse', 'Registered Nurse',\n",
       "       'Public Svc Aide-Public Works', 'Custodian', 'Firefighter',\n",
       "       'Police Officer 3', 'Patient Care Assistant', 'Recreation Leader',\n",
       "       'Deputy Sheriff',\n",
       "       ...\n",
       "       'Arborist Technician Supv II', 'Secretary, Library Commission',\n",
       "       'Ex Asst to the Controller', 'Animal Care Supervisor',\n",
       "       'Training Technician', 'Sr General Utility Mechanic',\n",
       "       'Sprv Adult Prob Ofc (SFERS)', 'Mayoral Staff XII',\n",
       "       'Pr Investigator, Tax Collector', 'Senior Assessment Clerk'],\n",
       "      dtype='object', name='JobTitle', length=1051)"
      ]
     },
     "execution_count": 187,
     "metadata": {},
     "output_type": "execute_result"
    }
   ],
   "source": [
    "b = job_title_count.index[job_title_count>= 1]\n",
    "b"
   ]
  },
  {
   "cell_type": "code",
   "execution_count": 188,
   "metadata": {},
   "outputs": [
    {
     "data": {
      "text/html": [
       "<div>\n",
       "<style scoped>\n",
       "    .dataframe tbody tr th:only-of-type {\n",
       "        vertical-align: middle;\n",
       "    }\n",
       "\n",
       "    .dataframe tbody tr th {\n",
       "        vertical-align: top;\n",
       "    }\n",
       "\n",
       "    .dataframe thead th {\n",
       "        text-align: right;\n",
       "    }\n",
       "</style>\n",
       "<table border=\"1\" class=\"dataframe\">\n",
       "  <thead>\n",
       "    <tr style=\"text-align: right;\">\n",
       "      <th></th>\n",
       "      <th>Id</th>\n",
       "      <th>EmployeeName</th>\n",
       "      <th>JobTitle</th>\n",
       "      <th>BasePay</th>\n",
       "      <th>OvertimePay</th>\n",
       "      <th>OtherPay</th>\n",
       "      <th>Benefits</th>\n",
       "      <th>TotalPay</th>\n",
       "      <th>TotalPayBenefits</th>\n",
       "      <th>Year</th>\n",
       "      <th>Notes</th>\n",
       "      <th>Agency</th>\n",
       "      <th>Status</th>\n",
       "    </tr>\n",
       "  </thead>\n",
       "  <tbody>\n",
       "    <tr>\n",
       "      <th>72925</th>\n",
       "      <td>72926</td>\n",
       "      <td>Gregory P Suhr</td>\n",
       "      <td>Chief of Police</td>\n",
       "      <td>319275.01</td>\n",
       "      <td>0.00</td>\n",
       "      <td>20007.06</td>\n",
       "      <td>86533.21</td>\n",
       "      <td>339282.07</td>\n",
       "      <td>425815.28</td>\n",
       "      <td>2013</td>\n",
       "      <td>NaN</td>\n",
       "      <td>San Francisco</td>\n",
       "      <td>NaN</td>\n",
       "    </tr>\n",
       "    <tr>\n",
       "      <th>72926</th>\n",
       "      <td>72927</td>\n",
       "      <td>Joanne M Hayes-White</td>\n",
       "      <td>Chief, Fire Department</td>\n",
       "      <td>313686.01</td>\n",
       "      <td>0.00</td>\n",
       "      <td>23236.00</td>\n",
       "      <td>85431.39</td>\n",
       "      <td>336922.01</td>\n",
       "      <td>422353.40</td>\n",
       "      <td>2013</td>\n",
       "      <td>NaN</td>\n",
       "      <td>San Francisco</td>\n",
       "      <td>NaN</td>\n",
       "    </tr>\n",
       "    <tr>\n",
       "      <th>72927</th>\n",
       "      <td>72928</td>\n",
       "      <td>Samson  Lai</td>\n",
       "      <td>Battalion Chief, Fire Suppress</td>\n",
       "      <td>186236.42</td>\n",
       "      <td>131217.63</td>\n",
       "      <td>29648.27</td>\n",
       "      <td>57064.95</td>\n",
       "      <td>347102.32</td>\n",
       "      <td>404167.27</td>\n",
       "      <td>2013</td>\n",
       "      <td>NaN</td>\n",
       "      <td>San Francisco</td>\n",
       "      <td>NaN</td>\n",
       "    </tr>\n",
       "    <tr>\n",
       "      <th>72928</th>\n",
       "      <td>72929</td>\n",
       "      <td>Ellen G Moffatt</td>\n",
       "      <td>Asst Med Examiner</td>\n",
       "      <td>272855.51</td>\n",
       "      <td>23727.91</td>\n",
       "      <td>38954.54</td>\n",
       "      <td>66198.92</td>\n",
       "      <td>335537.96</td>\n",
       "      <td>401736.88</td>\n",
       "      <td>2013</td>\n",
       "      <td>NaN</td>\n",
       "      <td>San Francisco</td>\n",
       "      <td>NaN</td>\n",
       "    </tr>\n",
       "    <tr>\n",
       "      <th>72929</th>\n",
       "      <td>72930</td>\n",
       "      <td>Robert L Shaw</td>\n",
       "      <td>Dep Dir for Investments, Ret</td>\n",
       "      <td>315572.01</td>\n",
       "      <td>0.00</td>\n",
       "      <td>0.00</td>\n",
       "      <td>82849.66</td>\n",
       "      <td>315572.01</td>\n",
       "      <td>398421.67</td>\n",
       "      <td>2013</td>\n",
       "      <td>NaN</td>\n",
       "      <td>San Francisco</td>\n",
       "      <td>NaN</td>\n",
       "    </tr>\n",
       "    <tr>\n",
       "      <th>...</th>\n",
       "      <td>...</td>\n",
       "      <td>...</td>\n",
       "      <td>...</td>\n",
       "      <td>...</td>\n",
       "      <td>...</td>\n",
       "      <td>...</td>\n",
       "      <td>...</td>\n",
       "      <td>...</td>\n",
       "      <td>...</td>\n",
       "      <td>...</td>\n",
       "      <td>...</td>\n",
       "      <td>...</td>\n",
       "      <td>...</td>\n",
       "    </tr>\n",
       "    <tr>\n",
       "      <th>110526</th>\n",
       "      <td>110527</td>\n",
       "      <td>Arthur L Curry</td>\n",
       "      <td>PS Aide Health Services</td>\n",
       "      <td>NaN</td>\n",
       "      <td>0.00</td>\n",
       "      <td>10.67</td>\n",
       "      <td>0.00</td>\n",
       "      <td>10.67</td>\n",
       "      <td>10.67</td>\n",
       "      <td>2013</td>\n",
       "      <td>NaN</td>\n",
       "      <td>San Francisco</td>\n",
       "      <td>NaN</td>\n",
       "    </tr>\n",
       "    <tr>\n",
       "      <th>110527</th>\n",
       "      <td>110528</td>\n",
       "      <td>Nereida  Vega</td>\n",
       "      <td>Senior Clerk</td>\n",
       "      <td>NaN</td>\n",
       "      <td>0.00</td>\n",
       "      <td>5.56</td>\n",
       "      <td>0.00</td>\n",
       "      <td>5.56</td>\n",
       "      <td>5.56</td>\n",
       "      <td>2013</td>\n",
       "      <td>NaN</td>\n",
       "      <td>San Francisco</td>\n",
       "      <td>NaN</td>\n",
       "    </tr>\n",
       "    <tr>\n",
       "      <th>110528</th>\n",
       "      <td>110529</td>\n",
       "      <td>Timothy E Gibson</td>\n",
       "      <td>Police Officer 3</td>\n",
       "      <td>NaN</td>\n",
       "      <td>0.00</td>\n",
       "      <td>0.00</td>\n",
       "      <td>-2.73</td>\n",
       "      <td>0.00</td>\n",
       "      <td>-2.73</td>\n",
       "      <td>2013</td>\n",
       "      <td>NaN</td>\n",
       "      <td>San Francisco</td>\n",
       "      <td>NaN</td>\n",
       "    </tr>\n",
       "    <tr>\n",
       "      <th>110529</th>\n",
       "      <td>110530</td>\n",
       "      <td>Mark E Laherty</td>\n",
       "      <td>Police Officer 3</td>\n",
       "      <td>NaN</td>\n",
       "      <td>0.00</td>\n",
       "      <td>0.00</td>\n",
       "      <td>-8.20</td>\n",
       "      <td>0.00</td>\n",
       "      <td>-8.20</td>\n",
       "      <td>2013</td>\n",
       "      <td>NaN</td>\n",
       "      <td>San Francisco</td>\n",
       "      <td>NaN</td>\n",
       "    </tr>\n",
       "    <tr>\n",
       "      <th>110530</th>\n",
       "      <td>110531</td>\n",
       "      <td>David P Kucia</td>\n",
       "      <td>Police Officer 3</td>\n",
       "      <td>NaN</td>\n",
       "      <td>0.00</td>\n",
       "      <td>0.00</td>\n",
       "      <td>-33.89</td>\n",
       "      <td>0.00</td>\n",
       "      <td>-33.89</td>\n",
       "      <td>2013</td>\n",
       "      <td>NaN</td>\n",
       "      <td>San Francisco</td>\n",
       "      <td>NaN</td>\n",
       "    </tr>\n",
       "  </tbody>\n",
       "</table>\n",
       "<p>37606 rows × 13 columns</p>\n",
       "</div>"
      ],
      "text/plain": [
       "            Id          EmployeeName                        JobTitle  \\\n",
       "72925    72926        Gregory P Suhr                 Chief of Police   \n",
       "72926    72927  Joanne M Hayes-White          Chief, Fire Department   \n",
       "72927    72928           Samson  Lai  Battalion Chief, Fire Suppress   \n",
       "72928    72929       Ellen G Moffatt               Asst Med Examiner   \n",
       "72929    72930         Robert L Shaw    Dep Dir for Investments, Ret   \n",
       "...        ...                   ...                             ...   \n",
       "110526  110527        Arthur L Curry         PS Aide Health Services   \n",
       "110527  110528         Nereida  Vega                    Senior Clerk   \n",
       "110528  110529      Timothy E Gibson                Police Officer 3   \n",
       "110529  110530        Mark E Laherty                Police Officer 3   \n",
       "110530  110531         David P Kucia                Police Officer 3   \n",
       "\n",
       "          BasePay  OvertimePay  OtherPay  Benefits   TotalPay  \\\n",
       "72925   319275.01         0.00  20007.06  86533.21  339282.07   \n",
       "72926   313686.01         0.00  23236.00  85431.39  336922.01   \n",
       "72927   186236.42    131217.63  29648.27  57064.95  347102.32   \n",
       "72928   272855.51     23727.91  38954.54  66198.92  335537.96   \n",
       "72929   315572.01         0.00      0.00  82849.66  315572.01   \n",
       "...           ...          ...       ...       ...        ...   \n",
       "110526        NaN         0.00     10.67      0.00      10.67   \n",
       "110527        NaN         0.00      5.56      0.00       5.56   \n",
       "110528        NaN         0.00      0.00     -2.73       0.00   \n",
       "110529        NaN         0.00      0.00     -8.20       0.00   \n",
       "110530        NaN         0.00      0.00    -33.89       0.00   \n",
       "\n",
       "        TotalPayBenefits  Year  Notes         Agency  Status  \n",
       "72925          425815.28  2013    NaN  San Francisco     NaN  \n",
       "72926          422353.40  2013    NaN  San Francisco     NaN  \n",
       "72927          404167.27  2013    NaN  San Francisco     NaN  \n",
       "72928          401736.88  2013    NaN  San Francisco     NaN  \n",
       "72929          398421.67  2013    NaN  San Francisco     NaN  \n",
       "...                  ...   ...    ...            ...     ...  \n",
       "110526             10.67  2013    NaN  San Francisco     NaN  \n",
       "110527              5.56  2013    NaN  San Francisco     NaN  \n",
       "110528             -2.73  2013    NaN  San Francisco     NaN  \n",
       "110529             -8.20  2013    NaN  San Francisco     NaN  \n",
       "110530            -33.89  2013    NaN  San Francisco     NaN  \n",
       "\n",
       "[37606 rows x 13 columns]"
      ]
     },
     "execution_count": 188,
     "metadata": {},
     "output_type": "execute_result"
    }
   ],
   "source": [
    "c = sal_13[a.isin(b)]\n",
    "c"
   ]
  },
  {
   "cell_type": "code",
   "execution_count": null,
   "metadata": {},
   "outputs": [],
   "source": []
  },
  {
   "cell_type": "code",
   "execution_count": 146,
   "metadata": {},
   "outputs": [
    {
     "data": {
      "text/html": [
       "<div>\n",
       "<style scoped>\n",
       "    .dataframe tbody tr th:only-of-type {\n",
       "        vertical-align: middle;\n",
       "    }\n",
       "\n",
       "    .dataframe tbody tr th {\n",
       "        vertical-align: top;\n",
       "    }\n",
       "\n",
       "    .dataframe thead th {\n",
       "        text-align: right;\n",
       "    }\n",
       "</style>\n",
       "<table border=\"1\" class=\"dataframe\">\n",
       "  <thead>\n",
       "    <tr style=\"text-align: right;\">\n",
       "      <th></th>\n",
       "      <th>Id</th>\n",
       "      <th>EmployeeName</th>\n",
       "      <th>JobTitle</th>\n",
       "      <th>BasePay</th>\n",
       "      <th>OvertimePay</th>\n",
       "      <th>OtherPay</th>\n",
       "      <th>Benefits</th>\n",
       "      <th>TotalPay</th>\n",
       "      <th>TotalPayBenefits</th>\n",
       "      <th>Year</th>\n",
       "      <th>Notes</th>\n",
       "      <th>Agency</th>\n",
       "      <th>Status</th>\n",
       "    </tr>\n",
       "  </thead>\n",
       "  <tbody>\n",
       "    <tr>\n",
       "      <th>72925</th>\n",
       "      <td>72926</td>\n",
       "      <td>Gregory P Suhr</td>\n",
       "      <td>Chief of Police</td>\n",
       "      <td>319275.01</td>\n",
       "      <td>0.0</td>\n",
       "      <td>20007.06</td>\n",
       "      <td>86533.21</td>\n",
       "      <td>339282.07</td>\n",
       "      <td>425815.28</td>\n",
       "      <td>2013</td>\n",
       "      <td>NaN</td>\n",
       "      <td>San Francisco</td>\n",
       "      <td>NaN</td>\n",
       "    </tr>\n",
       "    <tr>\n",
       "      <th>72926</th>\n",
       "      <td>72927</td>\n",
       "      <td>Joanne M Hayes-White</td>\n",
       "      <td>Chief, Fire Department</td>\n",
       "      <td>313686.01</td>\n",
       "      <td>0.0</td>\n",
       "      <td>23236.00</td>\n",
       "      <td>85431.39</td>\n",
       "      <td>336922.01</td>\n",
       "      <td>422353.40</td>\n",
       "      <td>2013</td>\n",
       "      <td>NaN</td>\n",
       "      <td>San Francisco</td>\n",
       "      <td>NaN</td>\n",
       "    </tr>\n",
       "    <tr>\n",
       "      <th>72929</th>\n",
       "      <td>72930</td>\n",
       "      <td>Robert L Shaw</td>\n",
       "      <td>Dep Dir for Investments, Ret</td>\n",
       "      <td>315572.01</td>\n",
       "      <td>0.0</td>\n",
       "      <td>0.00</td>\n",
       "      <td>82849.66</td>\n",
       "      <td>315572.01</td>\n",
       "      <td>398421.67</td>\n",
       "      <td>2013</td>\n",
       "      <td>NaN</td>\n",
       "      <td>San Francisco</td>\n",
       "      <td>NaN</td>\n",
       "    </tr>\n",
       "    <tr>\n",
       "      <th>72933</th>\n",
       "      <td>72934</td>\n",
       "      <td>Edward D Reiskin</td>\n",
       "      <td>Gen Mgr, Public Trnsp Dept</td>\n",
       "      <td>305307.89</td>\n",
       "      <td>0.0</td>\n",
       "      <td>0.00</td>\n",
       "      <td>80860.60</td>\n",
       "      <td>305307.89</td>\n",
       "      <td>386168.49</td>\n",
       "      <td>2013</td>\n",
       "      <td>NaN</td>\n",
       "      <td>San Francisco</td>\n",
       "      <td>NaN</td>\n",
       "    </tr>\n",
       "    <tr>\n",
       "      <th>72945</th>\n",
       "      <td>72946</td>\n",
       "      <td>Edwin M Lee</td>\n",
       "      <td>Mayor</td>\n",
       "      <td>285446.37</td>\n",
       "      <td>0.0</td>\n",
       "      <td>0.00</td>\n",
       "      <td>77105.29</td>\n",
       "      <td>285446.37</td>\n",
       "      <td>362551.66</td>\n",
       "      <td>2013</td>\n",
       "      <td>NaN</td>\n",
       "      <td>San Francisco</td>\n",
       "      <td>NaN</td>\n",
       "    </tr>\n",
       "    <tr>\n",
       "      <th>...</th>\n",
       "      <td>...</td>\n",
       "      <td>...</td>\n",
       "      <td>...</td>\n",
       "      <td>...</td>\n",
       "      <td>...</td>\n",
       "      <td>...</td>\n",
       "      <td>...</td>\n",
       "      <td>...</td>\n",
       "      <td>...</td>\n",
       "      <td>...</td>\n",
       "      <td>...</td>\n",
       "      <td>...</td>\n",
       "      <td>...</td>\n",
       "    </tr>\n",
       "    <tr>\n",
       "      <th>106963</th>\n",
       "      <td>106964</td>\n",
       "      <td>Hiedi L Antoine</td>\n",
       "      <td>IS Technician Assistant</td>\n",
       "      <td>NaN</td>\n",
       "      <td>0.0</td>\n",
       "      <td>0.00</td>\n",
       "      <td>7959.18</td>\n",
       "      <td>0.00</td>\n",
       "      <td>7959.18</td>\n",
       "      <td>2013</td>\n",
       "      <td>NaN</td>\n",
       "      <td>San Francisco</td>\n",
       "      <td>NaN</td>\n",
       "    </tr>\n",
       "    <tr>\n",
       "      <th>108503</th>\n",
       "      <td>108504</td>\n",
       "      <td>Saundra S Magana</td>\n",
       "      <td>Head Photographer</td>\n",
       "      <td>NaN</td>\n",
       "      <td>0.0</td>\n",
       "      <td>2987.97</td>\n",
       "      <td>540.52</td>\n",
       "      <td>2987.97</td>\n",
       "      <td>3528.49</td>\n",
       "      <td>2013</td>\n",
       "      <td>NaN</td>\n",
       "      <td>San Francisco</td>\n",
       "      <td>NaN</td>\n",
       "    </tr>\n",
       "    <tr>\n",
       "      <th>109811</th>\n",
       "      <td>109812</td>\n",
       "      <td>Kent A Cunningham</td>\n",
       "      <td>Animal Control Supervisor</td>\n",
       "      <td>662.70</td>\n",
       "      <td>0.0</td>\n",
       "      <td>25.40</td>\n",
       "      <td>294.41</td>\n",
       "      <td>688.10</td>\n",
       "      <td>982.51</td>\n",
       "      <td>2013</td>\n",
       "      <td>NaN</td>\n",
       "      <td>San Francisco</td>\n",
       "      <td>NaN</td>\n",
       "    </tr>\n",
       "    <tr>\n",
       "      <th>110512</th>\n",
       "      <td>110513</td>\n",
       "      <td>William John  Erkelens Jr</td>\n",
       "      <td>Special Assistant 14</td>\n",
       "      <td>26.34</td>\n",
       "      <td>0.0</td>\n",
       "      <td>0.00</td>\n",
       "      <td>0.26</td>\n",
       "      <td>26.34</td>\n",
       "      <td>26.60</td>\n",
       "      <td>2013</td>\n",
       "      <td>NaN</td>\n",
       "      <td>San Francisco</td>\n",
       "      <td>NaN</td>\n",
       "    </tr>\n",
       "    <tr>\n",
       "      <th>110516</th>\n",
       "      <td>110517</td>\n",
       "      <td>Maria D Quinones</td>\n",
       "      <td>Senior Assessment Clerk</td>\n",
       "      <td>NaN</td>\n",
       "      <td>0.0</td>\n",
       "      <td>20.73</td>\n",
       "      <td>0.00</td>\n",
       "      <td>20.73</td>\n",
       "      <td>20.73</td>\n",
       "      <td>2013</td>\n",
       "      <td>NaN</td>\n",
       "      <td>San Francisco</td>\n",
       "      <td>NaN</td>\n",
       "    </tr>\n",
       "  </tbody>\n",
       "</table>\n",
       "<p>202 rows × 13 columns</p>\n",
       "</div>"
      ],
      "text/plain": [
       "            Id               EmployeeName                      JobTitle  \\\n",
       "72925    72926             Gregory P Suhr               Chief of Police   \n",
       "72926    72927       Joanne M Hayes-White        Chief, Fire Department   \n",
       "72929    72930              Robert L Shaw  Dep Dir for Investments, Ret   \n",
       "72933    72934           Edward D Reiskin    Gen Mgr, Public Trnsp Dept   \n",
       "72945    72946                Edwin M Lee                         Mayor   \n",
       "...        ...                        ...                           ...   \n",
       "106963  106964            Hiedi L Antoine       IS Technician Assistant   \n",
       "108503  108504           Saundra S Magana             Head Photographer   \n",
       "109811  109812          Kent A Cunningham     Animal Control Supervisor   \n",
       "110512  110513  William John  Erkelens Jr          Special Assistant 14   \n",
       "110516  110517           Maria D Quinones       Senior Assessment Clerk   \n",
       "\n",
       "          BasePay  OvertimePay  OtherPay  Benefits   TotalPay  \\\n",
       "72925   319275.01          0.0  20007.06  86533.21  339282.07   \n",
       "72926   313686.01          0.0  23236.00  85431.39  336922.01   \n",
       "72929   315572.01          0.0      0.00  82849.66  315572.01   \n",
       "72933   305307.89          0.0      0.00  80860.60  305307.89   \n",
       "72945   285446.37          0.0      0.00  77105.29  285446.37   \n",
       "...           ...          ...       ...       ...        ...   \n",
       "106963        NaN          0.0      0.00   7959.18       0.00   \n",
       "108503        NaN          0.0   2987.97    540.52    2987.97   \n",
       "109811     662.70          0.0     25.40    294.41     688.10   \n",
       "110512      26.34          0.0      0.00      0.26      26.34   \n",
       "110516        NaN          0.0     20.73      0.00      20.73   \n",
       "\n",
       "        TotalPayBenefits  Year  Notes         Agency  Status  \n",
       "72925          425815.28  2013    NaN  San Francisco     NaN  \n",
       "72926          422353.40  2013    NaN  San Francisco     NaN  \n",
       "72929          398421.67  2013    NaN  San Francisco     NaN  \n",
       "72933          386168.49  2013    NaN  San Francisco     NaN  \n",
       "72945          362551.66  2013    NaN  San Francisco     NaN  \n",
       "...                  ...   ...    ...            ...     ...  \n",
       "106963           7959.18  2013    NaN  San Francisco     NaN  \n",
       "108503           3528.49  2013    NaN  San Francisco     NaN  \n",
       "109811            982.51  2013    NaN  San Francisco     NaN  \n",
       "110512             26.60  2013    NaN  San Francisco     NaN  \n",
       "110516             20.73  2013    NaN  San Francisco     NaN  \n",
       "\n",
       "[202 rows x 13 columns]"
      ]
     },
     "execution_count": 146,
     "metadata": {},
     "output_type": "execute_result"
    }
   ],
   "source": [
    "sal_2013_one_person_job = sal_2013[sal_2013['JobTitle'].isin(job_title_count.index[job_title_count == 1])]\n",
    "sal_2013_one_person_job"
   ]
  },
  {
   "cell_type": "markdown",
   "metadata": {
    "id": "0Cz8kbLF6asf"
   },
   "source": [
    "** How many people have the word Chief in their job title? (This is pretty tricky) **"
   ]
  },
  {
   "cell_type": "code",
   "execution_count": null,
   "metadata": {
    "collapsed": true,
    "id": "GA5GqOgw6asf",
    "jupyter": {
     "outputs_hidden": true
    }
   },
   "outputs": [],
   "source": []
  },
  {
   "cell_type": "code",
   "execution_count": null,
   "metadata": {
    "id": "pOC3a1s16asg",
    "outputId": "cc40dada-4076-4134-fa1f-feda2f5b0aab"
   },
   "outputs": [
    {
     "data": {
      "text/plain": [
       "477"
      ]
     },
     "execution_count": 21,
     "metadata": {},
     "output_type": "execute_result"
    }
   ],
   "source": []
  },
  {
   "cell_type": "markdown",
   "metadata": {
    "id": "WiO2R73k6asg"
   },
   "source": [
    "** Bonus: Is there a correlation between length of the Job Title string and Salary? **"
   ]
  },
  {
   "cell_type": "code",
   "execution_count": null,
   "metadata": {
    "id": "KjmtQEJv6asg"
   },
   "outputs": [],
   "source": []
  },
  {
   "cell_type": "code",
   "execution_count": null,
   "metadata": {
    "id": "AgR7C-VG6asg",
    "outputId": "701a040d-b2b2-45a0-ed48-83b3800910f8"
   },
   "outputs": [
    {
     "data": {
      "text/html": [
       "<div>\n",
       "<table border=\"1\" class=\"dataframe\">\n",
       "  <thead>\n",
       "    <tr style=\"text-align: right;\">\n",
       "      <th></th>\n",
       "      <th>title_len</th>\n",
       "      <th>TotalPayBenefits</th>\n",
       "    </tr>\n",
       "  </thead>\n",
       "  <tbody>\n",
       "    <tr>\n",
       "      <th>title_len</th>\n",
       "      <td>1.000000</td>\n",
       "      <td>-0.036878</td>\n",
       "    </tr>\n",
       "    <tr>\n",
       "      <th>TotalPayBenefits</th>\n",
       "      <td>-0.036878</td>\n",
       "      <td>1.000000</td>\n",
       "    </tr>\n",
       "  </tbody>\n",
       "</table>\n",
       "</div>"
      ],
      "text/plain": [
       "                  title_len  TotalPayBenefits\n",
       "title_len          1.000000         -0.036878\n",
       "TotalPayBenefits  -0.036878          1.000000"
      ]
     },
     "execution_count": 23,
     "metadata": {},
     "output_type": "execute_result"
    }
   ],
   "source": []
  },
  {
   "cell_type": "markdown",
   "metadata": {
    "id": "YZcVCnCU6ash"
   },
   "source": [
    "# Great Job!"
   ]
  }
 ],
 "metadata": {
  "colab": {
   "provenance": []
  },
  "kernelspec": {
   "display_name": "Python 3 (ipykernel)",
   "language": "python",
   "name": "python3"
  },
  "language_info": {
   "codemirror_mode": {
    "name": "ipython",
    "version": 3
   },
   "file_extension": ".py",
   "mimetype": "text/x-python",
   "name": "python",
   "nbconvert_exporter": "python",
   "pygments_lexer": "ipython3",
   "version": "3.9.5"
  }
 },
 "nbformat": 4,
 "nbformat_minor": 4
}
