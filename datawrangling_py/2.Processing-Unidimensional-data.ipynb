{
 "cells": [
  {
   "cell_type": "code",
   "execution_count": 1,
   "id": "eae0368f-adc8-4861-b089-ffbbdc9a6e55",
   "metadata": {},
   "outputs": [],
   "source": [
    "\n",
    "# data cleansing\n",
    "\n",
    "# feature engineering\n",
    "\n"
   ]
  },
  {
   "cell_type": "code",
   "execution_count": null,
   "id": "596e8d20-3279-472f-bfd7-58585e92a5e5",
   "metadata": {},
   "outputs": [],
   "source": [
    "\n",
    "# 1. summarising the data (mean,median,sum)\n",
    "\n",
    "# 2. transforming values (applying mathematical operations such as sub, add, taking a log)\n",
    "\n",
    "# 3. selecting / removing metric that meets specific criteria"
   ]
  },
  {
   "cell_type": "code",
   "execution_count": 132,
   "id": "955c2d3f-0695-4712-b68f-876e45bd3bd2",
   "metadata": {},
   "outputs": [],
   "source": [
    "\n",
    "#Topic -  Aggregating numberic data based on three measures\n",
    "\n",
    "\n",
    "\n",
    "\n",
    "# Measures of Location (central tendency measures such as mean and median)\n",
    "# mean is sensitive to outliers\n",
    "\n",
    "\n",
    "# Measures of Dispersion (standard deviation and IQR) -> tells us how much variability in our data\n",
    "# standard deviation is sensitive to outliers\n",
    "\n",
    "\n",
    "# Measures of dsitribution/shapes (ex: skewness)\n",
    "\n",
    "\n",
    "\n",
    "# Box and whisker plots"
   ]
  },
  {
   "cell_type": "code",
   "execution_count": 6,
   "id": "d8cd972a-d0db-4789-8faa-f297fb9c2d74",
   "metadata": {},
   "outputs": [
    {
     "name": "stdout",
     "output_type": "stream",
     "text": [
      "----------------------------------------------------------------------------------------------------\n",
      "Measures of Location - mean and median\n"
     ]
    }
   ],
   "source": [
    "print(50*'--')\n",
    "print(\"Measures of Location - mean and median\")"
   ]
  },
  {
   "cell_type": "code",
   "execution_count": 11,
   "id": "9ac7a314-9e77-4ff3-97d6-6147364c34be",
   "metadata": {},
   "outputs": [
    {
     "name": "stdout",
     "output_type": "stream",
     "text": [
      "arithmetic mean -> sum of all observations divided by sample\n"
     ]
    },
    {
     "data": {
      "text/plain": [
       "160.13679222932953"
      ]
     },
     "execution_count": 11,
     "metadata": {},
     "output_type": "execute_result"
    }
   ],
   "source": [
    "import numpy as np\n",
    "\n",
    "print(\"arithmetic mean -> sum of all observations divided by sample\")\n",
    "\n",
    "heights = np.genfromtxt(\"https://raw.githubusercontent.com/gagolews/\" +\n",
    "    \"teaching-data/master/marek/nhanes_adult_female_height_2020.txt\")\n",
    "\n",
    "np.mean(heights)"
   ]
  },
  {
   "cell_type": "code",
   "execution_count": 15,
   "id": "76ecdc9d-49e4-4a15-b4fc-4ca0c715fef5",
   "metadata": {},
   "outputs": [
    {
     "name": "stdout",
     "output_type": "stream",
     "text": [
      "arithmetic median -> being the middle value of sorted version of sample if its length is odd\n",
      "being the mean of two middle values if the sample length is even\n"
     ]
    },
    {
     "data": {
      "text/plain": [
       "160.1"
      ]
     },
     "execution_count": 15,
     "metadata": {},
     "output_type": "execute_result"
    }
   ],
   "source": [
    "print(\"arithmetic median -> being the middle value of sorted version of sample if its length is odd\")\n",
    "print(\"being the mean of two middle values if the sample length is even\")\n",
    "\n",
    "len(heights) # its odd\n",
    "np.median(heights)"
   ]
  },
  {
   "cell_type": "code",
   "execution_count": 22,
   "id": "80510e72-98fa-475c-9257-5d06b581baeb",
   "metadata": {},
   "outputs": [
    {
     "name": "stdout",
     "output_type": "stream",
     "text": [
      "****************************************************************************************************\n",
      "key points to note\n",
      "****************************************************************************************************\n"
     ]
    }
   ],
   "source": [
    "print(50*'**')\n",
    "print(\"key points to note\")\n",
    "print(50*'**')"
   ]
  },
  {
   "cell_type": "code",
   "execution_count": null,
   "id": "f3f8d9df-139a-46d7-acfb-8a334049f267",
   "metadata": {},
   "outputs": [],
   "source": [
    "# for symmetric distributions, mean and median are more or less equal\n",
    "\n",
    "# for skewed distributions, the arithmetic mean will be biased towards heavier tail\n",
    "\n",
    "# example below"
   ]
  },
  {
   "cell_type": "code",
   "execution_count": 19,
   "id": "b960a6f7-c6c5-47f6-bc94-e7dd72e5276c",
   "metadata": {},
   "outputs": [
    {
     "data": {
      "text/plain": [
       "(array([131., 238., 238., 147.,  95.,  55.,  29.,  23.,  10.,  12.,   5.,\n",
       "          7.,   4.,   3.,   2.,   0.,   0.,   0.,   0.,   1.]),\n",
       " array([  5750.  ,  15460.95,  25171.9 ,  34882.85,  44593.8 ,  54304.75,\n",
       "         64015.7 ,  73726.65,  83437.6 ,  93148.55, 102859.5 , 112570.45,\n",
       "        122281.4 , 131992.35, 141703.3 , 151414.25, 161125.2 , 170836.15,\n",
       "        180547.1 , 190258.05, 199969.  ]),\n",
       " <BarContainer object of 20 artists>)"
      ]
     },
     "execution_count": 19,
     "metadata": {},
     "output_type": "execute_result"
    },
    {
     "data": {
      "image/png": "[encoded data removed]",
      "text/plain": [
       "<Figure size 640x480 with 1 Axes>"
      ]
     },
     "metadata": {},
     "output_type": "display_data"
    }
   ],
   "source": [
    "import matplotlib.pyplot as plt\n",
    "\n",
    "income = np.genfromtxt(\"https://raw.githubusercontent.com/gagolews/\" +\n",
    "\"teaching-data/master/marek/uk_income_simulated_2020.txt\")\n",
    "\n",
    "plt.hist(income,bins=20)"
   ]
  },
  {
   "cell_type": "code",
   "execution_count": 20,
   "id": "3fba734b-e0ac-461d-a8e4-b40ea5b60ae7",
   "metadata": {},
   "outputs": [
    {
     "data": {
      "text/plain": [
       "35779.994"
      ]
     },
     "execution_count": 20,
     "metadata": {},
     "output_type": "execute_result"
    }
   ],
   "source": [
    "np.mean(income)"
   ]
  },
  {
   "cell_type": "code",
   "execution_count": 21,
   "id": "cfa6903c-d1d4-45d9-adae-d9a8fe315c73",
   "metadata": {},
   "outputs": [
    {
     "data": {
      "text/plain": [
       "30042.0"
      ]
     },
     "execution_count": 21,
     "metadata": {},
     "output_type": "execute_result"
    }
   ],
   "source": [
    "np.median(income)"
   ]
  },
  {
   "cell_type": "code",
   "execution_count": 83,
   "id": "9d0c23eb-75f5-4625-aed1-6b588f955d4b",
   "metadata": {},
   "outputs": [
    {
     "name": "stdout",
     "output_type": "stream",
     "text": [
      "Excersise\n",
      "----------------------------------------------------------------------------------------------------\n"
     ]
    }
   ],
   "source": [
    "print(\"Excersise\")\n",
    "print(50*'--')\n",
    "\n",
    "# 1. Write a function that computesthe median without the use of numpy.median (based on its mathematical definition and numpy.sort)"
   ]
  },
  {
   "cell_type": "code",
   "execution_count": 77,
   "id": "b8bf47db-88bd-4cb7-a470-c5339e2bfabe",
   "metadata": {},
   "outputs": [],
   "source": [
    "def compute_median(data):\n",
    "\n",
    "    sorted_data = np.sort(data)\n",
    "    n = len(sorted_data);\n",
    "    print(\"\\n\",n)\n",
    "    print(\"\\n data\",sorted_data)\n",
    "    if n%2 == 1:\n",
    "        print(\"its odd\")\n",
    "        median = sorted_data[n//2]\n",
    "        print(\"\\n median\",median)\n",
    "    else:\n",
    "        print(\"its even\")\n",
    "        median = (sorted_data[n//2-1] + sorted_data[n//2])/2\n",
    "        print(\"\\n median\",median)\n",
    "\n",
    "data = [10,30,55,66,77,8,19,9,9,9,1,2,1,1]\n"
   ]
  },
  {
   "cell_type": "code",
   "execution_count": 79,
   "id": "d0689f32-f117-429d-a8b6-8513fc436241",
   "metadata": {},
   "outputs": [
    {
     "name": "stdout",
     "output_type": "stream",
     "text": [
      "\n",
      " 14\n",
      "\n",
      " data [ 1  1  1  2  8  9  9  9 10 19 30 55 66 77]\n",
      "its even\n",
      "\n",
      " median 9.0\n"
     ]
    }
   ],
   "source": [
    "compute_median(data)"
   ]
  },
  {
   "cell_type": "code",
   "execution_count": 80,
   "id": "fc70b064-3f90-4f31-8dbd-9a32ea7f60da",
   "metadata": {},
   "outputs": [
    {
     "name": "stdout",
     "output_type": "stream",
     "text": [
      "\n",
      " 1000\n",
      "\n",
      " data [  5750.   6274.   6340.   6496.   6864.   7035.   7712.   7989.   8103.\n",
      "   8171.   8429.   8662.   8830.   8870.   8961.   8966.   8967.   9043.\n",
      "   9169.   9285.   9428.   9455.   9475.   9556.   9560.   9568.   9585.\n",
      "   9660.   9883.  10035.  10063.  10080.  10105.  10456.  10519.  10665.\n",
      "  10685.  10699.  10843.  10853.  11075.  11111.  11116.  11212.  11233.\n",
      "  11234.  11237.  11345.  11349.  11443.  11541.  11568.  11569.  11594.\n",
      "  11680.  11883.  11931.  12047.  12054.  12106.  12159.  12185.  12280.\n",
      "  12290.  12330.  12340.  12406.  12678.  12686.  12698.  12699.  12717.\n",
      "  12759.  12811.  12825.  12852.  12983.  12988.  13028.  13053.  13182.\n",
      "  13226.  13238.  13420.  13425.  13458.  13472.  13506.  13528.  13529.\n",
      "  13598.  13626.  13714.  13753.  13791.  13801.  13805.  13851.  14046.\n",
      "  14065.  14225.  14228.  14264.  14269.  14281.  14343.  14430.  14470.\n",
      "  14532.  14584.  14603.  14629.  14661.  14708.  14793.  14804.  14882.\n",
      "  14901.  14908.  14909.  14942.  14985.  15047.  15056.  15166.  15168.\n",
      "  15318.  15327.  15335.  15350.  15450.  15463.  15492.  15524.  15661.\n",
      "  15678.  15688.  15711.  15741.  15766.  15789.  15883.  15913.  15936.\n",
      "  15973.  16013.  16015.  16059.  16093.  16117.  16148.  16219.  16220.\n",
      "  16239.  16245.  16253.  16365.  16369.  16387.  16441.  16470.  16484.\n",
      "  16540.  16566.  16569.  16652.  16652.  16683.  16694.  16714.  16876.\n",
      "  16896.  16997.  17099.  17141.  17162.  17231.  17404.  17485.  17581.\n",
      "  17667.  17673.  17695.  17883.  17906.  17980.  17985.  18111.  18153.\n",
      "  18160.  18207.  18319.  18322.  18355.  18369.  18383.  18486.  18695.\n",
      "  18785.  18811.  18815.  18815.  18856.  18871.  18886.  18891.  18893.\n",
      "  18975.  19027.  19082.  19140.  19216.  19344.  19376.  19418.  19440.\n",
      "  19486.  19493.  19503.  19552.  19569.  19579.  19605.  19620.  19642.\n",
      "  19698.  19712.  19765.  19807.  19837.  19880.  19897.  19899.  19959.\n",
      "  19972.  19973.  20070.  20106.  20232.  20258.  20313.  20328.  20363.\n",
      "  20385.  20444.  20467.  20486.  20520.  20592.  20654.  20675.  20709.\n",
      "  20715.  20814.  20879.  20911.  20960.  20972.  20993.  20997.  21013.\n",
      "  21049.  21082.  21102.  21116.  21146.  21251.  21295.  21321.  21322.\n",
      "  21334.  21334.  21339.  21344.  21366.  21491.  21509.  21534.  21550.\n",
      "  21567.  21574.  21638.  21784.  21885.  21932.  21936.  21988.  21992.\n",
      "  22011.  22052.  22067.  22076.  22203.  22255.  22257.  22295.  22378.\n",
      "  22403.  22409.  22418.  22482.  22498.  22513.  22598.  22644.  22698.\n",
      "  22725.  22761.  22800.  22836.  22836.  22844.  22906.  22944.  22995.\n",
      "  23003.  23007.  23019.  23068.  23122.  23127.  23143.  23256.  23322.\n",
      "  23399.  23430.  23434.  23438.  23443.  23592.  23673.  23690.  23761.\n",
      "  23788.  23897.  23904.  23907.  23972.  23987.  24017.  24042.  24074.\n",
      "  24141.  24193.  24270.  24300.  24306.  24322.  24338.  24340.  24357.\n",
      "  24370.  24422.  24576.  24614.  24678.  24681.  24699.  24727.  24739.\n",
      "  24748.  24819.  24972.  24979.  25033.  25063.  25130.  25132.  25146.\n",
      "  25246.  25268.  25284.  25333.  25349.  25369.  25378.  25415.  25455.\n",
      "  25470.  25538.  25569.  25577.  25621.  25713.  25817.  25855.  25967.\n",
      "  25971.  26013.  26022.  26107.  26145.  26167.  26174.  26187.  26243.\n",
      "  26255.  26278.  26294.  26334.  26348.  26355.  26366.  26373.  26384.\n",
      "  26406.  26421.  26450.  26490.  26538.  26550.  26561.  26575.  26615.\n",
      "  26617.  26637.  26664.  26701.  26721.  26790.  26804.  26819.  26840.\n",
      "  26888.  26901.  27034.  27151.  27165.  27231.  27278.  27504.  27543.\n",
      "  27635.  27656.  27657.  27733.  27805.  27843.  27858.  27910.  27953.\n",
      "  28018.  28041.  28083.  28084.  28139.  28147.  28162.  28220.  28221.\n",
      "  28222.  28233.  28253.  28258.  28283.  28295.  28320.  28338.  28344.\n",
      "  28368.  28398.  28454.  28462.  28476.  28524.  28549.  28552.  28584.\n",
      "  28590.  28618.  28656.  28815.  28833.  28914.  28922.  28948.  28983.\n",
      "  28995.  29041.  29101.  29138.  29247.  29289.  29302.  29307.  29364.\n",
      "  29379.  29384.  29387.  29405.  29428.  29601.  29630.  29687.  29809.\n",
      "  29910.  29927.  29930.  29981.  30008.  30076.  30220.  30241.  30250.\n",
      "  30316.  30341.  30438.  30492.  30550.  30612.  30711.  30718.  30824.\n",
      "  30855.  30878.  30882.  30946.  31028.  31044.  31047.  31072.  31128.\n",
      "  31142.  31172.  31216.  31278.  31306.  31313.  31403.  31485.  31509.\n",
      "  31523.  31585.  31622.  31673.  31702.  31705.  31753.  31791.  31819.\n",
      "  31884.  31996.  32015.  32024.  32037.  32045.  32073.  32084.  32132.\n",
      "  32178.  32210.  32234.  32324.  32420.  32484.  32506.  32515.  32523.\n",
      "  32560.  32565.  32630.  32660.  32693.  32746.  32757.  32769.  32913.\n",
      "  32923.  32976.  33025.  33105.  33106.  33172.  33233.  33243.  33378.\n",
      "  33391.  33407.  33526.  33709.  33710.  33723.  33745.  33836.  33875.\n",
      "  33885.  33887.  33915.  33919.  34010.  34016.  34122.  34141.  34208.\n",
      "  34218.  34269.  34304.  34345.  34371.  34418.  34468.  34471.  34596.\n",
      "  34604.  34666.  34739.  34810.  34963.  35029.  35085.  35136.  35137.\n",
      "  35149.  35206.  35293.  35346.  35407.  35592.  35610.  35620.  35630.\n",
      "  35653.  35656.  35703.  35839.  35843.  35848.  35848.  35906.  35924.\n",
      "  36015.  36058.  36140.  36286.  36299.  36308.  36333.  36344.  36605.\n",
      "  36810.  36825.  36880.  36901.  36994.  37014.  37095.  37099.  37147.\n",
      "  37188.  37193.  37223.  37283.  37300.  37306.  37333.  37372.  37391.\n",
      "  37456.  37473.  37524.  37657.  37677.  37733.  37798.  37854.  38009.\n",
      "  38035.  38065.  38204.  38240.  38372.  38410.  38458.  38476.  38569.\n",
      "  38571.  38599.  38651.  38865.  38940.  39010.  39014.  39048.  39074.\n",
      "  39076.  39148.  39155.  39248.  39478.  39506.  39527.  39611.  39680.\n",
      "  39723.  39881.  40013.  40032.  40160.  40302.  40334.  40461.  40500.\n",
      "  40522.  40653.  40846.  40852.  40904.  40978.  41009.  41045.  41091.\n",
      "  41217.  41257.  41308.  41350.  41548.  41553.  41571.  41592.  41700.\n",
      "  41956.  42062.  42102.  42154.  42231.  42234.  42501.  42617.  42682.\n",
      "  42703.  42895.  42898.  42934.  43036.  43090.  43230.  43257.  43313.\n",
      "  43393.  43404.  43479.  43539.  43604.  43684.  43742.  43778.  43831.\n",
      "  44003.  44026.  44119.  44138.  44282.  44348.  44414.  44622.  44637.\n",
      "  44732.  44751.  45086.  45097.  45143.  45160.  45251.  45357.  45387.\n",
      "  45390.  45453.  46024.  46118.  46141.  46143.  46181.  46338.  46419.\n",
      "  46501.  46565.  46575.  46911.  46912.  47182.  47213.  47330.  47412.\n",
      "  47429.  47477.  47487.  47502.  47698.  47704.  47797.  48148.  48268.\n",
      "  48301.  48377.  48380.  48487.  48503.  48745.  48842.  48921.  49046.\n",
      "  49049.  49070.  49090.  49182.  49343.  49393.  49588.  49603.  49650.\n",
      "  49667.  49831.  50011.  50101.  50138.  50163.  50191.  50203.  50265.\n",
      "  50512.  50638.  50761.  50789.  50991.  50996.  51098.  51170.  51224.\n",
      "  51323.  51895.  52329.  52441.  52510.  52549.  52695.  52714.  52996.\n",
      "  53156.  53279.  53289.  53402.  53411.  53512.  53898.  54054.  54123.\n",
      "  54190.  54238.  54273.  54324.  54359.  54500.  54528.  54567.  55163.\n",
      "  55206.  55286.  55403.  55451.  55456.  55677.  55985.  56100.  56131.\n",
      "  56324.  56450.  56455.  56848.  56856.  57292.  57294.  57306.  57321.\n",
      "  57453.  57803.  57805.  58009.  58018.  58293.  58494.  58616.  58758.\n",
      "  59184.  59293.  59739.  59950.  60106.  60685.  60758.  60922.  61047.\n",
      "  61150.  61262.  61564.  61680.  61716.  61716.  62070.  62197.  62339.\n",
      "  62683.  63018.  63177.  63829.  64059.  64095.  64519.  64724.  65120.\n",
      "  65400.  66371.  66663.  66681.  66736.  67072.  67149.  67904.  68082.\n",
      "  69142.  69592.  69719.  69764.  71341.  71352.  71511.  71857.  72188.\n",
      "  72549.  72722.  72723.  72840.  73414.  73665.  74019.  74062.  74547.\n",
      "  76078.  76307.  77074.  77440.  77588.  77893.  78144.  78226.  78689.\n",
      "  78735.  78886.  79388.  79624.  79841.  80252.  80400.  81574.  81706.\n",
      "  82148.  82844.  84854.  85223.  87329.  88087.  88118.  88951.  89314.\n",
      "  89893.  91194.  91555.  93550.  93817.  94069.  94676.  95186.  96411.\n",
      "  96709.  96948.  98721.  99448. 101607. 102409. 104125. 106158. 106629.\n",
      " 107784. 108512. 114681. 115122. 115490. 116565. 120307. 120887. 121921.\n",
      " 123310. 124287. 126333. 128571. 133569. 135021. 135338. 144307. 144889.\n",
      " 199969.]\n",
      "its even\n",
      "\n",
      " median 30042.0\n"
     ]
    }
   ],
   "source": [
    "compute_median(income)"
   ]
  },
  {
   "cell_type": "code",
   "execution_count": 90,
   "id": "f1cc7e76-675f-4dec-8966-baf2190b1f8b",
   "metadata": {},
   "outputs": [
    {
     "name": "stdout",
     "output_type": "stream",
     "text": [
      "\n",
      " mean -> 35779.994\n",
      "\n",
      " 2 -> 35779.994\n",
      "\n",
      " 3 -> 35779.994\n"
     ]
    }
   ],
   "source": [
    "# 2. how to compute mean without using np.mean()\n",
    "\n",
    "print(\"\\n mean ->\",np.mean(income))\n",
    "print(\"\\n 2 ->\",np.sum(income)/len(income))\n",
    "print(\"\\n 3 ->\",np.sum(income)/income.shape[0])"
   ]
  },
  {
   "cell_type": "code",
   "execution_count": 91,
   "id": "ba1ac8e0-3a70-4e1b-9dee-446ce34d19a1",
   "metadata": {},
   "outputs": [
    {
     "name": "stdout",
     "output_type": "stream",
     "text": [
      "why mean is sensitive to outliers?\n",
      "----------------------------------------------------------------------------------------------------\n"
     ]
    }
   ],
   "source": [
    "print(\"why mean is sensitive to outliers?\")\n",
    "print(50*'--')"
   ]
  },
  {
   "cell_type": "code",
   "execution_count": 94,
   "id": "26e83586-8349-4309-96c2-8bd0d84bbf15",
   "metadata": {},
   "outputs": [
    {
     "name": "stdout",
     "output_type": "stream",
     "text": [
      "35779.994\n",
      "45734.25974025974\n"
     ]
    }
   ],
   "source": [
    "income2 = np.append(income, [10000000])\n",
    "print(np.mean(income))\n",
    "print(np.mean(income2))"
   ]
  },
  {
   "cell_type": "code",
   "execution_count": 96,
   "id": "e44d145f-780f-4012-a1c3-b2ea3d092aec",
   "metadata": {},
   "outputs": [
    {
     "name": "stdout",
     "output_type": "stream",
     "text": [
      "30042.0\n",
      "30076.0\n"
     ]
    }
   ],
   "source": [
    "print(np.median(income))\n",
    "print(np.median(income2))"
   ]
  },
  {
   "cell_type": "code",
   "execution_count": 98,
   "id": "35580ec3-c231-4048-b41a-cd69e9d9709d",
   "metadata": {},
   "outputs": [
    {
     "name": "stdout",
     "output_type": "stream",
     "text": [
      "key point\n",
      "****************************************************************************************************\n",
      "\n",
      " for symmetric distribution -> mean is perfect\n",
      "\n",
      " for skewed distribution, median is the accurate one\n"
     ]
    }
   ],
   "source": [
    "print(\"key point\")\n",
    "print(50*'**')\n",
    "print(\"\\n for symmetric distribution -> mean is perfect\")\n",
    "print(\"\\n for skewed distribution, median is the accurate one\")"
   ]
  },
  {
   "cell_type": "code",
   "execution_count": 139,
   "id": "4e50dfae-2613-4ea2-9ac0-113a30246a8a",
   "metadata": {},
   "outputs": [],
   "source": [
    "# quantiles\n",
    "\n",
    "# q0 - np.min\n",
    "# q0.25(0.25 quantile) - first quartile (0.25)\n",
    "# q0.50(0.50 quantile) - second quartile (0.50) np.median\n",
    "# q0.75(0.75 quantile) - third quartile (0.75)\n",
    "# q1 - the maximum np.max"
   ]
  },
  {
   "cell_type": "code",
   "execution_count": 99,
   "id": "322aa7ba-c94e-4974-ac63-7a4cdfa616d3",
   "metadata": {},
   "outputs": [
    {
     "data": {
      "text/plain": [
       "array([131.1, 155.3, 160.1, 164.8, 189.3])"
      ]
     },
     "execution_count": 99,
     "metadata": {},
     "output_type": "execute_result"
    }
   ],
   "source": [
    "np.quantile(heights, [0, 0.25, 0.5, 0.75, 1])"
   ]
  },
  {
   "cell_type": "code",
   "execution_count": 103,
   "id": "c7ecf956-62eb-4788-a74f-e5f828b0c955",
   "metadata": {},
   "outputs": [
    {
     "name": "stdout",
     "output_type": "stream",
     "text": [
      "[  5750.  30042. 199969.]\n",
      "5750.0\n",
      "30042.0\n",
      "199969.0\n"
     ]
    }
   ],
   "source": [
    "print(np.quantile(income, [0,0.5,1]))\n",
    "print(np.min(income))\n",
    "print(np.median(income))\n",
    "print(np.max(income))"
   ]
  },
  {
   "cell_type": "code",
   "execution_count": 105,
   "id": "1e3137d5-d0fc-4deb-bdcd-bd4ff7ffa334",
   "metadata": {},
   "outputs": [
    {
     "data": {
      "text/plain": [
       "array([  5750.  ,  20669.75,  30042.  ,  44123.75, 199969.  ])"
      ]
     },
     "execution_count": 105,
     "metadata": {},
     "output_type": "execute_result"
    }
   ],
   "source": [
    "wh = [0, 0.25, 0.5, 0.75, 1]\n",
    "quantile = np.quantile(income,wh)\n",
    "quantile"
   ]
  },
  {
   "cell_type": "code",
   "execution_count": 106,
   "id": "0101b1cb-e0e6-453a-8b6b-050a6071c703",
   "metadata": {},
   "outputs": [
    {
     "name": "stdout",
     "output_type": "stream",
     "text": [
      "5750.0\n",
      "20669.75\n",
      "30042.0\n",
      "44123.75\n",
      "199969.0\n"
     ]
    }
   ],
   "source": [
    "for i in quantile:\n",
    "    print(i)"
   ]
  },
  {
   "cell_type": "code",
   "execution_count": 108,
   "id": "4937db60-c3da-4a20-859c-1d6bbe57673e",
   "metadata": {},
   "outputs": [],
   "source": [
    "\n",
    "# What is theincome bracket for 95% of the most typical UK taxpayers?\n",
    "# Inother words, determine the 2.5- and 97.5-percentiles.\n"
   ]
  },
  {
   "cell_type": "code",
   "execution_count": 115,
   "id": "7fa40e81-96aa-4a16-b1c0-1263609f2b08",
   "metadata": {},
   "outputs": [
    {
     "data": {
      "text/plain": [
       "array([ 9567.8  , 98739.175])"
      ]
     },
     "execution_count": 115,
     "metadata": {},
     "output_type": "execute_result"
    }
   ],
   "source": [
    "wh = [0.025,0.975]\n",
    "calc = np.quantile(income,wh)\n",
    "calc"
   ]
  },
  {
   "cell_type": "code",
   "execution_count": 117,
   "id": "70c22168-6253-46d3-a2c0-0e09625a14a2",
   "metadata": {},
   "outputs": [
    {
     "data": {
      "text/plain": [
       "(7.062021850008261, 22888.77122437908)"
      ]
     },
     "execution_count": 117,
     "metadata": {},
     "output_type": "execute_result"
    }
   ],
   "source": [
    "\n",
    "# Measures of dispersion\n",
    "\n",
    "\n",
    "\n",
    "\n",
    "# standard deviation and variance\n",
    "\n",
    "\n",
    "np.std(heights), np.std(income)"
   ]
  },
  {
   "cell_type": "code",
   "execution_count": null,
   "id": "b2fa313e-86a4-4204-b5c7-f6ecee2fb3f3",
   "metadata": {},
   "outputs": [],
   "source": [
    "# The standard deviation quantifies the typical amount of spread around the arithmetic mean."
   ]
  },
  {
   "cell_type": "code",
   "execution_count": 121,
   "id": "7a773f89-9f94-4eae-8789-45e5f0718b0a",
   "metadata": {},
   "outputs": [],
   "source": [
    "# Interquartile range (IQR)\n",
    "\n",
    "# is diffference between q3 and q1\n",
    "\n",
    "# It is a quite robust measure, as it ignores the 25% smallest and 25% largest observations. "
   ]
  },
  {
   "cell_type": "code",
   "execution_count": 120,
   "id": "58e532df-5852-493f-bde1-588526e3577e",
   "metadata": {},
   "outputs": [
    {
     "name": "stdout",
     "output_type": "stream",
     "text": [
      "9.5\n",
      "23454.0\n"
     ]
    }
   ],
   "source": [
    "print(np.quantile(heights,0.75) - np.quantile(heights,0.25))\n",
    "print(np.quantile(income,0.75) - np.quantile(income,0.25))"
   ]
  },
  {
   "cell_type": "code",
   "execution_count": 122,
   "id": "6aaf3edc-4c23-48b5-9411-cf2c5778beda",
   "metadata": {},
   "outputs": [],
   "source": [
    "# Measures of shapes\n",
    "\n",
    "# For symmetric distributions, skewness is approximately zero.\n",
    "\n",
    "# Positive and negative skewness indicates a heavier right and left tail, respectively."
   ]
  },
  {
   "cell_type": "code",
   "execution_count": 125,
   "id": "536c1ed3-3f8a-4822-9742-03c33976ee4d",
   "metadata": {},
   "outputs": [
    {
     "data": {
      "text/plain": [
       "0.0811184528074054"
      ]
     },
     "execution_count": 125,
     "metadata": {},
     "output_type": "execute_result"
    }
   ],
   "source": [
    "import scipy as scipy\n",
    "\n",
    "# symmetric distribution\n",
    "\n",
    "scipy.stats.skew(heights)"
   ]
  },
  {
   "cell_type": "code",
   "execution_count": 127,
   "id": "6bd7705e-1def-412b-87e2-4194c0defb96",
   "metadata": {},
   "outputs": [
    {
     "data": {
      "text/plain": [
       "1.9768735693998942"
      ]
     },
     "execution_count": 127,
     "metadata": {},
     "output_type": "execute_result"
    }
   ],
   "source": [
    "scipy.stats.skew(income) # positive / right skew"
   ]
  },
  {
   "cell_type": "code",
   "execution_count": 131,
   "id": "97b7ddc8-c18f-4e26-866e-47f27e166074",
   "metadata": {},
   "outputs": [
    {
     "data": {
      "text/plain": [
       "0.4003870665538113"
      ]
     },
     "execution_count": 131,
     "metadata": {},
     "output_type": "execute_result"
    }
   ],
   "source": [
    "marathon = np.genfromtxt(\"https://raw.githubusercontent.com/gagolews/\" +\n",
    "    \"teaching-data/master/marek/37_pzu_warsaw_marathon_mins.txt\")\n",
    "\n",
    "scipy.stats.skew(marathon)"
   ]
  },
  {
   "cell_type": "code",
   "execution_count": null,
   "id": "1e9532b7-b234-4bd8-b869-d2f72e48f0ce",
   "metadata": {},
   "outputs": [],
   "source": [
    "# Notes :\n",
    "\n",
    "# Skewness is a measure of the asymmetry of the probability distribution of a real-valued random variable.\n",
    "\n",
    "# calculated using skewness coefficient.\n",
    "\n",
    "# if skewnwss coefficient is positive then its positive skew.\n",
    "# if skewnwss coefficient is negative then its negative skew."
   ]
  },
  {
   "cell_type": "code",
   "execution_count": null,
   "id": "22fc7cf2-9845-43b8-aceb-90435cca681a",
   "metadata": {},
   "outputs": [],
   "source": [
    "\n",
    "\n",
    "# Box and whisker plots\n",
    "\n"
   ]
  },
  {
   "cell_type": "code",
   "execution_count": 137,
   "id": "17c33ed5-a9c7-4708-8c5c-4f9d840ea6f4",
   "metadata": {},
   "outputs": [
    {
     "data": {
      "text/plain": [
       "([<matplotlib.axis.YTick at 0x16dfbf9d0>], [Text(0, 1, 'income')])"
      ]
     },
     "execution_count": 137,
     "metadata": {},
     "output_type": "execute_result"
    },
    {
     "data": {
      "image/png": "[encoded data removed]",
      "text/plain": [
       "<Figure size 640x480 with 2 Axes>"
      ]
     },
     "metadata": {},
     "output_type": "display_data"
    }
   ],
   "source": [
    "plt.subplot(2, 1, 1) # two rows, one column; the first subplot \n",
    "plt.boxplot(heights, vert=False)\n",
    "plt.yticks([1], [\"heights\"]) # label at y=1\n",
    "plt.subplot(2, 1, 2) # two rows, one column; the second subplot \n",
    "plt.boxplot(income, vert=False)\n",
    "plt.yticks([1], [\"income\"]) # label at y=1 plt.show()"
   ]
  },
  {
   "cell_type": "code",
   "execution_count": null,
   "id": "42264bf0-d1b0-4590-933d-2186f29a7894",
   "metadata": {},
   "outputs": [],
   "source": [
    "# the box spans between first and third quartile\n",
    "\n",
    "# the median is the verticle bar\n",
    "\n",
    "# width of the box is IQR\n",
    "\n",
    "# the smallest observation (the minimum) or 𝑄1 − 1.5IQR (the left side of the\n",
    "# box minus 3/2 of its width), whichever is larger, and\n",
    "\n",
    "# the largest observation(themaximum) or 𝑄3+1.5IQR(the right side of the box plus 3/2 of its width), whichever is smaller."
   ]
  },
  {
   "cell_type": "code",
   "execution_count": null,
   "id": "2c8cd6e2-4043-42dd-bc64-cbb816ee6d27",
   "metadata": {},
   "outputs": [],
   "source": [
    "\n",
    "\n",
    "# violin plot  (leave some space)\n",
    "\n"
   ]
  },
  {
   "cell_type": "code",
   "execution_count": 147,
   "id": "a1b3d23e-5c10-4247-bf14-bcaba227caa3",
   "metadata": {},
   "outputs": [
    {
     "data": {
      "text/plain": [
       "array([-3.2, -3.2,  2.5,  2.5,  3.5,  3.5])"
      ]
     },
     "execution_count": 147,
     "metadata": {},
     "output_type": "execute_result"
    }
   ],
   "source": [
    "\n",
    "# vectorised mathematical functions\n",
    "\n",
    "np.abs([104.5,67,8])\n",
    "np.sqrt(19)\n",
    "np.round(897.5)\n",
    "np.floor(897.5)\n",
    "np.ceil(897.5)\n",
    "np.round([-3.249, -3.151, 2.49, 2.51, 3.49, 3.51], 1)"
   ]
  },
  {
   "cell_type": "code",
   "execution_count": 150,
   "id": "3e2942f9-32c8-4fc7-80f9-bd982ab8655d",
   "metadata": {},
   "outputs": [
    {
     "data": {
      "image/png": "[encoded data removed]",
      "text/plain": [
       "<Figure size 640x480 with 2 Axes>"
      ]
     },
     "metadata": {},
     "output_type": "display_data"
    }
   ],
   "source": [
    "plt.subplot(1, 2, 1)\n",
    "x = np.linspace(np.exp(-2), np.exp(3), 1001) \n",
    "plt.plot(x, np.log(x), label=\"$y=\\\\log x$\") \n",
    "plt.legend()\n",
    "plt.subplot(1, 2, 2)\n",
    "x = np.linspace(-2, 3, 1001)\n",
    "plt.plot(x, np.exp(x), label=\"$y=\\\\exp(x)$\")\n",
    "plt.legend()\n",
    "plt.show()"
   ]
  },
  {
   "cell_type": "code",
   "execution_count": null,
   "id": "c6ce11a5-966d-4dda-94f5-6148673c9ed5",
   "metadata": {},
   "outputs": [],
   "source": [
    "\n",
    "\n",
    "# Vector - scalar case\n"
   ]
  },
  {
   "cell_type": "code",
   "execution_count": 152,
   "id": "be405b00-1aca-4282-b269-dc73ac5783fa",
   "metadata": {},
   "outputs": [
    {
     "data": {
      "text/plain": [
       "array([ 100, 2025, 4489, 7921])"
      ]
     },
     "execution_count": 152,
     "metadata": {},
     "output_type": "execute_result"
    }
   ],
   "source": [
    "vec = np.array([10,45,67,89])\n",
    "vec**2"
   ]
  },
  {
   "cell_type": "code",
   "execution_count": 153,
   "id": "1dab8b77-b099-4087-bf87-1fc55b8844d9",
   "metadata": {},
   "outputs": [
    {
     "data": {
      "text/plain": [
       "array([ 100, 2025, 4489, 7921])"
      ]
     },
     "execution_count": 153,
     "metadata": {},
     "output_type": "execute_result"
    }
   ],
   "source": [
    "np.array([10,45,67,89])**2"
   ]
  },
  {
   "cell_type": "code",
   "execution_count": null,
   "id": "c8c02ad6-66f7-457c-92da-b26316ebd695",
   "metadata": {},
   "outputs": [],
   "source": [
    "# In the above case, each element in the vector is operated with a scalar and we get return of same vector (length) in return"
   ]
  }
 ],
 "metadata": {
  "kernelspec": {
   "display_name": "Python 3 (ipykernel)",
   "language": "python",
   "name": "python3"
  },
  "language_info": {
   "codemirror_mode": {
    "name": "ipython",
    "version": 3
   },
   "file_extension": ".py",
   "mimetype": "text/x-python",
   "name": "python",
   "nbconvert_exporter": "python",
   "pygments_lexer": "ipython3",
   "version": "3.9.5"
  }
 },
 "nbformat": 4,
 "nbformat_minor": 5
}
