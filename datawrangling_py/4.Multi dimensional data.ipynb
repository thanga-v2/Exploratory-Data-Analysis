{
 "cells": [
  {
   "cell_type": "code",
   "execution_count": 1,
   "id": "b274366d-4553-48dc-aa73-bd48fa261121",
   "metadata": {},
   "outputs": [],
   "source": [
    "\n",
    "\n",
    "# vector often represents n independent measurements of same quantitative property\n",
    "\n",
    "# ex - heights of n different employees, income of n different employees, heart rate of n different patients etc."
   ]
  },
  {
   "cell_type": "code",
   "execution_count": null,
   "id": "2dcc81d9-09ab-4ac0-9eab-df0a9c939069",
   "metadata": {},
   "outputs": [],
   "source": [
    "# we will be dealing with n points in m dimensional space"
   ]
  },
  {
   "cell_type": "code",
   "execution_count": 2,
   "id": "9a4f8c33-eccb-445e-99f0-a263ee762c87",
   "metadata": {},
   "outputs": [],
   "source": [
    "# n x m\n",
    "# n -> rows\n",
    "# m -> columns\n",
    "\n",
    "# vectors and matrices where designed to store the data of same type"
   ]
  },
  {
   "cell_type": "code",
   "execution_count": 4,
   "id": "4ceddb41-4d78-438a-8d70-c51ebdb18f00",
   "metadata": {},
   "outputs": [],
   "source": [
    "import numpy as np\n",
    "body = np.genfromtxt(\"https://raw.githubusercontent.com/gagolews/\" + \"teaching-data/master/marek/nhanes_adult_female_bmx_2020.csv\", delimiter=\",\")"
   ]
  },
  {
   "cell_type": "code",
   "execution_count": 6,
   "id": "d9953109-238a-4f70-8b86-f317a55c9f61",
   "metadata": {},
   "outputs": [
    {
     "data": {
      "text/plain": [
       "array([[  nan,   nan,   nan, ...,   nan,   nan,   nan],\n",
       "       [ 97.1, 160.2,  34.7, ...,  35.8, 126.1, 117.9],\n",
       "       [ 91.1, 152.7,  33.5, ...,  38.5, 125.5, 103.1],\n",
       "       ...,\n",
       "       [ 73. , 159.6,  36.2, ...,  31.4, 104.6,  99.3],\n",
       "       [ 78.6, 168.5,  38.1, ...,  36. , 102.4,  98.5],\n",
       "       [ 82.8, 147.8,  34.8, ...,  39.5, 121.4, 110. ]])"
      ]
     },
     "execution_count": 6,
     "metadata": {},
     "output_type": "execute_result"
    }
   ],
   "source": [
    "body"
   ]
  },
  {
   "cell_type": "code",
   "execution_count": 24,
   "id": "d1027502-4977-4aff-be98-2a61dca1a0d8",
   "metadata": {},
   "outputs": [],
   "source": [
    "body = np.genfromtxt(\"https://raw.githubusercontent.com/gagolews/\" + \n",
    "                     \"teaching-data/master/marek/nhanes_adult_female_bmx_2020.csv\", delimiter=\",\")[1:, :] # skip first row (column names)"
   ]
  },
  {
   "cell_type": "code",
   "execution_count": 25,
   "id": "61f3ba49-a5df-4de9-816a-2e7b7da5a0e1",
   "metadata": {},
   "outputs": [
    {
     "data": {
      "text/plain": [
       "array([[ 97.1, 160.2,  34.7, ...,  35.8, 126.1, 117.9],\n",
       "       [ 91.1, 152.7,  33.5, ...,  38.5, 125.5, 103.1],\n",
       "       [ 73. , 161.2,  37.4, ...,  31.8, 106.2,  92. ],\n",
       "       ...,\n",
       "       [ 73. , 159.6,  36.2, ...,  31.4, 104.6,  99.3],\n",
       "       [ 78.6, 168.5,  38.1, ...,  36. , 102.4,  98.5],\n",
       "       [ 82.8, 147.8,  34.8, ...,  39.5, 121.4, 110. ]])"
      ]
     },
     "execution_count": 25,
     "metadata": {},
     "output_type": "execute_result"
    }
   ],
   "source": [
    "body"
   ]
  },
  {
   "cell_type": "code",
   "execution_count": 26,
   "id": "bbf53e40-b3ee-4cbd-93ef-56513008f7f1",
   "metadata": {},
   "outputs": [
    {
     "data": {
      "text/plain": [
       "array([[ 97.1, 160.2,  34.7,  40.8,  35.8, 126.1, 117.9],\n",
       "       [ 91.1, 152.7,  33.5,  33. ,  38.5, 125.5, 103.1],\n",
       "       [ 73. , 161.2,  37.4,  38. ,  31.8, 106.2,  92. ],\n",
       "       [ 61.7, 157.4,  38. ,  34.7,  29. , 101. ,  90.5],\n",
       "       [ 55.4, 154.6,  34.6,  34. ,  28.3,  92.5,  73.2],\n",
       "       [ 62. , 144.7,  32.5,  34.2,  29.8, 106.7,  84.8]])"
      ]
     },
     "execution_count": 26,
     "metadata": {},
     "output_type": "execute_result"
    }
   ],
   "source": [
    "body[:6, :] # first 6 rows and all columns"
   ]
  },
  {
   "cell_type": "code",
   "execution_count": 27,
   "id": "15513d3d-ba51-41ac-8bf0-791d0c44e527",
   "metadata": {},
   "outputs": [],
   "source": [
    "body_columns = np.array([\n",
    "    \"weight (kg)\",\n",
    "    \"standing height (cm)\",\n",
    "    \"upper arm len. (cm)\",\n",
    "    \"upper leg len. (cm)\",\n",
    "    \"arm circ. (cm)\",\n",
    "    \"hip circ. (cm)\",\n",
    "    \"waist circ. (cm)\"\n",
    "])"
   ]
  },
  {
   "cell_type": "code",
   "execution_count": 28,
   "id": "ca9773f3-4fbf-47eb-b1ba-953f7240f8c2",
   "metadata": {},
   "outputs": [
    {
     "data": {
      "text/plain": [
       "array(['weight (kg)', 'standing height (cm)', 'upper arm len. (cm)',\n",
       "       'upper leg len. (cm)', 'arm circ. (cm)', 'hip circ. (cm)',\n",
       "       'waist circ. (cm)'], dtype='<U20')"
      ]
     },
     "execution_count": 28,
     "metadata": {},
     "output_type": "execute_result"
    }
   ],
   "source": [
    "body_columns"
   ]
  },
  {
   "cell_type": "code",
   "execution_count": 29,
   "id": "273e4488-6a79-4406-ab1d-fc9c79ff8cc3",
   "metadata": {},
   "outputs": [
    {
     "data": {
      "text/plain": [
       "numpy.ndarray"
      ]
     },
     "execution_count": 29,
     "metadata": {},
     "output_type": "execute_result"
    }
   ],
   "source": [
    "type(body)"
   ]
  },
  {
   "cell_type": "code",
   "execution_count": 30,
   "id": "4714edf8-88b4-4085-a0fa-e966abb7682c",
   "metadata": {},
   "outputs": [
    {
     "data": {
      "text/plain": [
       "2"
      ]
     },
     "execution_count": 30,
     "metadata": {},
     "output_type": "execute_result"
    }
   ],
   "source": [
    "body.ndim"
   ]
  },
  {
   "cell_type": "code",
   "execution_count": 31,
   "id": "55e74906-edd7-4537-9603-c4d459709fcb",
   "metadata": {},
   "outputs": [
    {
     "data": {
      "text/plain": [
       "(4221, 7)"
      ]
     },
     "execution_count": 31,
     "metadata": {},
     "output_type": "execute_result"
    }
   ],
   "source": [
    "body.shape"
   ]
  },
  {
   "cell_type": "code",
   "execution_count": 33,
   "id": "0ca3b48a-18e4-40e8-98e9-9084afcc9fba",
   "metadata": {},
   "outputs": [
    {
     "data": {
      "text/plain": [
       "array([[1, 2, 4, 5],\n",
       "       [2, 4, 5, 6],\n",
       "       [3, 4, 5, 7]])"
      ]
     },
     "execution_count": 33,
     "metadata": {},
     "output_type": "execute_result"
    }
   ],
   "source": [
    "np.array([[1,2,4,5],[2,4,5,6],[3,4,5,7]])"
   ]
  },
  {
   "cell_type": "code",
   "execution_count": 42,
   "id": "7d2075be-ea16-4df8-9850-43def2b64e57",
   "metadata": {},
   "outputs": [
    {
     "name": "stdout",
     "output_type": "stream",
     "text": [
      "\n",
      " [[1]\n",
      " [2]\n",
      " [3]]\n"
     ]
    },
    {
     "data": {
      "text/plain": [
       "array([[1, 2, 3]])"
      ]
     },
     "execution_count": 42,
     "metadata": {},
     "output_type": "execute_result"
    }
   ],
   "source": [
    "# uni dimensional \n",
    "np.array([1,2,3,4])\n",
    "\n",
    "# multi dimensional 3 x 1\n",
    "print(\"\\n\",np.array([[1],[2],[3]]))\n",
    "\n",
    "# multi dimensional 1 x 3\n",
    "np.array([[1,2,3,]])"
   ]
  },
  {
   "cell_type": "code",
   "execution_count": 59,
   "id": "811b7d0f-268a-4820-8953-a8e380dd33de",
   "metadata": {},
   "outputs": [
    {
     "name": "stdout",
     "output_type": "stream",
     "text": [
      "column vector \n",
      " [[1]\n",
      " [2]\n",
      " [3]\n",
      " [4]]\n"
     ]
    }
   ],
   "source": [
    "\n",
    "# column vector -> a single column of numbers / observations\n",
    "\n",
    "print(\"column vector \\n\",np.array([[1],[2],[3],[4]]))"
   ]
  },
  {
   "cell_type": "code",
   "execution_count": 70,
   "id": "4ecad907-5880-4b56-b9b5-ff1192538850",
   "metadata": {},
   "outputs": [
    {
     "name": "stdout",
     "output_type": "stream",
     "text": [
      "row vector \n",
      " [[1 2 3 4]]\n"
     ]
    }
   ],
   "source": [
    "\n",
    "# row vector -> a single row of numbers / observations\n",
    "\n",
    "print(\"row vector \\n\",np.array([[1,2,3,4]]))"
   ]
  },
  {
   "cell_type": "code",
   "execution_count": 75,
   "id": "69fc0b1a-d4cd-4740-88e6-870c71d7cda9",
   "metadata": {},
   "outputs": [
    {
     "data": {
      "text/plain": [
       "array([[1, 2, 3, 4],\n",
       "       [1, 2, 3, 4],\n",
       "       [1, 2, 3, 4]])"
      ]
     },
     "execution_count": 75,
     "metadata": {},
     "output_type": "execute_result"
    }
   ],
   "source": [
    "\n",
    "# repeating arrays \n",
    "\n",
    "# repeats a row vector -> row wisely\n",
    "\n",
    "np.repeat([[1,2,3,4]],3, axis=0)"
   ]
  },
  {
   "cell_type": "code",
   "execution_count": 77,
   "id": "290dd01b-7366-4b6a-8bb1-4afcf3febe5c",
   "metadata": {},
   "outputs": [
    {
     "data": {
      "text/plain": [
       "array([[1, 1, 1],\n",
       "       [2, 2, 2],\n",
       "       [3, 3, 3],\n",
       "       [4, 4, 4]])"
      ]
     },
     "execution_count": 77,
     "metadata": {},
     "output_type": "execute_result"
    }
   ],
   "source": [
    "\n",
    "# repeats a column vector -> column wisely\n",
    "\n",
    "np.repeat([[1],[2],[3],[4]],3,axis=1)"
   ]
  },
  {
   "cell_type": "code",
   "execution_count": 98,
   "id": "d3c5adab-c41d-4a91-af13-ef34e6d92150",
   "metadata": {},
   "outputs": [
    {
     "data": {
      "text/plain": [
       "array([[1, 2],\n",
       "       [1, 2],\n",
       "       [3, 4],\n",
       "       [3, 4],\n",
       "       [3, 4]])"
      ]
     },
     "execution_count": 98,
     "metadata": {},
     "output_type": "execute_result"
    }
   ],
   "source": [
    "\n",
    "# Excercises\n",
    "\n",
    "\n",
    "np.repeat([[1,2],[3,4]],[2,3],axis=0)"
   ]
  },
  {
   "cell_type": "code",
   "execution_count": 100,
   "id": "3430cb27-e4aa-45e5-95e5-d049a7c95a77",
   "metadata": {},
   "outputs": [
    {
     "data": {
      "text/plain": [
       "array([[1, 1, 1, 2, 2, 2]])"
      ]
     },
     "execution_count": 100,
     "metadata": {},
     "output_type": "execute_result"
    }
   ],
   "source": [
    "np.repeat([[1,2]],3,axis=1)"
   ]
  },
  {
   "cell_type": "code",
   "execution_count": 108,
   "id": "820e2646-5a64-424a-8542-f2c56f2cf326",
   "metadata": {},
   "outputs": [
    {
     "data": {
      "text/plain": [
       "array([[1, 2, 3],\n",
       "       [1, 2, 3],\n",
       "       [4, 5, 6],\n",
       "       [4, 5, 6],\n",
       "       [4, 5, 6],\n",
       "       [4, 5, 6]])"
      ]
     },
     "execution_count": 108,
     "metadata": {},
     "output_type": "execute_result"
    }
   ],
   "source": [
    "np.repeat([[1,2,3],[4,5,6]],[2,4],axis=0)"
   ]
  },
  {
   "cell_type": "code",
   "execution_count": 111,
   "id": "b0d23db7-84ba-489d-9ee5-113aac64ce80",
   "metadata": {},
   "outputs": [
    {
     "data": {
      "text/plain": [
       "array([[ 10,  40,  90],\n",
       "       [ 20,  50, 100]])"
      ]
     },
     "execution_count": 111,
     "metadata": {},
     "output_type": "execute_result"
    }
   ],
   "source": [
    "np.column_stack(([10,20],[40,50],[90,100]))"
   ]
  },
  {
   "cell_type": "code",
   "execution_count": 112,
   "id": "0497f0f6-794f-4358-960c-bfaed61d3d17",
   "metadata": {},
   "outputs": [
    {
     "data": {
      "text/plain": [
       "array([[ 10,  20],\n",
       "       [ 40,  50],\n",
       "       [ 90, 100]])"
      ]
     },
     "execution_count": 112,
     "metadata": {},
     "output_type": "execute_result"
    }
   ],
   "source": [
    "np.row_stack(([10,20],[40,50],[90,100]))"
   ]
  },
  {
   "cell_type": "code",
   "execution_count": 135,
   "id": "f9443912-d153-4d40-9b6b-25520ff6c670",
   "metadata": {},
   "outputs": [
    {
     "name": "stdout",
     "output_type": "stream",
     "text": [
      "[[1]\n",
      " [2]\n",
      " [3]]\n",
      "[[4]\n",
      " [5]\n",
      " [6]]\n",
      "[[1 2 3]]\n",
      "[[4 5 6]]\n"
     ]
    },
    {
     "data": {
      "text/plain": [
       "array([1, 2, 3, 4, 5, 6])"
      ]
     },
     "execution_count": 135,
     "metadata": {},
     "output_type": "execute_result"
    }
   ],
   "source": [
    "arr1 = [1,2,3]\n",
    "arr2 = [4,5,6]\n",
    "_2darr1 = np.expand_dims(arr1,axis=1)\n",
    "_2darr2 = np.expand_dims(arr2,axis=1)\n",
    "print(_2darr1)\n",
    "print(_2darr2)\n",
    "_2dr_arr1 = np.expand_dims(arr1,axis=0)\n",
    "_2dc_arr1 = np.expand_dims(arr2,axis=0)\n",
    "print(_2dr_arr1)\n",
    "print(_2dc_arr2)\n",
    "np.append(_2dr_arr1,_2dc_arr1)"
   ]
  },
  {
   "cell_type": "code",
   "execution_count": 160,
   "id": "ecaaf82d-750c-407c-9024-e49f511012d5",
   "metadata": {},
   "outputs": [
    {
     "data": {
      "text/plain": [
       "array([[1, 2, 5],\n",
       "       [3, 4, 6]])"
      ]
     },
     "execution_count": 160,
     "metadata": {},
     "output_type": "execute_result"
    }
   ],
   "source": [
    "arr1 = np.array([[1,2],[3,4]])\n",
    "arr2 = np.array([[5,6]])\n",
    "np.concatenate((arr1,arr2.T),axis=1)"
   ]
  },
  {
   "cell_type": "code",
   "execution_count": 159,
   "id": "b41ea649-44a4-4fdf-96c1-f709087c5cd6",
   "metadata": {},
   "outputs": [
    {
     "data": {
      "text/plain": [
       "array([[1, 2],\n",
       "       [3, 4]])"
      ]
     },
     "execution_count": 159,
     "metadata": {},
     "output_type": "execute_result"
    }
   ],
   "source": [
    "arr1"
   ]
  },
  {
   "cell_type": "code",
   "execution_count": 163,
   "id": "e2428f25-80e9-4433-ad0e-e2d5f1d4ac10",
   "metadata": {},
   "outputs": [
    {
     "data": {
      "text/plain": [
       "array([[1, 4],\n",
       "       [2, 5],\n",
       "       [3, 6]])"
      ]
     },
     "execution_count": 163,
     "metadata": {},
     "output_type": "execute_result"
    }
   ],
   "source": [
    "arr1 = [1,2,3]\n",
    "arr2 = [4,5,6]\n",
    "np.c_[arr1,arr2] \n",
    "#np.c_ for second axis / axis = 1"
   ]
  },
  {
   "cell_type": "code",
   "execution_count": 164,
   "id": "70b6f123-6386-427f-8c7b-a3c7921c150b",
   "metadata": {},
   "outputs": [
    {
     "name": "stdout",
     "output_type": "stream",
     "text": [
      "Vertically stacked array: [[1 2]\n",
      " [3 4]\n",
      " [5 6]]\n"
     ]
    }
   ],
   "source": [
    "arr1 = np.array([[1, 2], [3, 4]])\n",
    "arr2 = np.array([[5, 6]])\n",
    "\n",
    "# Stack arr2 vertically on top of arr1\n",
    "stacked_arr = np.vstack((arr1, arr2))\n",
    "print(\"Vertically stacked array:\", stacked_arr)"
   ]
  },
  {
   "cell_type": "code",
   "execution_count": 167,
   "id": "188d7232-fb4e-435e-9cbd-cbcad132c249",
   "metadata": {},
   "outputs": [
    {
     "name": "stdout",
     "output_type": "stream",
     "text": [
      "Horizontally stacked array: [[1 2 5]\n",
      " [3 4 6]]\n"
     ]
    }
   ],
   "source": [
    "arr1 = np.array([[1, 2], [3, 4]])\n",
    "arr2 = np.array([[5], [6]])\n",
    "\n",
    "# Stack arr2 horizontally to the right of arr1\n",
    "stacked_arr = np.hstack((arr1, arr2))\n",
    "print(\"Horizontally stacked array:\", stacked_arr)"
   ]
  },
  {
   "cell_type": "code",
   "execution_count": 178,
   "id": "e16ce9a8-78a5-4c49-88cc-59b590ce6692",
   "metadata": {},
   "outputs": [
    {
     "data": {
      "text/plain": [
       "array([[ 1,  2,  3, 10],\n",
       "       [ 4,  5,  6, 20],\n",
       "       [ 7,  8,  9, 30]])"
      ]
     },
     "execution_count": 178,
     "metadata": {},
     "output_type": "execute_result"
    }
   ],
   "source": [
    "original_array = np.array([[1, 2, 3], [4, 5, 6], [7, 8, 9]])\n",
    "original_array\n",
    "new_array = np.array([[10,20,30]])\n",
    "\n",
    "# adding new row at the beginning\n",
    "\n",
    "np.insert(original_array,0,new_array,axis=0)\n",
    "\n",
    "# adding new row at the end\n",
    "\n",
    "np.insert(original_array,len(original_array),new_array,axis=0)\n",
    "\n",
    "# adding new array in the middle\n",
    "\n",
    "np.insert(original_array,2,new_array,axis=0)\n",
    "\n",
    "# same for column -> just need to change as axis = 1\n",
    "\n",
    "np.insert(original_array,len(original_array),new_array,axis=1)"
   ]
  },
  {
   "cell_type": "code",
   "execution_count": 240,
   "id": "5238719f-3c39-482b-b544-c8069cecbbc8",
   "metadata": {},
   "outputs": [
    {
     "data": {
      "text/plain": [
       "array([[0.69646919, 0.28613933, 0.22685145, 0.55131477, 0.71946897],\n",
       "       [0.42310646, 0.9807642 , 0.68482974, 0.4809319 , 0.39211752]])"
      ]
     },
     "execution_count": 240,
     "metadata": {},
     "output_type": "execute_result"
    }
   ],
   "source": [
    "np.random.seed(123)\n",
    "np.random.rand(2, 5)"
   ]
  },
  {
   "cell_type": "code",
   "execution_count": 242,
   "id": "1fa4aa48-e382-4b43-8524-6f3f5383561a",
   "metadata": {},
   "outputs": [
    {
     "data": {
      "text/plain": [
       "array([[0.69646919, 0.28613933, 0.22685145, 0.55131477, 0.71946897],\n",
       "       [0.42310646, 0.9807642 , 0.68482974, 0.4809319 , 0.39211752]])"
      ]
     },
     "execution_count": 242,
     "metadata": {},
     "output_type": "execute_result"
    }
   ],
   "source": [
    "import scipy as scipy\n",
    "scipy.stats.uniform.rvs(0, 1, size=(2, 5), random_state=123)"
   ]
  },
  {
   "cell_type": "code",
   "execution_count": 248,
   "id": "556fc9d9-9445-4bb2-8a44-2c177fb9f7c2",
   "metadata": {},
   "outputs": [
    {
     "data": {
      "text/plain": [
       "array([[ 1,  2,  3,  4],\n",
       "       [ 5,  6,  7,  8],\n",
       "       [ 9, 10, 11, 12]])"
      ]
     },
     "execution_count": 248,
     "metadata": {},
     "output_type": "execute_result"
    }
   ],
   "source": [
    "A = np.array([\n",
    "[1, 2, 3, 4], [5, 6, 7, 8], [ 9, 10, 11, 12 ]\n",
    "])\n",
    "A"
   ]
  },
  {
   "cell_type": "code",
   "execution_count": 244,
   "id": "308b49cb-c35f-4a50-8084-7ea253eb77f9",
   "metadata": {},
   "outputs": [
    {
     "data": {
      "text/plain": [
       "11"
      ]
     },
     "execution_count": 244,
     "metadata": {},
     "output_type": "execute_result"
    }
   ],
   "source": [
    "A.argmax()"
   ]
  },
  {
   "cell_type": "code",
   "execution_count": 245,
   "id": "f6ad357f-6eef-4a0a-883b-a9aed7d18872",
   "metadata": {},
   "outputs": [
    {
     "data": {
      "text/plain": [
       "12"
      ]
     },
     "execution_count": 245,
     "metadata": {},
     "output_type": "execute_result"
    }
   ],
   "source": [
    "A.size"
   ]
  },
  {
   "cell_type": "code",
   "execution_count": 246,
   "id": "e3bb3ae9-cc2c-4b14-bc53-beb7579f50de",
   "metadata": {},
   "outputs": [
    {
     "data": {
      "text/plain": [
       "array([ 1,  2,  3,  4,  5,  6,  7,  8,  9, 10, 11, 12])"
      ]
     },
     "execution_count": 246,
     "metadata": {},
     "output_type": "execute_result"
    }
   ],
   "source": [
    "A.ravel()"
   ]
  },
  {
   "cell_type": "code",
   "execution_count": 249,
   "id": "4e592dab-92c7-4694-bfca-64dcbf664fdd",
   "metadata": {},
   "outputs": [
    {
     "data": {
      "text/plain": [
       "array([[ 1,  2,  3],\n",
       "       [ 4,  5,  6],\n",
       "       [ 7,  8,  9],\n",
       "       [10, 11, 12]])"
      ]
     },
     "execution_count": 249,
     "metadata": {},
     "output_type": "execute_result"
    }
   ],
   "source": [
    "A.reshape(4,3)"
   ]
  },
  {
   "cell_type": "code",
   "execution_count": 250,
   "id": "a813eff6-02c3-4405-9747-5e07645c7869",
   "metadata": {},
   "outputs": [
    {
     "data": {
      "text/plain": [
       "array([[ 1,  2,  3,  4,  5,  6],\n",
       "       [ 7,  8,  9, 10, 11, 12]])"
      ]
     },
     "execution_count": 250,
     "metadata": {},
     "output_type": "execute_result"
    }
   ],
   "source": [
    "A.reshape(-1,6)"
   ]
  },
  {
   "cell_type": "code",
   "execution_count": 253,
   "id": "85e43127-39bf-4225-8dd6-9bab75f01094",
   "metadata": {},
   "outputs": [
    {
     "data": {
      "text/plain": [
       "array([[0.  , 0.25, 0.5 , 0.75, 1.  ]])"
      ]
     },
     "execution_count": 253,
     "metadata": {},
     "output_type": "execute_result"
    }
   ],
   "source": [
    "np.linspace(0, 1, 5).reshape(1,-1)"
   ]
  },
  {
   "cell_type": "code",
   "execution_count": 254,
   "id": "ec728c3a-83aa-44d9-8d97-ed23a824921c",
   "metadata": {},
   "outputs": [
    {
     "data": {
      "text/plain": [
       "array([[9099],\n",
       "       [2537],\n",
       "       [1832]])"
      ]
     },
     "execution_count": 254,
     "metadata": {},
     "output_type": "execute_result"
    }
   ],
   "source": [
    "np.array([9099, 2537, 1832]).reshape(-1, 1)"
   ]
  },
  {
   "cell_type": "code",
   "execution_count": 256,
   "id": "09ed1d12-026f-4553-9cee-bc1d69b6c570",
   "metadata": {},
   "outputs": [
    {
     "data": {
      "text/plain": [
       "array([[[ 0,  1,  2],\n",
       "        [ 3,  4,  5],\n",
       "        [ 6,  7,  8],\n",
       "        [ 9, 10, 11]],\n",
       "\n",
       "       [[12, 13, 14],\n",
       "        [15, 16, 17],\n",
       "        [18, 19, 20],\n",
       "        [21, 22, 23]]])"
      ]
     },
     "execution_count": 256,
     "metadata": {},
     "output_type": "execute_result"
    }
   ],
   "source": [
    "np.arange(24).reshape(2, 4, 3)\n",
    "\n",
    "# depth = 2\n",
    "# 4 = rows\n",
    "# 3 = columns"
   ]
  },
  {
   "cell_type": "code",
   "execution_count": 257,
   "id": "de92160e-d0f3-4752-8f1a-d5e02a6aa6f1",
   "metadata": {},
   "outputs": [
    {
     "data": {
      "text/plain": [
       "array([[ 97.1, 160.2,  34.7, ...,  35.8, 126.1, 117.9],\n",
       "       [ 91.1, 152.7,  33.5, ...,  38.5, 125.5, 103.1],\n",
       "       [ 73. , 161.2,  37.4, ...,  31.8, 106.2,  92. ],\n",
       "       ...,\n",
       "       [ 73. , 159.6,  36.2, ...,  31.4, 104.6,  99.3],\n",
       "       [ 78.6, 168.5,  38.1, ...,  36. , 102.4,  98.5],\n",
       "       [ 82.8, 147.8,  34.8, ...,  39.5, 121.4, 110. ]])"
      ]
     },
     "execution_count": 257,
     "metadata": {},
     "output_type": "execute_result"
    }
   ],
   "source": [
    "body"
   ]
  },
  {
   "cell_type": "code",
   "execution_count": 260,
   "id": "6a78dacc-2e2b-44ee-ae92-ec1178ecc3cb",
   "metadata": {},
   "outputs": [
    {
     "data": {
      "text/plain": [
       "array([[ 97.1, 160.2,  34.7,  40.8,  35.8, 126.1, 117.9],\n",
       "       [ 91.1, 152.7,  33.5,  33. ,  38.5, 125.5, 103.1],\n",
       "       [ 73. , 161.2,  37.4,  38. ,  31.8, 106.2,  92. ],\n",
       "       [ 61.7, 157.4,  38. ,  34.7,  29. , 101. ,  90.5],\n",
       "       [ 55.4, 154.6,  34.6,  34. ,  28.3,  92.5,  73.2],\n",
       "       [ 62. , 144.7,  32.5,  34.2,  29.8, 106.7,  84.8]])"
      ]
     },
     "execution_count": 260,
     "metadata": {},
     "output_type": "execute_result"
    }
   ],
   "source": [
    "body[:6,:]"
   ]
  },
  {
   "cell_type": "code",
   "execution_count": 261,
   "id": "f0753436-bf05-4758-8bcf-5f2090b1bd89",
   "metadata": {},
   "outputs": [
    {
     "data": {
      "text/plain": [
       "(4221, 7)"
      ]
     },
     "execution_count": 261,
     "metadata": {},
     "output_type": "execute_result"
    }
   ],
   "source": [
    "body.shape"
   ]
  },
  {
   "cell_type": "code",
   "execution_count": 266,
   "id": "47e506a1-561e-4e15-a44e-50b895175fd1",
   "metadata": {},
   "outputs": [
    {
     "data": {
      "image/png": "[encoded data removed]",
      "text/plain": [
       "<Figure size 640x480 with 1 Axes>"
      ]
     },
     "metadata": {},
     "output_type": "display_data"
    }
   ],
   "source": [
    "\n",
    "# visualizing the data\n",
    "\n",
    "import matplotlib.pyplot as plt\n",
    "\n",
    "plt.plot(body[:,1], body[:,3],\"o\")\n",
    "plt.xlabel(body_columns[1])\n",
    "plt.ylabel(body_columns[3])\n",
    "plt.show()"
   ]
  },
  {
   "cell_type": "code",
   "execution_count": 268,
   "id": "b6eabb6a-03c7-4e30-a02b-a03b72a028f0",
   "metadata": {},
   "outputs": [
    {
     "data": {
      "text/plain": [
       "array([131.1,  30.8])"
      ]
     },
     "execution_count": 268,
     "metadata": {},
     "output_type": "execute_result"
    }
   ],
   "source": [
    "body[np.argmin(body[:, 1]), [1, 3]]"
   ]
  },
  {
   "cell_type": "code",
   "execution_count": 272,
   "id": "6e97521b-ec25-42cc-80df-c3631f35e87f",
   "metadata": {},
   "outputs": [
    {
     "data": {
      "text/plain": [
       "array([168.9,  49.1])"
      ]
     },
     "execution_count": 272,
     "metadata": {},
     "output_type": "execute_result"
    }
   ],
   "source": [
    "# and here is the one with the greatest upper leg length:\n",
    "body[np.argmax(body[:, 3]), [1, 3]]"
   ]
  },
  {
   "cell_type": "code",
   "execution_count": 271,
   "id": "71840eed-9865-4367-8088-57a34d385315",
   "metadata": {},
   "outputs": [
    {
     "data": {
      "text/plain": [
       "array([168.9,  49.1])"
      ]
     },
     "execution_count": 271,
     "metadata": {},
     "output_type": "execute_result"
    }
   ],
   "source": [
    "body[np.argmax(body[:, 3]),[1,3]]"
   ]
  }
 ],
 "metadata": {
  "kernelspec": {
   "display_name": "Python 3 (ipykernel)",
   "language": "python",
   "name": "python3"
  },
  "language_info": {
   "codemirror_mode": {
    "name": "ipython",
    "version": 3
   },
   "file_extension": ".py",
   "mimetype": "text/x-python",
   "name": "python",
   "nbconvert_exporter": "python",
   "pygments_lexer": "ipython3",
   "version": "3.9.5"
  }
 },
 "nbformat": 4,
 "nbformat_minor": 5
}
